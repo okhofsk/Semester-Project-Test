{
 "cells": [
  {
   "cell_type": "code",
   "execution_count": 1,
   "metadata": {},
   "outputs": [],
   "source": [
    "# Import Libraries and Dependencies\n",
    "import matrix_games\n",
    "from matrix_games.base import*\n",
    "from matrix_games.generate import*"
   ]
  },
  {
   "cell_type": "code",
   "execution_count": 2,
   "metadata": {},
   "outputs": [
    {
     "name": "stdout",
     "output_type": "stream",
     "text": [
      "24\n"
     ]
    }
   ],
   "source": [
    "a = np.array(range(4,25))\n",
    "print(np.max(a))"
   ]
  },
  {
   "cell_type": "code",
   "execution_count": 15,
   "metadata": {
    "scrolled": false
   },
   "outputs": [
    {
     "name": "stdout",
     "output_type": "stream",
     "text": [
      "Matrix A: [[0.75540846 0.20299844 0.38024612 ... 0.77566541 0.83798729 0.70002506]\n",
      " [0.81868852 0.91524134 0.02806517 ... 0.93934424 0.38007988 0.27239018]\n",
      " [0.74153542 0.31107111 0.0589246  ... 0.41902385 0.94415397 0.42026309]\n",
      " ...\n",
      " [0.69118613 0.95685219 0.80792362 ... 0.42863861 0.8348412  0.71880307]\n",
      " [0.49757945 0.54658332 0.31023144 ... 0.12875851 0.27131899 0.56453572]\n",
      " [0.65888821 0.91176466 0.01023387 ... 0.83406258 0.82202628 0.07417555]]\n",
      " Matrix F: [[ 0.          0.          0.         ...  0.69118613  0.49757945\n",
      "   0.65888821]\n",
      " [ 0.          0.          0.         ...  0.95685219  0.54658332\n",
      "   0.91176466]\n",
      " [ 0.          0.          0.         ...  0.80792362  0.31023144\n",
      "   0.01023387]\n",
      " ...\n",
      " [-0.69118613 -0.95685219 -0.80792362 ...  0.          0.\n",
      "   0.        ]\n",
      " [-0.49757945 -0.54658332 -0.31023144 ...  0.          0.\n",
      "   0.        ]\n",
      " [-0.65888821 -0.91176466 -0.01023387 ...  0.          0.\n",
      "   0.        ]]\n",
      " Proximal Operator: [0.0005 0.0005 0.0005 ... 0.0005 0.0005 0.0005]\n",
      " Simplex?: True\n",
      " J Operator: 81.12455144396608\n",
      "\n",
      "[  996.47400408   987.31972843  1011.78930835 ...  -990.0546064\n",
      "  -987.77816432 -1006.70952974]\n"
     ]
    }
   ],
   "source": [
    "dimN = 2000\n",
    "dimM = 2000\n",
    "q0 = np.ones(dimN + dimM)\n",
    "proximal_name = \"simplex\"\n",
    "\n",
    "A = create_A(\"rand\", (dimN,dimM))\n",
    "prob = mg_problem(A, proximal_name)\n",
    "F_mg, J_mg, _, prox_g_mg = prob.get_parameters()\n",
    "print(prob)\n",
    "print(F_mg(q0))"
   ]
  },
  {
   "cell_type": "markdown",
   "metadata": {},
   "source": [
    "Adaptive Graal Implemntation"
   ]
  },
  {
   "cell_type": "code",
   "execution_count": 16,
   "metadata": {},
   "outputs": [],
   "source": [
    "def adaptive_graal(J, F, prox_g, x1, numb_iter=100, phi=1.5, output=False): \n",
    "    begin = perf_counter()\n",
    "    x, x_ = x1.copy(), x1.copy()\n",
    "    x0 = x + np.random.randn(x.shape[0]) * 1e-9\n",
    "    Fx = F(x)\n",
    "    la = phi / 2 * LA.norm(x - x0) / LA.norm(Fx - F(x0))\n",
    "    rho = 1. / phi + 1. / phi**2\n",
    "    values = [J(x)]\n",
    "    diff = [0]\n",
    "    time_list = [perf_counter() - begin]\n",
    "    th = 1\n",
    "\n",
    "    for i in range(numb_iter):\n",
    "        x1 = prox_g(x_ - la * Fx, la)\n",
    "        Fx1 = F(x1)\n",
    "        if output:\n",
    "            #print(\"F: \", Fx1, \"\\n\")\n",
    "            print(\"x: \", x1, \"\\n\")\n",
    "            print(\"sum: \", sum(x1), \"\\n\")\n",
    "            print(\"x>=0: \", np.any((x1 >= 0)))\n",
    "            #print(\"prox: \", prox_g(x_ - la * Fx, la), \"\\n\")\n",
    "\n",
    "        n1 = LA.norm(x1 - x)**2\n",
    "        n2 = LA.norm(Fx1 - Fx)**2\n",
    "        n1_div_n2 = n1/n2 if n2 != 0 else la*10\n",
    "\n",
    "        la1 = min(rho * la, 0.25 * phi * th / la * n1_div_n2)\n",
    "        x_ = ((phi - 1) * x1 + x_) / phi\n",
    "        #if output:\n",
    "            #print (i, la)\n",
    "        th = phi * la1 / la\n",
    "        x, la, Fx = x1, la1, Fx1\n",
    "        #if i%50 == 0: \n",
    "            #print(\"x at iteration \", i , \": \", x)\n",
    "        temp = values[-1]\n",
    "        values.append(J(x))\n",
    "        diff.append(np.absolute(temp - values[-1]))\n",
    "        time_list.append(perf_counter() - begin)\n",
    "    end = perf_counter()\n",
    "\n",
    "    print(\"CPU time for aGRAAL:\", end - begin)\n",
    "    return values, x, x_, time_list, diff"
   ]
  },
  {
   "cell_type": "markdown",
   "metadata": {},
   "source": [
    "Solving the VI"
   ]
  },
  {
   "cell_type": "code",
   "execution_count": 17,
   "metadata": {},
   "outputs": [],
   "source": [
    "N = 20000\n",
    "\n",
    "# starting point\n",
    "q0 = np.ones(dimN + dimM)"
   ]
  },
  {
   "cell_type": "code",
   "execution_count": 18,
   "metadata": {
    "scrolled": true
   },
   "outputs": [
    {
     "name": "stdout",
     "output_type": "stream",
     "text": [
      "CPU time for aGRAAL: 383.8192894\n"
     ]
    }
   ],
   "source": [
    "show_out = False\n",
    "ans1 = adaptive_graal(J_mg, F_mg, prox_g_mg, q0, numb_iter=N, phi=1.5, output=show_out)"
   ]
  },
  {
   "cell_type": "code",
   "execution_count": 19,
   "metadata": {
    "scrolled": false
   },
   "outputs": [],
   "source": [
    "if show_out:\n",
    "    print(\"J(x): \" , ans1[0][-1])\n",
    "    print(\"x: \" ,ans1[1])\n",
    "    print(\"diff: \", ans1[4])"
   ]
  },
  {
   "cell_type": "code",
   "execution_count": 20,
   "metadata": {},
   "outputs": [
    {
     "data": {
      "image/png": "[encoded data removed]",
      "text/plain": [
       "<Figure size 432x288 with 1 Axes>"
      ]
     },
     "metadata": {
      "needs_background": "light"
     },
     "output_type": "display_data"
    }
   ],
   "source": [
    "plt.plot(ans1[0], '--b')\n",
    "\n",
    "plt.yscale('log')\n",
    "\n",
    "plt.xlabel(u' iterations, $k$')\n",
    "plt.ylabel(u'residual')\n",
    "\n",
    "#plt.savefig('figures/nash.pdf', bbox_inches='tight')\n",
    "plt.show()"
   ]
  },
  {
   "cell_type": "code",
   "execution_count": 10,
   "metadata": {},
   "outputs": [
    {
     "name": "stdout",
     "output_type": "stream",
     "text": [
      "[0.09254932533120652, 0.43843037455439143, 0.1954550844905319, 0.19552681875542166, 0.1954839152370465, 0.19543623720892112, 0.1953832845710412, 0.195324476625845, 0.19525916943409444, 0.19518664907059524, 0.19510612421564982, 0.19501671800993037, 0.19491745911148628, 0.19480727189148228, 0.1946849657043329, 0.19454922316818485, 0.19439858739377947, 0.19437626600902513, 0.19479854468340552, 0.19537903914871402, 0.19565123991747047, 0.1956873453510548, 0.19568823051395717, 0.19568823051395712, 0.19568823051395706, 0.1956882305139569, 0.195688230513957, 0.19568823051395712, 0.19568823051395717, 0.195688230513957, 0.19568823051395712, 0.19568823051395717, 0.1956882305139569, 0.19568823051395706, 0.19568823051395706, 0.19568823051395695, 0.19568823051395695, 0.19568823051395717, 0.1956882305139569, 0.19568823051395712, 0.19568823051395695, 0.195688230513958, 0.19568823051395728, 0.19568823051395717, 0.19568823051395717, 0.19568823051395717, 0.19568823051395728, 0.19568823051395717, 0.19568823051395728, 0.19568823051395712, 0.195688230513957, 0.19568823051395717, 0.19568823051395728, 0.19568823051395706, 0.19568823051395712, 0.19568823051395706, 0.19568823051395734, 0.1956882305139574, 0.19568823051395712, 0.19568823051395706, 0.19568823051395717, 0.19568823051395712, 0.19568823051395728, 0.19568823051395717, 0.19568823051395695, 0.19568823051395706, 0.19568823051395712, 0.195688230513957, 0.19568823051395695, 0.19568823051395712, 0.19568823051395712, 0.19568823051395717, 0.19568823051395712, 0.19568823051395717, 0.19568823051395728, 0.19568823051395712, 0.1956882305139574, 0.19568823051395717, 0.19568823051395728, 0.19568823051395695, 0.19568823051395734, 0.19568823051395717, 0.19568823051395734, 0.19568823051395734, 0.19568823051395695, 0.19568823051395706, 0.19568823051395717, 0.19568823051395728, 0.19568823051395706, 0.19568823051395706, 0.19568823051395717, 0.19568823051395717, 0.19568823051395717, 0.1956882305139569, 0.19568823051395728, 0.19568823051395706, 0.19568823051395706, 0.19568823051395712, 0.19568823051395723, 0.195688230513957, 0.19568823051395734, 0.19568823051395734, 0.19568823051395695, 0.19568823051395728, 0.19568823051395728, 0.195688230513957, 0.19568823051395728, 0.19568823051395734, 0.1956882305139569, 0.195688230513957, 0.19568823051395712, 0.19568823051395717, 0.19568823051395712, 0.19568823051395717, 0.19568823051395712, 0.19568823051395717, 0.19568823051395712, 0.19568823051395717, 0.19568823051395712, 0.19568823051395717, 0.19568823051395712, 0.19568823051395717, 0.19568823051395712, 0.19568823051395717, 0.19568823051395712, 0.19568823051395717, 0.19568823051395712, 0.19568823051395717, 0.19568823051395712, 0.19568823051395717, 0.19568823051395712, 0.19568823051395717, 0.19568823051395712, 0.19568823051395717, 0.19568823051395712, 0.19568823051395717, 0.19568823051395712, 0.19568823051395717, 0.19568823051395712, 0.19568823051395717, 0.19568823051395712, 0.19568823051395717, 0.19568823051395712, 0.19568823051395717, 0.19568823051395712, 0.19568823051395717, 0.19568823051395712, 0.19568823051395717, 0.19568823051395712, 0.19568823051395717, 0.19568823051395712, 0.19568823051395717, 0.19568823051395712, 0.19568823051395717, 0.19568823051395712, 0.19568823051395717, 0.19568823051395712, 0.19568823051395717, 0.19568823051395712, 0.19568823051395717, 0.19568823051395712, 0.19568823051395717, 0.19568823051395712, 0.19568823051395717, 0.19568823051395712, 0.19568823051395717, 0.19568823051395712, 0.19568823051395717, 0.19568823051395712, 0.19568823051395717, 0.19568823051395712, 0.19568823051395717, 0.19568823051395712, 0.19568823051395717, 0.19568823051395712, 0.19568823051395717, 0.19568823051395712, 0.19568823051395717, 0.19568823051395712, 0.19568823051395717, 0.19568823051395712, 0.19568823051395717, 0.19568823051395712, 0.19568823051395717, 0.19568823051395712, 0.19568823051395717, 0.19568823051395712, 0.19568823051395717, 0.19568823051395712, 0.19568823051395717, 0.19568823051395712, 0.19568823051395717, 0.19568823051395712, 0.19568823051395717, 0.19568823051395712, 0.19568823051395717, 0.19568823051395712, 0.19568823051395717, 0.19568823051395712, 0.19568823051395717, 0.19568823051395712]\n"
     ]
    }
   ],
   "source": [
    "print(ans1[0])"
   ]
  },
  {
   "cell_type": "code",
   "execution_count": null,
   "metadata": {},
   "outputs": [],
   "source": []
  },
  {
   "cell_type": "code",
   "execution_count": null,
   "metadata": {},
   "outputs": [],
   "source": []
  }
 ],
 "metadata": {
  "kernelspec": {
   "display_name": "Python 3",
   "language": "python",
   "name": "python3"
  },
  "language_info": {
   "codemirror_mode": {
    "name": "ipython",
    "version": 3
   },
   "file_extension": ".py",
   "mimetype": "text/x-python",
   "name": "python",
   "nbconvert_exporter": "python",
   "pygments_lexer": "ipython3",
   "version": "3.7.4"
  }
 },
 "nbformat": 4,
 "nbformat_minor": 4
}
