{
 "cells": [
  {
   "cell_type": "code",
   "execution_count": 1,
   "metadata": {},
   "outputs": [],
   "source": [
    "# Import Libraries and Dependencies\n",
    "import matrix_games\n",
    "from matrix_games.base import*\n",
    "from matrix_games.generate import*\n",
    "\n",
    "#seed\n",
    "np.random.seed(78456)"
   ]
  },
  {
   "cell_type": "code",
   "execution_count": 5,
   "metadata": {},
   "outputs": [
    {
     "name": "stdout",
     "output_type": "stream",
     "text": [
      "<function Fx.<locals>.F at 0x0000020DB08DE678>\n",
      "[[0.38717346 0.48831048 0.98353533 0.22855614 0.20142963 0.54800547\n",
      "  0.43112141]\n",
      " [0.         0.4644307  0.53595575 0.81170453 0.64204365 0.31081663\n",
      "  0.26070067]\n",
      " [0.         0.         0.12492696 0.53401464 0.36361177 0.34002428\n",
      "  0.11453095]\n",
      " [0.         0.         0.         0.69479984 0.54744953 0.95947549\n",
      "  0.2110448 ]]\n",
      "<function J_operator.<locals>.J at 0x0000020DB0759A68>\n",
      "<function proxg_operator.<locals>._prox_g at 0x0000020DB0759CA8>\n"
     ]
    }
   ],
   "source": [
    "prob = mg_problem(\"triangular\", (4,7))\n",
    "fx, j_op, prox_g_op = prob.get_parameters()\n",
    "print(fx)\n",
    "print(prob.A)\n",
    "print(j_op)\n",
    "print(prox_g_op)"
   ]
  },
  {
   "cell_type": "code",
   "execution_count": 3,
   "metadata": {},
   "outputs": [],
   "source": [
    "? mg_problem"
   ]
  },
  {
   "cell_type": "code",
   "execution_count": 6,
   "metadata": {},
   "outputs": [
    {
     "data": {
      "text/plain": [
       "array([[1, 0, 0, 0, 0],\n",
       "       [0, 1, 0, 0, 1],\n",
       "       [0, 1, 1, 1, 0]])"
      ]
     },
     "execution_count": 6,
     "metadata": {},
     "output_type": "execute_result"
    }
   ],
   "source": [
    "create_A(\"marriage_problem\", True, True, (3,5))"
   ]
  },
  {
   "cell_type": "code",
   "execution_count": null,
   "metadata": {},
   "outputs": [],
   "source": []
  },
  {
   "cell_type": "code",
   "execution_count": null,
   "metadata": {},
   "outputs": [],
   "source": []
  }
 ],
 "metadata": {
  "kernelspec": {
   "display_name": "Python 3",
   "language": "python",
   "name": "python3"
  },
  "language_info": {
   "codemirror_mode": {
    "name": "ipython",
    "version": 3
   },
   "file_extension": ".py",
   "mimetype": "text/x-python",
   "name": "python",
   "nbconvert_exporter": "python",
   "pygments_lexer": "ipython3",
   "version": "3.7.4"
  }
 },
 "nbformat": 4,
 "nbformat_minor": 2
}
