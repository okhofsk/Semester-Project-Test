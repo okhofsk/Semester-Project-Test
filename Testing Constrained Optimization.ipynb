{
 "cells": [
  {
   "cell_type": "code",
   "execution_count": 3,
   "metadata": {},
   "outputs": [],
   "source": [
    "# Import Libraries and Dependencies\n",
    "import constrained_optimization\n",
    "from constrained_optimization.base import*\n",
    "from constrained_optimization.generate import*"
   ]
  },
  {
   "cell_type": "code",
   "execution_count": 6,
   "metadata": {},
   "outputs": [
    {
     "name": "stdout",
     "output_type": "stream",
     "text": [
      "--- 0.019947052001953125 seconds ---\n"
     ]
    }
   ],
   "source": [
    "dimX = 100\n",
    "dimY = 100\n",
    "dimU = 100\n",
    "\n",
    "import time\n",
    "start_time = time.time()\n",
    "p, q, r, A, b = randQCQP(dimX,dimY,True,True, dimU)\n",
    "print(\"--- %s seconds ---\" % (time.time() - start_time))\n"
   ]
  },
  {
   "cell_type": "code",
   "execution_count": 5,
   "metadata": {},
   "outputs": [
    {
     "name": "stdout",
     "output_type": "stream",
     "text": [
      "--- 77.44616961479187 seconds ---\n"
     ]
    }
   ],
   "source": [
    "p, q, r, A, b = randQCQPmat(dimX,dimY,True,True, dimU)"
   ]
  },
  {
   "cell_type": "code",
   "execution_count": 4,
   "metadata": {},
   "outputs": [],
   "source": [
    "M_ = 3\n",
    "N_ = 2\n",
    "convex_ = False\n",
    "\n",
    "x_rand = np.random.rand(N_)\n",
    "q_temp = np.random.rand(M_+1, N_)\n",
    "p_temp = np.random.rand(M_+1, N_, N_)\n",
    "if convex_:\n",
    "    p_temp = np.matmul(p_temp, np.transpose(p_temp, (0,2,1)))\n",
    "else :\n",
    "    p_temp = np.maximum(p_temp, np.transpose(p_temp, (0,2,1)))\n",
    "r_temp = -0.5*np.transpose(x_rand)@p_temp@x_rand - q_temp@x_rand"
   ]
  },
  {
   "cell_type": "code",
   "execution_count": 7,
   "metadata": {},
   "outputs": [
    {
     "ename": "NameError",
     "evalue": "name 'hx' is not defined",
     "output_type": "error",
     "traceback": [
      "\u001b[1;31m---------------------------------------------------------------------------\u001b[0m",
      "\u001b[1;31mNameError\u001b[0m                                 Traceback (most recent call last)",
      "\u001b[1;32m<ipython-input-7-1ce8b9ac40fc>\u001b[0m in \u001b[0;36m<module>\u001b[1;34m\u001b[0m\n\u001b[0;32m      4\u001b[0m \u001b[0mhxs\u001b[0m \u001b[1;33m=\u001b[0m \u001b[1;33m[\u001b[0m\u001b[1;33m]\u001b[0m\u001b[1;33m\u001b[0m\u001b[1;33m\u001b[0m\u001b[0m\n\u001b[0;32m      5\u001b[0m \u001b[0mgradhs\u001b[0m \u001b[1;33m=\u001b[0m \u001b[1;33m[\u001b[0m\u001b[1;33m]\u001b[0m\u001b[1;33m\u001b[0m\u001b[1;33m\u001b[0m\u001b[0m\n\u001b[1;32m----> 6\u001b[1;33m \u001b[1;32mfor\u001b[0m \u001b[0mi\u001b[0m \u001b[1;32min\u001b[0m \u001b[0mrange\u001b[0m\u001b[1;33m(\u001b[0m\u001b[0mlen\u001b[0m\u001b[1;33m(\u001b[0m\u001b[0mhx\u001b[0m\u001b[1;33m)\u001b[0m\u001b[1;33m)\u001b[0m\u001b[1;33m:\u001b[0m\u001b[1;33m\u001b[0m\u001b[1;33m\u001b[0m\u001b[0m\n\u001b[0m\u001b[0;32m      7\u001b[0m     \u001b[0mtemp\u001b[0m \u001b[1;33m=\u001b[0m \u001b[1;32mlambda\u001b[0m \u001b[0mx\u001b[0m\u001b[1;33m:\u001b[0m \u001b[1;33m-\u001b[0m\u001b[1;36m1\u001b[0m\u001b[1;33m*\u001b[0m\u001b[0mhx\u001b[0m\u001b[1;33m[\u001b[0m\u001b[0mi\u001b[0m\u001b[1;33m]\u001b[0m\u001b[1;33m(\u001b[0m\u001b[0mx\u001b[0m\u001b[1;33m)\u001b[0m\u001b[1;33m\u001b[0m\u001b[1;33m\u001b[0m\u001b[0m\n\u001b[0;32m      8\u001b[0m     \u001b[0mhxs\u001b[0m\u001b[1;33m.\u001b[0m\u001b[0mappend\u001b[0m\u001b[1;33m(\u001b[0m\u001b[0mtemp\u001b[0m\u001b[1;33m)\u001b[0m\u001b[1;33m\u001b[0m\u001b[1;33m\u001b[0m\u001b[0m\n",
      "\u001b[1;31mNameError\u001b[0m: name 'hx' is not defined"
     ]
    }
   ],
   "source": [
    "\n",
    "#start_time = time.time()\n",
    "#fx, hx, gradf, gradh = toQCQPmat(p, q, r)\n",
    "#print(\"--- %s seconds ---\" % (time.time() - start_time))\n",
    "hxs = []\n",
    "gradhs = []\n",
    "for i in range(len(hx)):\n",
    "    temp = lambda x: -1*hx[i](x)\n",
    "    hxs.append(temp)\n",
    "    temp = lambda x: -1*gradh[i](x)\n",
    "    gradhs.append(temp)"
   ]
  },
  {
   "cell_type": "code",
   "execution_count": 8,
   "metadata": {
    "scrolled": true
   },
   "outputs": [],
   "source": [
    "fx, hx, gradf, gradh = toQCQP(p, q, r)"
   ]
  },
  {
   "cell_type": "code",
   "execution_count": 10,
   "metadata": {},
   "outputs": [
    {
     "data": {
      "text/plain": [
       "array([ 2.54426627e+07,  2.54425135e+07,  2.54427070e+07,  2.54426144e+07,\n",
       "        2.54427723e+07,  2.54426419e+07,  2.54425833e+07,  2.54429227e+07,\n",
       "        2.54425351e+07,  2.54427596e+07,  2.54425281e+07,  2.54429134e+07,\n",
       "        2.54421441e+07,  2.54427585e+07,  2.54425973e+07,  2.54429722e+07,\n",
       "        2.54425077e+07,  2.54428648e+07,  2.54425798e+07,  2.54426198e+07,\n",
       "        2.54427732e+07,  2.54428370e+07,  2.54426040e+07,  2.54426142e+07,\n",
       "        2.54424985e+07,  2.54424924e+07,  2.54427362e+07,  2.54426522e+07,\n",
       "        2.54426629e+07,  2.54424724e+07,  2.54426401e+07,  2.54428294e+07,\n",
       "        2.54425212e+07,  2.54423945e+07,  2.54423387e+07,  2.54427092e+07,\n",
       "        2.54429765e+07,  2.54427021e+07,  2.54425283e+07,  2.54425699e+07,\n",
       "        2.54425549e+07,  2.54427496e+07,  2.54428398e+07,  2.54424297e+07,\n",
       "        2.54428139e+07,  2.54419947e+07,  2.54425626e+07,  2.54426995e+07,\n",
       "        2.54425621e+07,  2.54427314e+07,  2.54427014e+07,  2.54425940e+07,\n",
       "        2.54427192e+07,  2.54426026e+07,  2.54427321e+07,  2.54427618e+07,\n",
       "        2.54424001e+07,  2.54429346e+07,  2.54423573e+07,  2.54427926e+07,\n",
       "        2.54426857e+07,  2.54424872e+07,  2.54425869e+07,  2.54425171e+07,\n",
       "        2.54426047e+07,  2.54425004e+07,  2.54425927e+07,  2.54425588e+07,\n",
       "        2.54425341e+07,  2.54429787e+07,  2.54425745e+07,  2.54425975e+07,\n",
       "        2.54425565e+07,  2.54425159e+07,  2.54423723e+07,  2.54427406e+07,\n",
       "        2.54427507e+07,  2.54427284e+07,  2.54422994e+07,  2.54424336e+07,\n",
       "        2.54429670e+07,  2.54425661e+07,  2.54425218e+07,  2.54429193e+07,\n",
       "        2.54427002e+07,  2.54425839e+07,  2.54424078e+07,  2.54425419e+07,\n",
       "        2.54425531e+07,  2.54427271e+07,  2.54425913e+07,  2.54423024e+07,\n",
       "        2.54427953e+07,  2.54423755e+07,  2.54427078e+07,  2.54429958e+07,\n",
       "        2.54426479e+07,  2.54426193e+07,  2.54424648e+07,  2.54424272e+07,\n",
       "       -9.49088726e+04, -9.49088726e+04, -9.49088726e+04, -9.49088726e+04,\n",
       "       -9.49088726e+04, -9.49088726e+04, -9.49088726e+04, -9.49088726e+04,\n",
       "       -9.49088726e+04, -9.49088726e+04, -9.49088726e+04, -9.49088726e+04,\n",
       "       -9.49088726e+04, -9.49088726e+04, -9.49088726e+04, -9.49088726e+04,\n",
       "       -9.49088726e+04, -9.49088726e+04, -9.49088726e+04, -9.49088726e+04,\n",
       "       -9.49088726e+04, -9.49088726e+04, -9.49088726e+04, -9.49088726e+04,\n",
       "       -9.49088726e+04, -9.49088726e+04, -9.49088726e+04, -9.49088726e+04,\n",
       "       -9.49088726e+04, -9.49088726e+04, -9.49088726e+04, -9.49088726e+04,\n",
       "       -9.49088726e+04, -9.49088726e+04, -9.49088726e+04, -9.49088726e+04,\n",
       "       -9.49088726e+04, -9.49088726e+04, -9.49088726e+04, -9.49088726e+04,\n",
       "       -9.49088726e+04, -9.49088726e+04, -9.49088726e+04, -9.49088726e+04,\n",
       "       -9.49088726e+04, -9.49088726e+04, -9.49088726e+04, -9.49088726e+04,\n",
       "       -9.49088726e+04, -9.49088726e+04, -9.49088726e+04, -9.49088726e+04,\n",
       "       -9.49088726e+04, -9.49088726e+04, -9.49088726e+04, -9.49088726e+04,\n",
       "       -9.49088726e+04, -9.49088726e+04, -9.49088726e+04, -9.49088726e+04,\n",
       "       -9.49088726e+04, -9.49088726e+04, -9.49088726e+04, -9.49088726e+04,\n",
       "       -9.49088726e+04, -9.49088726e+04, -9.49088726e+04, -9.49088726e+04,\n",
       "       -9.49088726e+04, -9.49088726e+04, -9.49088726e+04, -9.49088726e+04,\n",
       "       -9.49088726e+04, -9.49088726e+04, -9.49088726e+04, -9.49088726e+04,\n",
       "       -9.49088726e+04, -9.49088726e+04, -9.49088726e+04, -9.49088726e+04,\n",
       "       -9.49088726e+04, -9.49088726e+04, -9.49088726e+04, -9.49088726e+04,\n",
       "       -9.49088726e+04, -9.49088726e+04, -9.49088726e+04, -9.49088726e+04,\n",
       "       -9.49088726e+04, -9.49088726e+04, -9.49088726e+04, -9.49088726e+04,\n",
       "       -9.49088726e+04, -9.49088726e+04, -9.49088726e+04, -9.49088726e+04,\n",
       "       -9.49088726e+04, -9.49088726e+04, -9.49088726e+04, -9.49088726e+04,\n",
       "       -2.40537319e+01, -2.12852330e+01, -2.36014045e+01, -2.37791255e+01,\n",
       "       -2.49186595e+01, -2.30424329e+01, -2.71576350e+01, -2.52714774e+01,\n",
       "       -2.85529009e+01, -2.60198967e+01, -2.69470070e+01, -2.58580761e+01,\n",
       "       -2.39959868e+01, -2.69899715e+01, -2.75388121e+01, -2.38735187e+01,\n",
       "       -2.68110846e+01, -2.89340473e+01, -2.49738650e+01, -2.33155731e+01,\n",
       "       -2.48684966e+01, -2.62058536e+01, -2.43815865e+01, -2.50117900e+01,\n",
       "       -2.54942267e+01, -2.60632031e+01, -2.25901338e+01, -2.53666478e+01,\n",
       "       -2.33067659e+01, -2.52435762e+01, -2.47179446e+01, -2.45541366e+01,\n",
       "       -2.45558541e+01, -2.69707821e+01, -2.53546016e+01, -2.41371621e+01,\n",
       "       -2.49795378e+01, -2.41112447e+01, -2.78586717e+01, -2.53338462e+01,\n",
       "       -2.39483976e+01, -2.84332829e+01, -2.33806850e+01, -2.70041872e+01,\n",
       "       -2.27729192e+01, -2.15082291e+01, -2.75282332e+01, -2.26729770e+01,\n",
       "       -2.21414872e+01, -2.32647276e+01, -2.17933152e+01, -2.73969752e+01,\n",
       "       -2.57365120e+01, -2.56385526e+01, -2.68042264e+01, -2.25489184e+01,\n",
       "       -2.48777350e+01, -2.72403353e+01, -2.62458106e+01, -2.39673841e+01,\n",
       "       -2.40641586e+01, -2.74334615e+01, -2.53043666e+01, -2.74535560e+01,\n",
       "       -2.52285570e+01, -2.31483593e+01, -2.47459105e+01, -2.55059291e+01,\n",
       "       -2.54825400e+01, -2.69993188e+01, -2.68547842e+01, -2.60103189e+01,\n",
       "       -2.71094210e+01, -2.53196542e+01, -2.33972361e+01, -2.51193276e+01,\n",
       "       -2.25474962e+01, -2.45556837e+01, -2.36951665e+01, -2.70332087e+01,\n",
       "       -1.92991568e+01, -2.68439582e+01, -2.63372011e+01, -2.55879102e+01,\n",
       "       -2.23056447e+01, -2.56617732e+01, -2.61721699e+01, -2.50183066e+01,\n",
       "       -2.62458575e+01, -2.65498463e+01, -2.33401416e+01, -2.73840337e+01,\n",
       "       -2.44964646e+01, -2.74987989e+01, -2.67410459e+01, -2.63991152e+01,\n",
       "       -2.16726681e+01, -2.68886000e+01, -2.54611740e+01, -2.47050307e+01])"
      ]
     },
     "execution_count": 10,
     "metadata": {},
     "output_type": "execute_result"
    }
   ],
   "source": [
    "prob = co_problem(fx, dimX, hx, None, gradf, gradh, A, b)\n",
    "\n",
    "x = np.ones(dimX+dimY+dimU)\n",
    "F_co, J_co = prob.get_parameters(False)\n",
    "F_co(x)"
   ]
  },
  {
   "cell_type": "markdown",
   "metadata": {},
   "source": [
    "## Adaptive Graal to solve VI"
   ]
  },
  {
   "cell_type": "code",
   "execution_count": 11,
   "metadata": {},
   "outputs": [],
   "source": [
    "def adaptive_graal(J, F, prox_g, x1, numb_iter=100, phi=1.5, output=False): \n",
    "    begin = perf_counter()\n",
    "    x, x_ = x1.copy(), x1.copy()\n",
    "    x0 = x + np.random.randn(x.shape[0]) * 1e-9\n",
    "    Fx = F(x)\n",
    "    la = phi / 2 * LA.norm(x - x0) / LA.norm(Fx - F(x0))\n",
    "    rho = 1. / phi + 1. / phi**2\n",
    "    values = [J(x)]\n",
    "    time_list = [perf_counter() - begin]\n",
    "    th = 1\n",
    "\n",
    "    for i in range(numb_iter):\n",
    "        x1 = prox_g(x_ - la * Fx, la)\n",
    "        Fx1 = F(x1)\n",
    "\n",
    "        n1 = LA.norm(x1 - x)**2\n",
    "        n2 = LA.norm(Fx1 - Fx)**2\n",
    "        n1_div_n2 = n1/n2 if n2 != 0 else la*10\n",
    "\n",
    "        la1 = min(rho * la, 0.25 * phi * th / la * n1_div_n2)\n",
    "        x_ = ((phi - 1) * x1 + x_) / phi\n",
    "        if output:\n",
    "            print (i, la)\n",
    "        th = phi * la1 / la\n",
    "        x, la, Fx = x1, la1, Fx1\n",
    "        values.append(J(x))\n",
    "        time_list.append(perf_counter() - begin)\n",
    "    end = perf_counter()\n",
    "\n",
    "    print(\"CPU time for aGRAAL:\", end - begin)\n",
    "    return values, x, x_, time_list"
   ]
  },
  {
   "cell_type": "markdown",
   "metadata": {},
   "source": [
    "## Solver of VI"
   ]
  },
  {
   "cell_type": "code",
   "execution_count": 12,
   "metadata": {},
   "outputs": [
    {
     "name": "stdout",
     "output_type": "stream",
     "text": [
      "(300,)\n"
     ]
    }
   ],
   "source": [
    "prox_g = lambda q, eps: np.fmax(q,0)\n",
    "# starting point\n",
    "N = 1000\n",
    "q0 = np.ones(dimX + dimY + dimU)\n",
    "print(F_co(q0).shape)"
   ]
  },
  {
   "cell_type": "code",
   "execution_count": 13,
   "metadata": {
    "scrolled": true
   },
   "outputs": [
    {
     "name": "stdout",
     "output_type": "stream",
     "text": [
      "CPU time for aGRAAL: 2.3355796999999967\n"
     ]
    }
   ],
   "source": [
    "ans1 = adaptive_graal(J_co, F_co, prox_g, q0, numb_iter=N, phi=1.5, output=False)"
   ]
  },
  {
   "cell_type": "code",
   "execution_count": 14,
   "metadata": {
    "scrolled": false
   },
   "outputs": [
    {
     "data": {
      "image/png": "[encoded data removed]",
      "text/plain": [
       "<Figure size 432x288 with 1 Axes>"
      ]
     },
     "metadata": {
      "needs_background": "light"
     },
     "output_type": "display_data"
    },
    {
     "name": "stdout",
     "output_type": "stream",
     "text": [
      "Answer is 256.84550543279755\n",
      "Answer is [4.60375011e-170 4.64440871e-170 4.59894298e-170 4.61863092e-170\n",
      " 4.56855189e-170 4.61852139e-170 4.61062025e-170 4.55079344e-170\n",
      " 4.63234427e-170 4.59650085e-170 4.63929346e-170 4.53706386e-170\n",
      " 4.71705605e-170 4.59928680e-170 4.61481439e-170 4.53388975e-170\n",
      " 4.63200031e-170 4.55692997e-170 4.61483246e-170 4.62992342e-170\n",
      " 4.58302562e-170 4.55509769e-170 4.61105691e-170 4.63401301e-170\n",
      " 4.63044983e-170 4.63728555e-170 4.58813721e-170 4.61141042e-170\n",
      " 4.58088658e-170 4.65575578e-170 4.60754181e-170 4.55884326e-170\n",
      " 4.66503036e-170 4.65878825e-170 4.66739941e-170 4.58577930e-170\n",
      " 4.52390280e-170 4.60143768e-170 4.62500388e-170 4.62298836e-170\n",
      " 4.62540968e-170 4.57841780e-170 4.57292268e-170 4.64497784e-170\n",
      " 4.56982456e-170 4.75398144e-170 4.64073312e-170 4.59453458e-170\n",
      " 4.63753627e-170 4.58841557e-170 4.59443284e-170 4.62285865e-170\n",
      " 4.59680060e-170 4.62094799e-170 4.58577360e-170 4.59340898e-170\n",
      " 4.65322466e-170 4.54215149e-170 4.66930352e-170 4.56790405e-170\n",
      " 4.60539982e-170 4.64106408e-170 4.61950325e-170 4.62495298e-170\n",
      " 4.62362282e-170 4.63736954e-170 4.61538293e-170 4.63660741e-170\n",
      " 4.62385993e-170 4.52985614e-170 4.61124183e-170 4.62093659e-170\n",
      " 4.63083022e-170 4.63600523e-170 4.66148565e-170 4.59210503e-170\n",
      " 4.57944520e-170 4.58779946e-170 4.68727878e-170 4.66073401e-170\n",
      " 4.53417163e-170 4.62078458e-170 4.64061604e-170 4.54039758e-170\n",
      " 4.60185407e-170 4.61137776e-170 4.65075107e-170 4.61982502e-170\n",
      " 4.61314460e-170 4.58681111e-170 4.62771927e-170 4.67597299e-170\n",
      " 4.59822076e-170 4.66511898e-170 4.58063427e-170 4.53174213e-170\n",
      " 4.61521429e-170 4.61911785e-170 4.65162597e-170 4.66341317e-170\n",
      " 3.01986751e-159 3.01986751e-159 3.01986751e-159 3.01986751e-159\n",
      " 3.01986751e-159 3.01986751e-159 3.01986751e-159 3.01986751e-159\n",
      " 3.01986751e-159 3.01986751e-159 3.01986751e-159 3.01986751e-159\n",
      " 3.01986751e-159 3.01986751e-159 3.01986751e-159 3.01986751e-159\n",
      " 3.01986751e-159 3.01986751e-159 3.01986751e-159 3.01986751e-159\n",
      " 3.01986751e-159 3.01986751e-159 3.01986751e-159 3.01986751e-159\n",
      " 3.01986751e-159 3.01986751e-159 3.01986751e-159 3.01986751e-159\n",
      " 3.01986751e-159 3.01986751e-159 3.01986751e-159 3.01986751e-159\n",
      " 3.01986751e-159 3.01986751e-159 3.01986751e-159 3.01986751e-159\n",
      " 3.01986751e-159 3.01986751e-159 3.01986751e-159 3.01986751e-159\n",
      " 3.01986751e-159 3.01986751e-159 3.01986751e-159 3.01986751e-159\n",
      " 3.01986751e-159 3.01986751e-159 3.01986751e-159 3.01986751e-159\n",
      " 3.01986751e-159 3.01986751e-159 3.01986751e-159 3.01986751e-159\n",
      " 3.01986751e-159 3.01986751e-159 3.01986751e-159 3.01986751e-159\n",
      " 3.01986751e-159 3.01986751e-159 3.01986751e-159 3.01986751e-159\n",
      " 3.01986751e-159 3.01986751e-159 3.01986751e-159 3.01986751e-159\n",
      " 3.01986751e-159 3.01986751e-159 3.01986751e-159 3.01986751e-159\n",
      " 3.01986751e-159 3.01986751e-159 3.01986751e-159 3.01986751e-159\n",
      " 3.01986751e-159 3.01986751e-159 3.01986751e-159 3.01986751e-159\n",
      " 3.01986751e-159 3.01986751e-159 3.01986751e-159 3.01986751e-159\n",
      " 3.01986751e-159 3.01986751e-159 3.01986751e-159 3.01986751e-159\n",
      " 3.01986751e-159 3.01986751e-159 3.01986751e-159 3.01986751e-159\n",
      " 3.01986751e-159 3.01986751e-159 3.01986751e-159 3.01986751e-159\n",
      " 3.01986751e-159 3.01986751e-159 3.01986751e-159 3.01986751e-159\n",
      " 3.01986751e-159 3.01986751e-159 3.01986751e-159 3.01986751e-159\n",
      " 2.81693274e-147 3.87041089e-147 2.86326425e-147 4.92829376e-147\n",
      " 2.18652362e-147 3.22342275e-147 2.14337915e-147 3.40401888e-147\n",
      " 1.97304321e-147 3.14664410e-147 2.10361068e-147 2.70829272e-147\n",
      " 3.60202066e-147 2.82476472e-147 2.97989705e-147 2.96650197e-147\n",
      " 2.59462048e-147 1.76409104e-147 3.05876445e-147 5.28820244e-147\n",
      " 2.54259374e-147 2.22891341e-147 1.98017094e-147 2.16185536e-147\n",
      " 3.55539662e-147 2.27608628e-147 3.07745687e-147 2.42570606e-147\n",
      " 3.74363625e-147 2.63621057e-147 3.49758430e-147 2.51784463e-147\n",
      " 3.29847147e-147 2.30480888e-147 2.81419957e-147 2.92562666e-147\n",
      " 2.61013206e-147 3.91768954e-147 2.23615854e-147 2.24201492e-147\n",
      " 3.88550543e-147 2.48909320e-147 2.42221820e-147 1.94535757e-147\n",
      " 3.68420605e-147 5.06030236e-147 2.59142663e-147 2.69134089e-147\n",
      " 3.18779768e-147 4.20221494e-147 2.34412162e-147 2.07160886e-147\n",
      " 2.38851098e-147 1.80413038e-147 2.90179655e-147 3.63680974e-147\n",
      " 2.98845930e-147 2.54418810e-147 2.27131526e-147 3.31423309e-147\n",
      " 3.59938460e-147 2.25688074e-147 2.08186562e-147 2.15987564e-147\n",
      " 2.24658904e-147 3.37568838e-147 2.46661467e-147 2.36713222e-147\n",
      " 2.25896607e-147 2.48083166e-147 2.84236363e-147 2.15170236e-147\n",
      " 2.30844272e-147 2.61530198e-147 3.17667189e-147 2.95812467e-147\n",
      " 5.39271018e-147 2.55080203e-147 4.61794884e-147 2.39710240e-147\n",
      " 5.72225838e-147 3.27249622e-147 2.79311413e-147 2.17331136e-147\n",
      " 4.66615417e-147 2.53330940e-147 1.93852733e-147 2.99750811e-147\n",
      " 2.22311982e-147 2.65499149e-147 2.26251459e-147 2.52887292e-147\n",
      " 2.55775384e-147 1.81880478e-147 2.14002471e-147 2.07150679e-147\n",
      " 2.90562049e-147 2.69715972e-147 2.61241630e-147 2.94360988e-147]\n",
      "Answer is 2.2485684065986967e-168\n"
     ]
    }
   ],
   "source": [
    "plt.plot(ans1[0], '--b', label = 'FBF')\n",
    "\n",
    "plt.yscale('log')\n",
    "\n",
    "plt.xlabel(u' iterations, $k$')\n",
    "plt.ylabel(u'residual')\n",
    "\n",
    "plt.legend()\n",
    "#plt.savefig('figures/nash.pdf', bbox_inches='tight')\n",
    "plt.show()\n",
    "print(\"Answer is\", ans1[0][-1])\n",
    "print(\"Answer is\", ans1[2])\n",
    "print(\"Answer is\", fx(ans1[2][0:dimX]))"
   ]
  },
  {
   "cell_type": "code",
   "execution_count": 15,
   "metadata": {},
   "outputs": [
    {
     "data": {
      "text/plain": [
       "array([0., 0., 0., 0., 0., 0., 0., 0., 0., 0., 0., 0., 0., 0., 0., 0., 0.,\n",
       "       0., 0., 0., 0., 0., 0., 0., 0., 0., 0., 0., 0., 0., 0., 0., 0., 0.,\n",
       "       0., 0., 0., 0., 0., 0., 0., 0., 0., 0., 0., 0., 0., 0., 0., 0., 0.,\n",
       "       0., 0., 0., 0., 0., 0., 0., 0., 0., 0., 0., 0., 0., 0., 0., 0., 0.,\n",
       "       0., 0., 0., 0., 0., 0., 0., 0., 0., 0., 0., 0., 0., 0., 0., 0., 0.,\n",
       "       0., 0., 0., 0., 0., 0., 0., 0., 0., 0., 0., 0., 0., 0., 0., 0., 0.,\n",
       "       0., 0., 0., 0., 0., 0., 0., 0., 0., 0., 0., 0., 0., 0., 0., 0., 0.,\n",
       "       0., 0., 0., 0., 0., 0., 0., 0., 0., 0., 0., 0., 0., 0., 0., 0., 0.,\n",
       "       0., 0., 0., 0., 0., 0., 0., 0., 0., 0., 0., 0., 0., 0., 0., 0., 0.,\n",
       "       0., 0., 0., 0., 0., 0., 0., 0., 0., 0., 0., 0., 0., 0., 0., 0., 0.,\n",
       "       0., 0., 0., 0., 0., 0., 0., 0., 0., 0., 0., 0., 0., 0., 0., 0., 0.,\n",
       "       0., 0., 0., 0., 0., 0., 0., 0., 0., 0., 0., 0., 0., 0., 0., 0., 0.,\n",
       "       0., 0., 0., 0., 0., 0., 0., 0., 0., 0., 0., 0., 0., 0., 0., 0., 0.,\n",
       "       0., 0., 0., 0., 0., 0., 0., 0., 0., 0., 0., 0., 0., 0., 0., 0., 0.,\n",
       "       0., 0., 0., 0., 0., 0., 0., 0., 0., 0., 0., 0., 0., 0., 0., 0., 0.,\n",
       "       0., 0., 0., 0., 0., 0., 0., 0., 0., 0., 0., 0., 0., 0., 0., 0., 0.,\n",
       "       0., 0., 0., 0., 0., 0., 0., 0., 0., 0., 0., 0., 0., 0., 0., 0., 0.,\n",
       "       0., 0., 0., 0., 0., 0., 0., 0., 0., 0., 0.])"
      ]
     },
     "execution_count": 15,
     "metadata": {},
     "output_type": "execute_result"
    }
   ],
   "source": [
    "ans1[1]"
   ]
  },
  {
   "cell_type": "markdown",
   "metadata": {},
   "source": [
    "## Solving the QCQP"
   ]
  },
  {
   "cell_type": "code",
   "execution_count": 23,
   "metadata": {},
   "outputs": [],
   "source": [
    "from scipy.optimize import minimize\n",
    "cons = []\n",
    "for i in range(len(hx)):\n",
    "    temp = ({'type': 'ineq', 'fun': lambda x: hx[i](x) })\n",
    "    cons.append(temp)\n",
    "bnds = []\n",
    "for i in range(dimX):\n",
    "    temp = ((0, None))\n",
    "    bnds.append(temp)\n",
    "x = np.ones(dimX)\n",
    "res = minimize(fx, x, method='SLSQP', bounds=bnds, constraints=cons)"
   ]
  },
  {
   "cell_type": "code",
   "execution_count": 24,
   "metadata": {},
   "outputs": [
    {
     "name": "stdout",
     "output_type": "stream",
     "text": [
      "22.478066737252405\n",
      "[4.34004870e+00 0.00000000e+00 1.38839345e-11 1.40058140e-11\n",
      " 4.81151999e-13 9.14765367e-12 0.00000000e+00 2.12530896e-11\n",
      " 3.72929798e-12 7.97988581e-03]\n"
     ]
    }
   ],
   "source": [
    "print(fx(res['x']))\n",
    "print(res['x'])\n",
    "#print(\"Answer is:\", res)"
   ]
  },
  {
   "cell_type": "code",
   "execution_count": null,
   "metadata": {},
   "outputs": [],
   "source": []
  }
 ],
 "metadata": {
  "kernelspec": {
   "display_name": "Python 3",
   "language": "python",
   "name": "python3"
  },
  "language_info": {
   "codemirror_mode": {
    "name": "ipython",
    "version": 3
   },
   "file_extension": ".py",
   "mimetype": "text/x-python",
   "name": "python",
   "nbconvert_exporter": "python",
   "pygments_lexer": "ipython3",
   "version": "3.7.4"
  }
 },
 "nbformat": 4,
 "nbformat_minor": 4
}
