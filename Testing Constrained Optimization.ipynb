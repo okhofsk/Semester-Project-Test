{
 "cells": [
  {
   "cell_type": "code",
   "execution_count": 1,
   "metadata": {},
   "outputs": [],
   "source": [
    "# Import Libraries and Dependencies\n",
    "import constrained_optimization\n",
    "from constrained_optimization.base import*\n",
    "from constrained_optimization.generate import*"
   ]
  },
  {
   "cell_type": "code",
   "execution_count": 4,
   "metadata": {},
   "outputs": [
    {
     "name": "stdout",
     "output_type": "stream",
     "text": [
      "--- 3.4357004165649414 seconds ---\n"
     ]
    }
   ],
   "source": [
    "dimX = 1000\n",
    "dimY = 100\n",
    "dimU = 100\n",
    "\n",
    "import time\n",
    "start_time = time.time()\n",
    "p, q, r, A, b = randQCQP(dimX,dimY,True,True, dimU)\n",
    "print(\"--- %s seconds ---\" % (time.time() - start_time))\n"
   ]
  },
  {
   "cell_type": "code",
   "execution_count": 5,
   "metadata": {},
   "outputs": [
    {
     "name": "stdout",
     "output_type": "stream",
     "text": [
      "--- 77.44616961479187 seconds ---\n"
     ]
    }
   ],
   "source": [
    "p, q, r, A, b = randQCQPmat(dimX,dimY,True,True, dimU)"
   ]
  },
  {
   "cell_type": "code",
   "execution_count": 3,
   "metadata": {},
   "outputs": [],
   "source": [
    "M_ = 3\n",
    "N_ = 2\n",
    "convex_ = False\n",
    "\n",
    "x_rand = np.random.rand(N_)\n",
    "q_temp = np.random.rand(M_+1, N_)\n",
    "p_temp = np.random.rand(M_+1, N_, N_)\n",
    "if convex_:\n",
    "    p_temp = np.matmul(p_temp, np.transpose(p_temp, (0,2,1)))\n",
    "else :\n",
    "    p_temp = np.maximum(p_temp, np.transpose(p_temp, (0,2,1)))\n",
    "r_temp = -0.5*np.transpose(x_rand)@p_temp@x_rand - q_temp@x_rand"
   ]
  },
  {
   "cell_type": "code",
   "execution_count": 11,
   "metadata": {},
   "outputs": [],
   "source": [
    "\n",
    "#start_time = time.time()\n",
    "#fx, hx, gradf, gradh = toQCQPmat(p, q, r)\n",
    "#print(\"--- %s seconds ---\" % (time.time() - start_time))\n",
    "hxs = []\n",
    "gradhs = []\n",
    "for i in range(len(hx)):\n",
    "    temp = lambda x: -1*hx[i](x)\n",
    "    hxs.append(temp)\n",
    "    temp = lambda x: -1*gradh[i](x)\n",
    "    gradhs.append(temp)"
   ]
  },
  {
   "cell_type": "code",
   "execution_count": 12,
   "metadata": {
    "scrolled": true
   },
   "outputs": [],
   "source": [
    "fx, hx, gradf, gradh = toQCQP(p, q, r)"
   ]
  },
  {
   "cell_type": "code",
   "execution_count": 27,
   "metadata": {},
   "outputs": [
    {
     "data": {
      "text/plain": [
       "array([ 3.01043010e+03,  3.02007000e+03,  3.02072481e+03,  3.01799809e+03,\n",
       "        3.01944641e+03,  3.01569789e+03,  3.00665322e+03,  3.02325034e+03,\n",
       "        3.01204337e+03,  3.00659912e+03, -1.02573524e+02, -1.02573524e+02,\n",
       "       -1.02573524e+02, -1.02573524e+02, -1.02573524e+02, -1.02573524e+02,\n",
       "       -1.02573524e+02, -1.02573524e+02, -1.02573524e+02, -1.02573524e+02,\n",
       "       -2.74222587e+00, -1.90471110e+00, -2.09242528e+00, -1.41254992e+00,\n",
       "       -2.25601863e+00, -2.24968711e+00, -1.85673961e+00, -1.96938760e+00,\n",
       "       -2.03847591e+00, -2.12160509e+00])"
      ]
     },
     "execution_count": 27,
     "metadata": {},
     "output_type": "execute_result"
    }
   ],
   "source": [
    "prob = co_problem(fx, dimX, hx, None, gradf, gradh, A, b)\n",
    "\n",
    "x = np.ones(30)\n",
    "F_co, J_co = prob.get_parameters(False)\n",
    "F_co(x)"
   ]
  },
  {
   "cell_type": "markdown",
   "metadata": {},
   "source": [
    "## Adaptive Graal to solve VI"
   ]
  },
  {
   "cell_type": "code",
   "execution_count": 28,
   "metadata": {},
   "outputs": [],
   "source": [
    "def adaptive_graal(J, F, prox_g, x1, numb_iter=100, phi=1.5, output=False): \n",
    "    begin = perf_counter()\n",
    "    x, x_ = x1.copy(), x1.copy()\n",
    "    x0 = x + np.random.randn(x.shape[0]) * 1e-9\n",
    "    Fx = F(x)\n",
    "    la = phi / 2 * LA.norm(x - x0) / LA.norm(Fx - F(x0))\n",
    "    rho = 1. / phi + 1. / phi**2\n",
    "    values = [J(x)]\n",
    "    time_list = [perf_counter() - begin]\n",
    "    th = 1\n",
    "\n",
    "    for i in range(numb_iter):\n",
    "        x1 = prox_g(x_ - la * Fx, la)\n",
    "        Fx1 = F(x1)\n",
    "\n",
    "        n1 = LA.norm(x1 - x)**2\n",
    "        n2 = LA.norm(Fx1 - Fx)**2\n",
    "        n1_div_n2 = n1/n2 if n2 != 0 else la*10\n",
    "\n",
    "        la1 = min(rho * la, 0.25 * phi * th / la * n1_div_n2)\n",
    "        x_ = ((phi - 1) * x1 + x_) / phi\n",
    "        if output:\n",
    "            print (i, la)\n",
    "        th = phi * la1 / la\n",
    "        x, la, Fx = x1, la1, Fx1\n",
    "        values.append(J(x))\n",
    "        time_list.append(perf_counter() - begin)\n",
    "    end = perf_counter()\n",
    "\n",
    "    print(\"CPU time for aGRAAL:\", end - begin)\n",
    "    return values, x, x_, time_list\n",
    "def adaptive_graal_terminate(J, F, prox_g, x1, numb_iter=100, phi=1.5, tol=1e-6, output=False):\n",
    "    begin = perf_counter()\n",
    "    x, x_ = x1.copy(), x1.copy()\n",
    "    x0 = x + np.random.randn(x.shape[0]) * 1e-9\n",
    "    Fx = F(x)\n",
    "    la = phi / 2 * LA.norm(x - x0) / LA.norm(Fx - F(x0))\n",
    "    rho = 1. / phi + 1. / phi**2\n",
    "    values = [J(x)]\n",
    "    time_list = [perf_counter() - begin]\n",
    "    th = 1\n",
    "\n",
    "    i = 1\n",
    "    while i <= numb_iter and values[-1] > tol:\n",
    "        i += 1\n",
    "        x1 = prox_g(x_ - la * Fx, la)\n",
    "        Fx1 = F(x1)\n",
    "\n",
    "        n1 = LA.norm(x1 - x)**2\n",
    "        n2 = LA.norm(Fx1 - Fx)**2\n",
    "        n1_div_n2 = np.exp(np.log(n1) - np.log(n2))\n",
    "        la1 = min(rho * la, 0.25 * phi * th / la * n1_div_n2, 1e6)\n",
    "        x_ = ((phi - 1) * x1 + x_) / phi\n",
    "        if output:\n",
    "            print (i, la)\n",
    "\n",
    "        th = phi * la1 / la\n",
    "        x, la, Fx = x1, la1, Fx1\n",
    "        values.append(J(x))\n",
    "        time_list.append(perf_counter() - begin)\n",
    "\n",
    "    end = perf_counter()\n",
    "\n",
    "    print(\"CPU time for aGRAAL:\", end - begin)\n",
    "    return values, x, i\n"
   ]
  },
  {
   "cell_type": "markdown",
   "metadata": {},
   "source": [
    "## Solver of VI"
   ]
  },
  {
   "cell_type": "code",
   "execution_count": 29,
   "metadata": {},
   "outputs": [
    {
     "name": "stdout",
     "output_type": "stream",
     "text": [
      "(30,)\n"
     ]
    }
   ],
   "source": [
    "prox_g = lambda q, eps: np.fmax(q,0)\n",
    "# starting point\n",
    "N = 1000\n",
    "q0 = np.ones(dimX + dimY + dimU)\n",
    "print(F_co(q0).shape)"
   ]
  },
  {
   "cell_type": "code",
   "execution_count": 30,
   "metadata": {
    "scrolled": true
   },
   "outputs": [
    {
     "name": "stdout",
     "output_type": "stream",
     "text": [
      "CPU time for aGRAAL: 0.2983837999999537\n"
     ]
    }
   ],
   "source": [
    "ans1 = adaptive_graal(J_co, F_co, prox_g, q0, numb_iter=N, phi=1.5, output=False)"
   ]
  },
  {
   "cell_type": "code",
   "execution_count": 31,
   "metadata": {
    "scrolled": false
   },
   "outputs": [
    {
     "data": {
      "image/png": "[encoded data removed]",
      "text/plain": [
       "<Figure size 432x288 with 1 Axes>"
      ]
     },
     "metadata": {},
     "output_type": "display_data"
    },
    {
     "name": "stdout",
     "output_type": "stream",
     "text": [
      "Answer is 11.169813757328976\n",
      "Answer is [8.75963656e-172 8.28339749e-172 8.62528514e-172 8.87408587e-172\n",
      " 8.79466408e-172 8.77007944e-172 9.41202011e-172 8.01171353e-172\n",
      " 9.14958388e-172 9.49690249e-172 1.02095425e-164 1.02095425e-164\n",
      " 1.02095425e-164 1.02095425e-164 1.02095425e-164 1.02095425e-164\n",
      " 1.02095425e-164 1.02095425e-164 1.02095425e-164 1.02095425e-164\n",
      " 3.43570562e-161 7.36276951e-160 9.53863484e-161 2.96797721e-160\n",
      " 2.33879938e-160 6.90958193e-160 2.15551588e-160 1.16831439e-160\n",
      " 2.44329425e-160 2.59704797e-161]\n",
      "Answer is 5.474973768254071e-171\n"
     ]
    }
   ],
   "source": [
    "plt.plot(ans1[0], '--b', label = 'FBF')\n",
    "\n",
    "plt.yscale('log')\n",
    "\n",
    "plt.xlabel(u' iterations, $k$')\n",
    "plt.ylabel(u'residual')\n",
    "\n",
    "plt.legend()\n",
    "#plt.savefig('figures/nash.pdf', bbox_inches='tight')\n",
    "plt.show()\n",
    "print(\"Answer is\", ans1[0][-1])\n",
    "print(\"Answer is\", ans1[2])\n",
    "print(\"Answer is\", fx(ans1[2][0:dimX]))"
   ]
  },
  {
   "cell_type": "code",
   "execution_count": 26,
   "metadata": {},
   "outputs": [
    {
     "data": {
      "text/plain": [
       "array([0.84333958, 0.        , 0.        , 0.        , 0.        ,\n",
       "       0.        , 2.28715461, 0.        , 0.36884394, 2.06140825,\n",
       "       0.01021835, 0.01021835, 0.01021835, 0.01021835, 0.01021835,\n",
       "       0.01021835, 0.01021835, 0.01021835, 0.01021835, 0.01021835,\n",
       "       1.21621228, 1.21390238, 0.64974323, 1.22774309, 2.69779052,\n",
       "       2.22217267, 1.16268071, 1.57432292, 1.31228547, 0.16720319])"
      ]
     },
     "execution_count": 26,
     "metadata": {},
     "output_type": "execute_result"
    }
   ],
   "source": [
    "ans1[1]"
   ]
  },
  {
   "cell_type": "markdown",
   "metadata": {},
   "source": [
    "## Solving the QCQP"
   ]
  },
  {
   "cell_type": "code",
   "execution_count": 23,
   "metadata": {},
   "outputs": [],
   "source": [
    "from scipy.optimize import minimize\n",
    "cons = []\n",
    "for i in range(len(hx)):\n",
    "    temp = ({'type': 'ineq', 'fun': lambda x: hx[i](x) })\n",
    "    cons.append(temp)\n",
    "bnds = []\n",
    "for i in range(dimX):\n",
    "    temp = ((0, None))\n",
    "    bnds.append(temp)\n",
    "x = np.ones(dimX)\n",
    "res = minimize(fx, x, method='SLSQP', bounds=bnds, constraints=cons)"
   ]
  },
  {
   "cell_type": "code",
   "execution_count": 24,
   "metadata": {},
   "outputs": [
    {
     "name": "stdout",
     "output_type": "stream",
     "text": [
      "22.478066737252405\n",
      "[4.34004870e+00 0.00000000e+00 1.38839345e-11 1.40058140e-11\n",
      " 4.81151999e-13 9.14765367e-12 0.00000000e+00 2.12530896e-11\n",
      " 3.72929798e-12 7.97988581e-03]\n"
     ]
    }
   ],
   "source": [
    "print(fx(res['x']))\n",
    "print(res['x'])\n",
    "#print(\"Answer is:\", res)"
   ]
  },
  {
   "cell_type": "code",
   "execution_count": null,
   "metadata": {},
   "outputs": [],
   "source": []
  }
 ],
 "metadata": {
  "kernelspec": {
   "display_name": "Python 3",
   "language": "python",
   "name": "python3"
  },
  "language_info": {
   "codemirror_mode": {
    "name": "ipython",
    "version": 3
   },
   "file_extension": ".py",
   "mimetype": "text/x-python",
   "name": "python",
   "nbconvert_exporter": "python",
   "pygments_lexer": "ipython3",
   "version": "3.6.5"
  }
 },
 "nbformat": 4,
 "nbformat_minor": 4
}
