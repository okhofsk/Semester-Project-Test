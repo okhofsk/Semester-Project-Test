{
 "cells": [
  {
   "cell_type": "code",
   "execution_count": 1,
   "metadata": {},
   "outputs": [],
   "source": [
    "# Import Libraries and Dependencies\n",
    "import constrained_optimization\n",
    "from constrained_optimization.base import*\n",
    "from constrained_optimization.generate import*"
   ]
  },
  {
   "cell_type": "code",
   "execution_count": 2,
   "metadata": {},
   "outputs": [],
   "source": [
    "def projsplx(v, s=1):\n",
    "    assert s > 0, \"Radius s must be strictly positive (%d <= 0)\" % s\n",
    "    n, = v.shape  # will raise ValueError if v is not 1-D\n",
    "    # check if we are already on the simplex\n",
    "    if v.sum() == s and np.alltrue(v >= 0):\n",
    "        # best projection: itself!\n",
    "        return v\n",
    "    # get the array of cumulative sums of a sorted (decreasing) copy of v\n",
    "    u = np.sort(v)[::-1]\n",
    "    cssv = np.cumsum(u)\n",
    "    # get the number of > 0 components of the optimal solution\n",
    "    rho = np.nonzero(u * np.arange(1, n+1) > (cssv - s))[0][-1]\n",
    "    # compute the Lagrange multiplier associated to the simplex constraint\n",
    "    theta = (cssv[rho] - s) / (rho + 1.0)\n",
    "    # compute the projection by thresholding v using theta\n",
    "    w = (v - theta).clip(min=0)\n",
    "    return w\n",
    "\n",
    "fmax = lambda x: np.clip(x,0,None)"
   ]
  },
  {
   "cell_type": "code",
   "execution_count": 3,
   "metadata": {
    "scrolled": true
   },
   "outputs": [
    {
     "name": "stdout",
     "output_type": "stream",
     "text": [
      "[0.10090951 0.89159057 0.56809279 ... 0.85131075 0.52024878 0.77255877]\n",
      "--- 0.16364502906799316 seconds ---\n"
     ]
    }
   ],
   "source": [
    "dimX = 2000\n",
    "dimY = 1\n",
    "dimU = 0\n",
    "proj = None\n",
    "\n",
    "import time\n",
    "start_time = time.time()\n",
    "q0, p, q, r, A, b = randQCQP(dimX,dimY, proj,True,False, dimU)\n",
    "print(\"--- %s seconds ---\" % (time.time() - start_time))\n"
   ]
  },
  {
   "cell_type": "code",
   "execution_count": 4,
   "metadata": {
    "scrolled": true
   },
   "outputs": [],
   "source": [
    "fx, hx, gradf, gradh = toQCQP(p, q, r)"
   ]
  },
  {
   "cell_type": "code",
   "execution_count": 5,
   "metadata": {},
   "outputs": [
    {
     "name": "stdout",
     "output_type": "stream",
     "text": [
      "0.0\n"
     ]
    }
   ],
   "source": [
    "prob = co_problem(fx, (dimX, dimY), hx, None, gradf, gradh, False, A, b)\n",
    "\n",
    "x = np.ones(dimX+dimY+dimU)\n",
    "F_co, J_co = prob.get_parameters(False)\n",
    "print(hx[1](q0[:dimX],1))"
   ]
  },
  {
   "cell_type": "markdown",
   "metadata": {},
   "source": [
    "# testing framework"
   ]
  },
  {
   "cell_type": "code",
   "execution_count": 6,
   "metadata": {
    "scrolled": true
   },
   "outputs": [
    {
     "ename": "ValueError",
     "evalue": "set_z(operator_); len of z not correct. Please refer to the documentation.",
     "output_type": "error",
     "traceback": [
      "\u001b[1;31m---------------------------------------------------------------------------\u001b[0m",
      "\u001b[1;31mValueError\u001b[0m                                Traceback (most recent call last)",
      "\u001b[1;32m<ipython-input-6-1e56dc4c1482>\u001b[0m in \u001b[0;36m<module>\u001b[1;34m\u001b[0m\n\u001b[0;32m     16\u001b[0m     \u001b[1;32mfor\u001b[0m \u001b[0mj\u001b[0m \u001b[1;32min\u001b[0m \u001b[0mrange\u001b[0m\u001b[1;33m(\u001b[0m\u001b[1;36m0\u001b[0m\u001b[1;33m,\u001b[0m \u001b[0mn\u001b[0m\u001b[1;33m)\u001b[0m\u001b[1;33m:\u001b[0m\u001b[1;33m\u001b[0m\u001b[1;33m\u001b[0m\u001b[0m\n\u001b[0;32m     17\u001b[0m         \u001b[1;32mfor\u001b[0m \u001b[0mk\u001b[0m \u001b[1;32min\u001b[0m \u001b[0mrange\u001b[0m\u001b[1;33m(\u001b[0m\u001b[1;36m0\u001b[0m\u001b[1;33m,\u001b[0m \u001b[0mn\u001b[0m\u001b[1;33m)\u001b[0m\u001b[1;33m:\u001b[0m\u001b[1;33m\u001b[0m\u001b[1;33m\u001b[0m\u001b[0m\n\u001b[1;32m---> 18\u001b[1;33m             \u001b[0mframework\u001b[0m\u001b[1;33m[\u001b[0m\u001b[0mi\u001b[0m\u001b[1;33m,\u001b[0m\u001b[0mj\u001b[0m\u001b[1;33m,\u001b[0m\u001b[0mk\u001b[0m\u001b[1;33m]\u001b[0m \u001b[1;33m=\u001b[0m \u001b[0mF_co\u001b[0m\u001b[1;33m(\u001b[0m\u001b[0mx\u001b[0m\u001b[1;33m[\u001b[0m\u001b[0mi\u001b[0m\u001b[1;33m,\u001b[0m\u001b[0mj\u001b[0m\u001b[1;33m,\u001b[0m\u001b[0mk\u001b[0m\u001b[1;33m]\u001b[0m\u001b[1;33m)\u001b[0m\u001b[1;33m\u001b[0m\u001b[1;33m\u001b[0m\u001b[0m\n\u001b[0m\u001b[0;32m     19\u001b[0m             \u001b[1;32mif\u001b[0m \u001b[1;33m(\u001b[0m\u001b[0mF_co\u001b[0m\u001b[1;33m(\u001b[0m\u001b[0mx\u001b[0m\u001b[1;33m[\u001b[0m\u001b[0mi\u001b[0m\u001b[1;33m,\u001b[0m\u001b[0mj\u001b[0m\u001b[1;33m,\u001b[0m\u001b[0mk\u001b[0m\u001b[1;33m]\u001b[0m\u001b[1;33m)\u001b[0m\u001b[1;33m-\u001b[0m\u001b[0mF_co\u001b[0m\u001b[1;33m(\u001b[0m\u001b[0my\u001b[0m\u001b[1;33m[\u001b[0m\u001b[0mi\u001b[0m\u001b[1;33m,\u001b[0m\u001b[0mj\u001b[0m\u001b[1;33m,\u001b[0m\u001b[0mk\u001b[0m\u001b[1;33m]\u001b[0m\u001b[1;33m)\u001b[0m\u001b[1;33m)\u001b[0m\u001b[1;33m@\u001b[0m\u001b[1;33m(\u001b[0m\u001b[0mx\u001b[0m\u001b[1;33m[\u001b[0m\u001b[0mi\u001b[0m\u001b[1;33m,\u001b[0m\u001b[0mj\u001b[0m\u001b[1;33m,\u001b[0m\u001b[0mk\u001b[0m\u001b[1;33m]\u001b[0m\u001b[1;33m-\u001b[0m\u001b[0my\u001b[0m\u001b[1;33m[\u001b[0m\u001b[0mi\u001b[0m\u001b[1;33m,\u001b[0m\u001b[0mj\u001b[0m\u001b[1;33m,\u001b[0m\u001b[0mk\u001b[0m\u001b[1;33m]\u001b[0m\u001b[1;33m)\u001b[0m \u001b[1;33m<\u001b[0m \u001b[1;36m0\u001b[0m\u001b[1;33m:\u001b[0m\u001b[1;33m\u001b[0m\u001b[1;33m\u001b[0m\u001b[0m\n\u001b[0;32m     20\u001b[0m                 \u001b[0mprint\u001b[0m\u001b[1;33m(\u001b[0m\u001b[1;34m\"---------------ATTTENTION ERROR---------------\"\u001b[0m\u001b[1;33m)\u001b[0m\u001b[1;33m\u001b[0m\u001b[1;33m\u001b[0m\u001b[0m\n",
      "\u001b[1;32m~\\Desktop\\EPFL\\Semester Proj\\Semester-Project-Test\\constrained_optimization\\base.py\u001b[0m in \u001b[0;36moper\u001b[1;34m(z)\u001b[0m\n\u001b[0;32m    194\u001b[0m                 \u001b[1;32mreturn\u001b[0m \u001b[0mnp\u001b[0m\u001b[1;33m.\u001b[0m\u001b[0mconcatenate\u001b[0m\u001b[1;33m(\u001b[0m\u001b[1;33m(\u001b[0m\u001b[0mfx\u001b[0m\u001b[1;33m,\u001b[0m\u001b[0mfy\u001b[0m\u001b[1;33m)\u001b[0m\u001b[1;33m)\u001b[0m\u001b[1;33m\u001b[0m\u001b[1;33m\u001b[0m\u001b[0m\n\u001b[0;32m    195\u001b[0m             \u001b[1;32melse\u001b[0m\u001b[1;33m:\u001b[0m\u001b[1;33m\u001b[0m\u001b[1;33m\u001b[0m\u001b[0m\n\u001b[1;32m--> 196\u001b[1;33m                 \u001b[1;32mraise\u001b[0m \u001b[0mValueError\u001b[0m\u001b[1;33m(\u001b[0m\u001b[1;34m'set_z(operator_); len of z not correct. Please refer to the documentation.'\u001b[0m\u001b[1;33m)\u001b[0m\u001b[1;33m\u001b[0m\u001b[1;33m\u001b[0m\u001b[0m\n\u001b[0m\u001b[0;32m    197\u001b[0m         \u001b[1;32mreturn\u001b[0m \u001b[0moper\u001b[0m\u001b[1;33m\u001b[0m\u001b[1;33m\u001b[0m\u001b[0m\n\u001b[0;32m    198\u001b[0m     \u001b[1;32melif\u001b[0m \u001b[0mnbr_params\u001b[0m \u001b[1;32mis\u001b[0m \u001b[1;36m3\u001b[0m\u001b[1;33m:\u001b[0m\u001b[1;33m\u001b[0m\u001b[1;33m\u001b[0m\u001b[0m\n",
      "\u001b[1;31mValueError\u001b[0m: set_z(operator_); len of z not correct. Please refer to the documentation."
     ]
    }
   ],
   "source": [
    "n = 10\n",
    "x = np.zeros((n,n,n,3))\n",
    "for i in range(0, n):\n",
    "    for j in range(0, n):\n",
    "        for k in range(0, n):\n",
    "            x[i,j,k] = np.array([i*1, -j*1, np.absolute(k*-1)])\n",
    "n = 10\n",
    "y = np.zeros((n,n,n,3))\n",
    "for i in range(0, n):\n",
    "    for j in range(0, n):\n",
    "        for k in range(0, n):\n",
    "            y[i,j,k] = np.array([j*10, -k*10, np.absolute(i*1)])\n",
    "\n",
    "framework = np.zeros((n,n,n,3))\n",
    "for i in range(0, n):\n",
    "    for j in range(0, n):\n",
    "        for k in range(0, n):\n",
    "            framework[i,j,k] = F_co(x[i,j,k])\n",
    "            if (F_co(x[i,j,k])-F_co(y[i,j,k]))@(x[i,j,k]-y[i,j,k]) < 0:\n",
    "                print(\"---------------ATTTENTION ERROR---------------\")\n",
    "                print(\"x: \", x[i,j,k])\n",
    "                print(\"y: \", y[i,j,k])\n",
    "                print((F_co(x[i,j,k])-F_co(y[i,j,k]))@(x[i,j,k]-y[i,j,k]))"
   ]
  },
  {
   "cell_type": "code",
   "execution_count": 9,
   "metadata": {
    "scrolled": false
   },
   "outputs": [
    {
     "ename": "ValueError",
     "evalue": "set_z(operator_); len of z not correct. Please refer to the documentation.",
     "output_type": "error",
     "traceback": [
      "\u001b[1;31m---------------------------------------------------------------------------\u001b[0m",
      "\u001b[1;31mValueError\u001b[0m                                Traceback (most recent call last)",
      "\u001b[1;32m<ipython-input-9-172ca2b7f26d>\u001b[0m in \u001b[0;36m<module>\u001b[1;34m\u001b[0m\n\u001b[1;32m----> 1\u001b[1;33m \u001b[1;33m(\u001b[0m\u001b[0mF_co\u001b[0m\u001b[1;33m(\u001b[0m\u001b[0mnp\u001b[0m\u001b[1;33m.\u001b[0m\u001b[0marray\u001b[0m\u001b[1;33m(\u001b[0m\u001b[1;33m[\u001b[0m\u001b[1;36m0\u001b[0m\u001b[1;33m,\u001b[0m \u001b[1;36m0\u001b[0m\u001b[1;33m,\u001b[0m \u001b[1;33m-\u001b[0m\u001b[1;36m1\u001b[0m\u001b[1;33m]\u001b[0m\u001b[1;33m)\u001b[0m\u001b[1;33m)\u001b[0m\u001b[1;33m-\u001b[0m\u001b[0mF_co\u001b[0m\u001b[1;33m(\u001b[0m\u001b[0mnp\u001b[0m\u001b[1;33m.\u001b[0m\u001b[0marray\u001b[0m\u001b[1;33m(\u001b[0m\u001b[1;33m[\u001b[0m\u001b[1;36m0\u001b[0m\u001b[1;33m,\u001b[0m \u001b[1;33m-\u001b[0m\u001b[1;36m1\u001b[0m\u001b[1;33m,\u001b[0m \u001b[1;36m0\u001b[0m\u001b[1;33m]\u001b[0m\u001b[1;33m)\u001b[0m\u001b[1;33m)\u001b[0m\u001b[1;33m)\u001b[0m\u001b[1;33m@\u001b[0m\u001b[1;33m(\u001b[0m\u001b[0mnp\u001b[0m\u001b[1;33m.\u001b[0m\u001b[0marray\u001b[0m\u001b[1;33m(\u001b[0m\u001b[1;33m[\u001b[0m\u001b[1;36m0\u001b[0m\u001b[1;33m,\u001b[0m \u001b[1;36m0\u001b[0m\u001b[1;33m,\u001b[0m \u001b[1;33m-\u001b[0m\u001b[1;36m1\u001b[0m\u001b[1;33m]\u001b[0m\u001b[1;33m)\u001b[0m\u001b[1;33m-\u001b[0m\u001b[0mnp\u001b[0m\u001b[1;33m.\u001b[0m\u001b[0marray\u001b[0m\u001b[1;33m(\u001b[0m\u001b[1;33m[\u001b[0m\u001b[1;36m0\u001b[0m\u001b[1;33m,\u001b[0m \u001b[1;33m-\u001b[0m\u001b[1;36m1\u001b[0m\u001b[1;33m,\u001b[0m \u001b[1;36m0\u001b[0m\u001b[1;33m]\u001b[0m\u001b[1;33m)\u001b[0m\u001b[1;33m)\u001b[0m\u001b[1;33m\u001b[0m\u001b[1;33m\u001b[0m\u001b[0m\n\u001b[0m",
      "\u001b[1;32m~\\Desktop\\EPFL\\Semester Proj\\Semester-Project-Test\\constrained_optimization\\base.py\u001b[0m in \u001b[0;36moper\u001b[1;34m(z)\u001b[0m\n\u001b[0;32m    190\u001b[0m                 \u001b[1;32mreturn\u001b[0m \u001b[0mnp\u001b[0m\u001b[1;33m.\u001b[0m\u001b[0mconcatenate\u001b[0m\u001b[1;33m(\u001b[0m\u001b[1;33m(\u001b[0m\u001b[0mfx\u001b[0m\u001b[1;33m,\u001b[0m\u001b[0mfy\u001b[0m\u001b[1;33m)\u001b[0m\u001b[1;33m)\u001b[0m\u001b[1;33m\u001b[0m\u001b[1;33m\u001b[0m\u001b[0m\n\u001b[0;32m    191\u001b[0m             \u001b[1;32melse\u001b[0m\u001b[1;33m:\u001b[0m\u001b[1;33m\u001b[0m\u001b[1;33m\u001b[0m\u001b[0m\n\u001b[1;32m--> 192\u001b[1;33m                 \u001b[1;32mraise\u001b[0m \u001b[0mValueError\u001b[0m\u001b[1;33m(\u001b[0m\u001b[1;34m'set_z(operator_); len of z not correct. Please refer to the documentation.'\u001b[0m\u001b[1;33m)\u001b[0m\u001b[1;33m\u001b[0m\u001b[1;33m\u001b[0m\u001b[0m\n\u001b[0m\u001b[0;32m    193\u001b[0m         \u001b[1;32mreturn\u001b[0m \u001b[0moper\u001b[0m\u001b[1;33m\u001b[0m\u001b[1;33m\u001b[0m\u001b[0m\n\u001b[0;32m    194\u001b[0m     \u001b[1;32melif\u001b[0m \u001b[0mnbr_params\u001b[0m \u001b[1;32mis\u001b[0m \u001b[1;36m3\u001b[0m\u001b[1;33m:\u001b[0m\u001b[1;33m\u001b[0m\u001b[1;33m\u001b[0m\u001b[0m\n",
      "\u001b[1;31mValueError\u001b[0m: set_z(operator_); len of z not correct. Please refer to the documentation."
     ]
    }
   ],
   "source": [
    "(F_co(np.array([0, 0, -1]))-F_co(np.array([0, -1, 0])))@(np.array([0, 0, -1])-np.array([0, -1, 0]))"
   ]
  },
  {
   "cell_type": "markdown",
   "metadata": {},
   "source": [
    "# manual "
   ]
  },
  {
   "cell_type": "code",
   "execution_count": 10,
   "metadata": {
    "scrolled": true
   },
   "outputs": [
    {
     "name": "stdout",
     "output_type": "stream",
     "text": [
      "-----X-----\n",
      "gf:  [0.02459987 0.19893452]\n",
      "gh*y:  [-0.77863271 -0.36967441]\n",
      "Fx:  [-0.75403284 -0.17073989]\n",
      "Fy:  0.42019109058864723\n",
      "-----Y-----\n",
      "gf:  [-0.77251529 -0.61314573]\n",
      "gh*y:  [0. 0.]\n",
      "Fx:  [-0.77251529 -0.61314573]\n",
      "Fy:  0.7493492614107296\n",
      "0.7715640091516124\n"
     ]
    }
   ],
   "source": [
    "gf = lambda x: p[0]@x + q[0]\n",
    "gh = lambda x: p[1]@x + q[1]\n",
    "h = lambda x: 0.5*x@p[1]@x + q[1]@x + r[1]\n",
    "Fx = lambda x,y: gf(x)+y*gh(x)\n",
    "Fy = lambda x: -h(x)\n",
    "x0 = np.array([0,0,-1])\n",
    "y0 = np.array([0,-1,0])\n",
    "print(\"-----X-----\")\n",
    "print(\"gf: \", gf(x0[:2]))\n",
    "print(\"gh*y: \", gh(x0[:2])*x0[2:])\n",
    "print(\"Fx: \", Fx(x0[:2],x0[2:]))\n",
    "print(\"Fy: \", Fy(x0[:2]))\n",
    "print(\"-----Y-----\")\n",
    "print(\"gf: \", gf(y0[:2]))\n",
    "print(\"gh*y: \", gh(y0[:2])*y0[2:])\n",
    "print(\"Fx: \", Fx(y0[:2],y0[2:]))\n",
    "print(\"Fy: \", Fy(y0[:2]))\n",
    "print((np.append(Fx(x0[:2], x0[2:]),Fy(x0[:2]))-np.append(Fx(y0[:2], y0[2:]),Fy(y0[:2])))@(np.append(x0[:2]-y0[:2], x0[2:]-y0[2:])))"
   ]
  },
  {
   "cell_type": "code",
   "execution_count": 11,
   "metadata": {},
   "outputs": [
    {
     "ename": "IndexError",
     "evalue": "too many indices for array",
     "output_type": "error",
     "traceback": [
      "\u001b[1;31m---------------------------------------------------------------------------\u001b[0m",
      "\u001b[1;31mIndexError\u001b[0m                                Traceback (most recent call last)",
      "\u001b[1;32m<ipython-input-11-5b8c68e0499e>\u001b[0m in \u001b[0;36m<module>\u001b[1;34m\u001b[0m\n\u001b[0;32m      4\u001b[0m     \u001b[1;32mfor\u001b[0m \u001b[0mj\u001b[0m \u001b[1;32min\u001b[0m \u001b[0mrange\u001b[0m\u001b[1;33m(\u001b[0m\u001b[1;36m0\u001b[0m\u001b[1;33m,\u001b[0m \u001b[0mn\u001b[0m\u001b[1;33m)\u001b[0m\u001b[1;33m:\u001b[0m\u001b[1;33m\u001b[0m\u001b[1;33m\u001b[0m\u001b[0m\n\u001b[0;32m      5\u001b[0m         \u001b[1;32mfor\u001b[0m \u001b[0mk\u001b[0m \u001b[1;32min\u001b[0m \u001b[0mrange\u001b[0m\u001b[1;33m(\u001b[0m\u001b[1;36m0\u001b[0m\u001b[1;33m,\u001b[0m \u001b[0mn\u001b[0m\u001b[1;33m)\u001b[0m\u001b[1;33m:\u001b[0m\u001b[1;33m\u001b[0m\u001b[1;33m\u001b[0m\u001b[0m\n\u001b[1;32m----> 6\u001b[1;33m             \u001b[0mmanual\u001b[0m\u001b[1;33m[\u001b[0m\u001b[0mi\u001b[0m\u001b[1;33m,\u001b[0m\u001b[0mj\u001b[0m\u001b[1;33m,\u001b[0m\u001b[0mk\u001b[0m\u001b[1;33m]\u001b[0m \u001b[1;33m=\u001b[0m \u001b[0mnp\u001b[0m\u001b[1;33m.\u001b[0m\u001b[0mappend\u001b[0m\u001b[1;33m(\u001b[0m\u001b[0mFx\u001b[0m\u001b[1;33m(\u001b[0m\u001b[0mx\u001b[0m\u001b[1;33m[\u001b[0m\u001b[0mi\u001b[0m\u001b[1;33m,\u001b[0m\u001b[0mj\u001b[0m\u001b[1;33m,\u001b[0m\u001b[0mk\u001b[0m\u001b[1;33m]\u001b[0m\u001b[1;33m[\u001b[0m\u001b[1;33m:\u001b[0m\u001b[1;36m2\u001b[0m\u001b[1;33m]\u001b[0m\u001b[1;33m,\u001b[0m \u001b[0mx\u001b[0m\u001b[1;33m[\u001b[0m\u001b[0mi\u001b[0m\u001b[1;33m,\u001b[0m\u001b[0mj\u001b[0m\u001b[1;33m,\u001b[0m\u001b[0mk\u001b[0m\u001b[1;33m]\u001b[0m\u001b[1;33m[\u001b[0m\u001b[1;36m2\u001b[0m\u001b[1;33m:\u001b[0m\u001b[1;33m]\u001b[0m\u001b[1;33m)\u001b[0m\u001b[1;33m,\u001b[0m\u001b[0mFy\u001b[0m\u001b[1;33m(\u001b[0m\u001b[0mx\u001b[0m\u001b[1;33m[\u001b[0m\u001b[0mi\u001b[0m\u001b[1;33m,\u001b[0m\u001b[0mj\u001b[0m\u001b[1;33m,\u001b[0m\u001b[0mk\u001b[0m\u001b[1;33m]\u001b[0m\u001b[1;33m[\u001b[0m\u001b[1;33m:\u001b[0m\u001b[1;36m2\u001b[0m\u001b[1;33m]\u001b[0m\u001b[1;33m)\u001b[0m\u001b[1;33m)\u001b[0m\u001b[1;33m\u001b[0m\u001b[1;33m\u001b[0m\u001b[0m\n\u001b[0m\u001b[0;32m      7\u001b[0m             \u001b[0mdiff\u001b[0m\u001b[1;33m[\u001b[0m\u001b[0mi\u001b[0m\u001b[1;33m,\u001b[0m\u001b[0mj\u001b[0m\u001b[1;33m,\u001b[0m\u001b[0mk\u001b[0m\u001b[1;33m]\u001b[0m \u001b[1;33m=\u001b[0m \u001b[0mLA\u001b[0m\u001b[1;33m.\u001b[0m\u001b[0mnorm\u001b[0m\u001b[1;33m(\u001b[0m\u001b[0mmanual\u001b[0m\u001b[1;33m[\u001b[0m\u001b[0mi\u001b[0m\u001b[1;33m,\u001b[0m\u001b[0mj\u001b[0m\u001b[1;33m,\u001b[0m\u001b[0mk\u001b[0m\u001b[1;33m]\u001b[0m\u001b[1;33m-\u001b[0m\u001b[0mframework\u001b[0m\u001b[1;33m[\u001b[0m\u001b[0mi\u001b[0m\u001b[1;33m,\u001b[0m\u001b[0mj\u001b[0m\u001b[1;33m,\u001b[0m\u001b[0mk\u001b[0m\u001b[1;33m]\u001b[0m\u001b[1;33m)\u001b[0m\u001b[1;33m\u001b[0m\u001b[1;33m\u001b[0m\u001b[0m\n\u001b[0;32m      8\u001b[0m             \u001b[1;32mif\u001b[0m \u001b[0mdiff\u001b[0m\u001b[1;33m[\u001b[0m\u001b[0mi\u001b[0m\u001b[1;33m,\u001b[0m\u001b[0mj\u001b[0m\u001b[1;33m,\u001b[0m\u001b[0mk\u001b[0m\u001b[1;33m]\u001b[0m \u001b[1;33m>=\u001b[0m \u001b[1;36m1e-10\u001b[0m\u001b[1;33m:\u001b[0m\u001b[1;33m\u001b[0m\u001b[1;33m\u001b[0m\u001b[0m\n",
      "\u001b[1;31mIndexError\u001b[0m: too many indices for array"
     ]
    }
   ],
   "source": [
    "manual = np.zeros((n,n,n,3))\n",
    "diff = np.zeros((n,n,n))\n",
    "for i in range(0, n):\n",
    "    for j in range(0, n):\n",
    "        for k in range(0, n):\n",
    "            manual[i,j,k] = np.append(Fx(x[i,j,k][:2], x[i,j,k][2:]),Fy(x[i,j,k][:2]))\n",
    "            diff[i,j,k] = LA.norm(manual[i,j,k]-framework[i,j,k])\n",
    "            if diff[i,j,k] >= 1e-10:\n",
    "                print(\"---------------ATTTENTION ERROR---------------\")\n",
    "                print(\"diff: \", diff[i,j,k])\n",
    "            if (np.append(Fx(x[i,j,k][:2], x[i,j,k][2:]),Fy(x[i,j,k][:2]))-np.append(Fx(y[i,j,k][:2], y[i,j,k][2:]),Fy(y[i,j,k][:2])))@(np.append(x[i,j,k][:2]-y[i,j,k][:2], x[i,j,k][2:]-y[i,j,k][2:])) < 0:\n",
    "                print(\"---------------ATTTENTION ERROR---------------\")\n",
    "                print(\"x: \", x[i,j,k])\n",
    "                print(\"y: \", y[i,j,k])\n",
    "                print((np.append(Fx(x[i,j,k][:2], x[i,j,k][2:]),Fy(x[i,j,k][:2]))-np.append(Fx(y[i,j,k][:2], y[i,j,k][2:]),Fy(y[i,j,k][:2])))@(np.append(x[i,j,k][:2]-y[i,j,k][:2], x[i,j,k][2:]-y[i,j,k][2:])))"
   ]
  },
  {
   "cell_type": "code",
   "execution_count": 12,
   "metadata": {},
   "outputs": [
    {
     "data": {
      "text/plain": [
       "[<matplotlib.lines.Line2D at 0x250513c1988>]"
      ]
     },
     "execution_count": 12,
     "metadata": {},
     "output_type": "execute_result"
    },
    {
     "data": {
      "image/png": "[encoded data removed]",
      "text/plain": [
       "<Figure size 432x288 with 1 Axes>"
      ]
     },
     "metadata": {
      "needs_background": "light"
     },
     "output_type": "display_data"
    }
   ],
   "source": [
    "plt.plot(diff[0,0,:])"
   ]
  },
  {
   "cell_type": "code",
   "execution_count": 13,
   "metadata": {},
   "outputs": [
    {
     "name": "stdout",
     "output_type": "stream",
     "text": [
      "p(0):  [[1.09834921 0.79711516]\n",
      " [0.79711516 0.81208025]]\n",
      "q(0):  [0.02459987 0.19893452]\n",
      "p(1):  [[0.43546004 0.15111019]\n",
      " [0.15111019 0.08103248]]\n",
      "q(1):  [0.77863271 0.36967441]\n",
      "r(1):  -0.42019109058864723\n"
     ]
    }
   ],
   "source": [
    "print(\"p(0): \", p[0])\n",
    "print(\"q(0): \", q[0])\n",
    "print(\"p(1): \", p[1])\n",
    "print(\"q(1): \", q[1])\n",
    "print(\"r(1): \", r[1])"
   ]
  },
  {
   "cell_type": "markdown",
   "metadata": {},
   "source": [
    "## Adaptive Graal to solve VI"
   ]
  },
  {
   "cell_type": "code",
   "execution_count": 6,
   "metadata": {},
   "outputs": [],
   "source": [
    "def adaptive_graal(J, F, prox_g, x1, numb_iter=100, phi=1.5, output=False): \n",
    "    begin = perf_counter()\n",
    "    x, x_ = x1.copy(), x1.copy()\n",
    "    x0 = x + np.random.randn(x.shape[0]) * 1e-9\n",
    "    Fx = F(x)\n",
    "    la = phi / 2 * LA.norm(x - x0) / LA.norm(Fx - F(x0))\n",
    "    rho = 1. / phi + 1. / phi**2\n",
    "    values = [J(x)]\n",
    "    diff = [0]\n",
    "    time_list = [perf_counter() - begin]\n",
    "    th = 1\n",
    "\n",
    "    for i in range(numb_iter):\n",
    "        x1 = prox_g(x_ - la * Fx)\n",
    "        Fx1 = F(x1)\n",
    "        if output:\n",
    "            for j in range(dimY):\n",
    "                if hx[j+1](x1[:dimX], j+1) > 0:\n",
    "                    print(\"UNFEASIBLE\")\n",
    "                    print(\"hx: \", hx[j+1](x1[:dimX], j+1))\n",
    "                    continue\n",
    "            print(\"iteration: \", i, \"\\n\")\n",
    "            print(\"F: \", Fx1, \"\\n\")\n",
    "            print(\"x: \", x1[:dimX], \"\\n\")\n",
    "            print(\"y: \", x1[dimX:dimX+dimY], \"\\n\")\n",
    "            print(\"u: \", x1[dimX+dimY:dimX+dimY+dimU], \"\\n\")\n",
    "            #print(\"prox: \", prox_g(x_ - la * Fx, la), \"\\n\")\n",
    "\n",
    "        n1 = LA.norm(x1 - x)**2\n",
    "        n2 = LA.norm(Fx1 - Fx)**2\n",
    "        n1_div_n2 = n1/n2 if n2 != 0 else la*10\n",
    "\n",
    "        la1 = min(rho * la, 0.25 * phi * th / la * n1_div_n2)\n",
    "        #values.append(np.linalg.norm(x_-x1)/la)\n",
    "        x_ = ((phi - 1) * x1 + x_) / phi\n",
    "        #if output:\n",
    "            #print (i, la)\n",
    "        th = phi * la1 / la\n",
    "        x, la, Fx = x1, la1, Fx1\n",
    "        #if i%50 == 0: \n",
    "            #print(\"x at iteration \", i , \": \", x)\n",
    "        temp = values[-1]\n",
    "        values.append(J(x))\n",
    "        diff.append(np.absolute(temp - values[-1]))\n",
    "        time_list.append(perf_counter() - begin)\n",
    "    end = perf_counter()\n",
    "    \n",
    "    for j in range(dimY):\n",
    "        if hx[j+1](x1[:dimX], j+1) > 0:\n",
    "            print(\"UNFEASIBLE\")\n",
    "            print(\"hx: \", hx[j+1](x1[:dimX], j+1))\n",
    "    print(\"CPU time for aGRAAL:\", end - begin)\n",
    "    return values, x, x_, time_list, diff"
   ]
  },
  {
   "cell_type": "markdown",
   "metadata": {},
   "source": [
    "## Solver of VI"
   ]
  },
  {
   "cell_type": "code",
   "execution_count": 7,
   "metadata": {},
   "outputs": [
    {
     "name": "stdout",
     "output_type": "stream",
     "text": [
      "[0.10090951 0.89159057 0.56809279 ... 0.52024878 0.77255877 1.        ]\n"
     ]
    }
   ],
   "source": [
    "prox_g = prob.prox\n",
    "# starting point\n",
    "N = 10000\n",
    "#q0 = np.ones(dimX + dimY+ dimU)\n",
    "#print(q0.shape)\n",
    "#for i in range(dimY):\n",
    "#    if hx[i+1](q_re, i+1) > 0:\n",
    "#        print(\"UNFEASIBLE\")\n",
    "print(q0)"
   ]
  },
  {
   "cell_type": "code",
   "execution_count": 8,
   "metadata": {
    "scrolled": true
   },
   "outputs": [
    {
     "name": "stdout",
     "output_type": "stream",
     "text": [
      "CPU time for aGRAAL: 74.2956191\n"
     ]
    }
   ],
   "source": [
    "showout= False\n",
    "ans1 = adaptive_graal(J_co, F_co, prox_g, q0, numb_iter=N, phi=1.5, output=showout)"
   ]
  },
  {
   "cell_type": "code",
   "execution_count": 9,
   "metadata": {
    "scrolled": false
   },
   "outputs": [
    {
     "data": {
      "image/png": "[encoded data removed]",
      "text/plain": [
       "<Figure size 432x288 with 1 Axes>"
      ]
     },
     "metadata": {
      "needs_background": "light"
     },
     "output_type": "display_data"
    }
   ],
   "source": [
    "plt.plot(ans1[0])\n",
    "\n",
    "plt.yscale('log')\n",
    "\n",
    "plt.xlabel(u' iterations, $k$')\n",
    "plt.ylabel(u'residual')\n",
    "\n",
    "#plt.savefig('figures/nash.pdf', bbox_inches='tight')\n",
    "plt.show()\n",
    "if showout:\n",
    "    print(\"Answer is\", ans1[0][-1])\n",
    "    print(\"X is\", ans1[2])\n",
    "    print(\"fx is\", fx(ans1[2][0:dimX]))\n",
    "    #print(\"diff is\",ans1[4])"
   ]
  },
  {
   "cell_type": "code",
   "execution_count": 108,
   "metadata": {},
   "outputs": [
    {
     "name": "stdout",
     "output_type": "stream",
     "text": [
      "J is 0.9000655098916494\n",
      "FX : [4.4e-323 4.4e-323 4.4e-323 5.4e-323 5.9e-323 1.5e-323 4.9e-323 3.5e-323\n",
      " 4.4e-323 4.0e-323 7.9e-323 7.4e-323 2.5e-323 3.5e-323 5.4e-323 4.9e-323\n",
      " 5.4e-323 2.0e-323 5.4e-323 4.9e-323 4.4e-323 3.0e-323 4.4e-323 3.5e-323\n",
      " 6.9e-323 5.4e-323 5.9e-323 6.4e-323 7.4e-323 7.4e-323 4.4e-323 7.4e-323\n",
      " 4.9e-323 4.4e-323 5.4e-323 3.0e-323 3.0e-323 3.5e-323 5.9e-323 3.0e-323\n",
      " 5.4e-323 5.9e-323 5.4e-323 5.4e-323 3.5e-323 5.4e-323 5.9e-323 3.5e-323\n",
      " 3.5e-323 3.5e-323 7.9e-323 4.4e-323 4.4e-323 5.9e-323 5.9e-323 4.9e-323\n",
      " 2.5e-323 4.4e-323 7.4e-323 5.9e-323 2.5e-323 5.4e-323 4.9e-323 7.9e-323\n",
      " 3.5e-323 4.4e-323 5.4e-323 6.4e-323 5.4e-323 4.9e-323 4.0e-323 3.5e-323\n",
      " 4.4e-323 8.4e-323 7.4e-323 4.9e-323 4.4e-323 4.4e-323 4.4e-323 4.4e-323\n",
      " 3.0e-323 3.0e-323 4.0e-323 6.9e-323 4.9e-323 4.0e-323 3.0e-323 5.9e-323\n",
      " 3.0e-323 6.9e-323 6.9e-323 7.4e-323 5.9e-323 3.5e-323 5.9e-323 4.9e-323\n",
      " 5.4e-323 3.0e-323 5.4e-323 6.4e-323]\n",
      "j : 0.8988428895011699\n",
      "h  -28826.63616817135\n",
      "y:  [5.e-324 5.e-324 5.e-324 5.e-324 5.e-324 5.e-324 5.e-324 5.e-324 5.e-324\n",
      " 5.e-324 5.e-324 5.e-324 5.e-324 5.e-324 5.e-324 5.e-324 5.e-324 5.e-324\n",
      " 5.e-324 5.e-324 5.e-324 5.e-324 5.e-324 5.e-324 5.e-324 5.e-324 5.e-324\n",
      " 5.e-324 5.e-324 5.e-324 5.e-324 5.e-324 5.e-324 5.e-324 5.e-324 5.e-324\n",
      " 5.e-324 5.e-324 5.e-324 5.e-324 5.e-324 5.e-324 5.e-324 5.e-324 5.e-324\n",
      " 5.e-324 5.e-324 5.e-324 5.e-324 5.e-324 5.e-324 5.e-324 5.e-324 5.e-324\n",
      " 5.e-324 5.e-324 5.e-324 5.e-324 5.e-324 5.e-324 5.e-324 5.e-324 5.e-324\n",
      " 5.e-324 5.e-324 5.e-324 5.e-324 5.e-324 5.e-324 5.e-324 5.e-324 5.e-324\n",
      " 5.e-324 5.e-324 5.e-324 5.e-324 5.e-324 5.e-324 5.e-324 5.e-324 5.e-324\n",
      " 5.e-324 5.e-324 5.e-324 5.e-324 5.e-324 5.e-324 5.e-324 5.e-324 5.e-324\n",
      " 5.e-324 5.e-324 5.e-324 5.e-324 5.e-324 5.e-324 5.e-324 5.e-324 5.e-324\n",
      " 5.e-324]\n",
      "fx is -3.990941191546999\n"
     ]
    }
   ],
   "source": [
    "print(\"J is\", ans1[0][-1])\n",
    "X = np.concatenate((ans1[2][:dimX], np.zeros(10)))\n",
    "#print(X.shape)\n",
    "Z = ans1[2]\n",
    "X = ans1[2][:dimX]\n",
    "Y = ans1[2][dimX:]\n",
    "print(\"FX :\", Y[0]*gradh[1](X,1))\n",
    "print(\"j :\", LA.norm(Z-prox_g((Z-F_co(Z)))))\n",
    "k = 1\n",
    "print(\"h \", hx[k](X, k))\n",
    "print(\"y: \", ans1[2][dimX:])\n",
    "print(\"fx is\", fx(ans1[2][0:dimX]))"
   ]
  },
  {
   "cell_type": "markdown",
   "metadata": {},
   "source": [
    "(F(x)-F(y))@(x-y) >=  for any X,Y "
   ]
  },
  {
   "cell_type": "markdown",
   "metadata": {},
   "source": [
    "## Solving the QCQP"
   ]
  },
  {
   "cell_type": "code",
   "execution_count": null,
   "metadata": {},
   "outputs": [],
   "source": [
    "from scipy.optimize import minimize\n",
    "cons = []\n",
    "print(hx)\n",
    "for i in range(len(hx)):\n",
    "    temp = ({'type': 'ineq', 'fun': lambda x,i: hx[i](x,i) })\n",
    "    cons.append(temp)\n",
    "x = np.ones(dimX)\n",
    "vec = A@x\n",
    "for i in range(A.shape[0]):\n",
    "    temp = ({'type': 'eq', 'fun': lambda x,i: vec[i] })\n",
    "    cons.append(temp)\n",
    "bnds = []\n",
    "for i in range(dimX):\n",
    "    temp = ((0, None))\n",
    "    bnds.append(temp)\n",
    "res = minimize(fx, x, method='SLSQP', bounds=bnds, constraints=cons)"
   ]
  },
  {
   "cell_type": "code",
   "execution_count": null,
   "metadata": {},
   "outputs": [],
   "source": [
    "print(fx(res['x']))\n",
    "print(res['x'])\n",
    "#print(\"Answer is:\", res)"
   ]
  },
  {
   "cell_type": "markdown",
   "metadata": {},
   "source": [
    "RESTCODE\n",
    "\n",
    "*---------------------------------------------------------------------------*\n",
    "\n",
    "RESTCODE"
   ]
  },
  {
   "cell_type": "code",
   "execution_count": null,
   "metadata": {
    "scrolled": true
   },
   "outputs": [],
   "source": [
    "p, q, r, A, b = randQCQPmat(dimX,dimY,True,True, dimU)"
   ]
  },
  {
   "cell_type": "code",
   "execution_count": null,
   "metadata": {},
   "outputs": [],
   "source": [
    "\n",
    "#start_time = time.time()\n",
    "#fx, hx, gradf, gradh = toQCQPmat(p, q, r)\n",
    "#print(\"--- %s seconds ---\" % (time.time() - start_time))\n",
    "hxs = []\n",
    "gradhs = []\n",
    "for i in range(len(hx)):\n",
    "    temp = lambda x: -1*hx[i](x)\n",
    "    hxs.append(temp)\n",
    "    temp = lambda x: -1*gradh[i](x)\n",
    "    gradhs.append(temp)"
   ]
  },
  {
   "cell_type": "code",
   "execution_count": null,
   "metadata": {},
   "outputs": [],
   "source": []
  }
 ],
 "metadata": {
  "kernelspec": {
   "display_name": "Python 3",
   "language": "python",
   "name": "python3"
  },
  "language_info": {
   "codemirror_mode": {
    "name": "ipython",
    "version": 3
   },
   "file_extension": ".py",
   "mimetype": "text/x-python",
   "name": "python",
   "nbconvert_exporter": "python",
   "pygments_lexer": "ipython3",
   "version": "3.7.4"
  }
 },
 "nbformat": 4,
 "nbformat_minor": 4
}
