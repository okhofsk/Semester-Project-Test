{
 "cells": [
  {
   "cell_type": "code",
   "execution_count": 1,
   "metadata": {},
   "outputs": [],
   "source": [
    "# Import Libraries and Dependencies\n",
    "import constrained_optimization\n",
    "from constrained_optimization.base import*\n",
    "from constrained_optimization.generate import*"
   ]
  },
  {
   "cell_type": "code",
   "execution_count": 2,
   "metadata": {},
   "outputs": [],
   "source": [
    "dimX = 10\n",
    "dimY = 10\n",
    "dimU = 10\n",
    "p, q, r, A, b = randQCQP(dimX,dimY,True,True, dimU)\n",
    "fx, hx, gradf, gradh = toQCQP(p, q, r)"
   ]
  },
  {
   "cell_type": "code",
   "execution_count": 3,
   "metadata": {},
   "outputs": [],
   "source": [
    "hxs = []\n",
    "gradhs = []\n",
    "for i in range(len(hx)):\n",
    "    temp = lambda x: -1*hx[i](x)\n",
    "    hxs.append(temp)\n",
    "    temp = lambda x: -1*gradh[i](x)\n",
    "    gradhs.append(temp)\n",
    "\n",
    "prob = co_problem(fx, dimX, hxs, None, gradf, gradhs, A, b)\n",
    "\n",
    "x = np.ones(10)\n",
    "F_co, J_co = prob.get_parameters(False)"
   ]
  },
  {
   "cell_type": "markdown",
   "metadata": {},
   "source": [
    "## Adaptive Graal to solve VI"
   ]
  },
  {
   "cell_type": "code",
   "execution_count": 4,
   "metadata": {},
   "outputs": [],
   "source": [
    "def adaptive_graal(J, F, prox_g, x1, numb_iter=100, phi=1.5, output=False): \n",
    "    begin = perf_counter()\n",
    "    x, x_ = x1.copy(), x1.copy()\n",
    "    x0 = x + np.random.randn(x.shape[0]) * 1e-9\n",
    "    Fx = F(x)\n",
    "    la = phi / 2 * LA.norm(x - x0) / LA.norm(Fx - F(x0))\n",
    "    rho = 1. / phi + 1. / phi**2\n",
    "    values = [J(x)]\n",
    "    time_list = [perf_counter() - begin]\n",
    "    th = 1\n",
    "\n",
    "    for i in range(numb_iter):\n",
    "        x1 = prox_g(x_ - la * Fx, la)\n",
    "        Fx1 = F(x1)\n",
    "\n",
    "        n1 = LA.norm(x1 - x)**2\n",
    "        n2 = LA.norm(Fx1 - Fx)**2\n",
    "        n1_div_n2 = n1/n2 if n2 != 0 else la*10\n",
    "\n",
    "        la1 = min(rho * la, 0.25 * phi * th / la * n1_div_n2)\n",
    "        x_ = ((phi - 1) * x1 + x_) / phi\n",
    "        if output:\n",
    "            print (i, la)\n",
    "        th = phi * la1 / la\n",
    "        x, la, Fx = x1, la1, Fx1\n",
    "        values.append(J(x))\n",
    "        time_list.append(perf_counter() - begin)\n",
    "    end = perf_counter()\n",
    "\n",
    "    print(\"CPU time for aGRAAL:\", end - begin)\n",
    "    return values, x, x_, time_list\n",
    "def adaptive_graal_terminate(J, F, prox_g, x1, numb_iter=100, phi=1.5, tol=1e-6, output=False):\n",
    "    begin = perf_counter()\n",
    "    x, x_ = x1.copy(), x1.copy()\n",
    "    x0 = x + np.random.randn(x.shape[0]) * 1e-9\n",
    "    Fx = F(x)\n",
    "    la = phi / 2 * LA.norm(x - x0) / LA.norm(Fx - F(x0))\n",
    "    rho = 1. / phi + 1. / phi**2\n",
    "    values = [J(x)]\n",
    "    time_list = [perf_counter() - begin]\n",
    "    th = 1\n",
    "\n",
    "    i = 1\n",
    "    while i <= numb_iter and values[-1] > tol:\n",
    "        i += 1\n",
    "        x1 = prox_g(x_ - la * Fx, la)\n",
    "        Fx1 = F(x1)\n",
    "\n",
    "        n1 = LA.norm(x1 - x)**2\n",
    "        n2 = LA.norm(Fx1 - Fx)**2\n",
    "        n1_div_n2 = np.exp(np.log(n1) - np.log(n2))\n",
    "        la1 = min(rho * la, 0.25 * phi * th / la * n1_div_n2, 1e6)\n",
    "        x_ = ((phi - 1) * x1 + x_) / phi\n",
    "        if output:\n",
    "            print (i, la)\n",
    "\n",
    "        th = phi * la1 / la\n",
    "        x, la, Fx = x1, la1, Fx1\n",
    "        values.append(J(x))\n",
    "        time_list.append(perf_counter() - begin)\n",
    "\n",
    "    end = perf_counter()\n",
    "\n",
    "    print(\"CPU time for aGRAAL:\", end - begin)\n",
    "    return values, x, i\n"
   ]
  },
  {
   "cell_type": "markdown",
   "metadata": {},
   "source": [
    "## Solver of VI"
   ]
  },
  {
   "cell_type": "code",
   "execution_count": 5,
   "metadata": {},
   "outputs": [
    {
     "name": "stdout",
     "output_type": "stream",
     "text": [
      "(30,)\n"
     ]
    }
   ],
   "source": [
    "prox_g = lambda q, eps: np.fmax(q,0)\n",
    "# starting point\n",
    "N = 1000\n",
    "q0 = np.ones(dimX + dimY + dimU)\n",
    "print(F_co(q0).shape)"
   ]
  },
  {
   "cell_type": "code",
   "execution_count": 6,
   "metadata": {
    "scrolled": true
   },
   "outputs": [
    {
     "name": "stdout",
     "output_type": "stream",
     "text": [
      "CPU time for aGRAAL: 0.28548360000000006\n"
     ]
    }
   ],
   "source": [
    "ans1 = adaptive_graal(J_co, F_co, prox_g, q0, numb_iter=N, phi=1.5, output=False)"
   ]
  },
  {
   "cell_type": "code",
   "execution_count": 7,
   "metadata": {
    "scrolled": false
   },
   "outputs": [
    {
     "data": {
      "image/png": "[encoded data removed]",
      "text/plain": [
       "<Figure size 432x288 with 1 Axes>"
      ]
     },
     "metadata": {
      "needs_background": "light"
     },
     "output_type": "display_data"
    },
    {
     "name": "stdout",
     "output_type": "stream",
     "text": [
      "Answer is 7.215473117187611\n",
      "Answer is [5.38402313e-120 1.80773239e-141 1.67837866e-001 5.40092447e-001\n",
      " 9.79751417e-001 1.23116153e-023 2.04236909e+000 5.15381400e-143\n",
      " 1.92219761e-112 1.38154025e+000 1.28441943e-002 1.28441943e-002\n",
      " 1.28441943e-002 1.28441943e-002 1.28441943e-002 1.28441943e-002\n",
      " 1.28441943e-002 1.28441943e-002 1.28441943e-002 1.28441943e-002\n",
      " 1.07916987e+000 3.38981038e-001 1.28570063e+000 1.11558546e+000\n",
      " 1.18584032e+000 1.10455141e+000 1.69354435e+000 1.35356484e+000\n",
      " 1.85694576e+000 1.84315033e+000]\n",
      "Answer is 26.6714200744562\n"
     ]
    }
   ],
   "source": [
    "plt.plot(ans1[0], '--b', label = 'FBF')\n",
    "\n",
    "plt.yscale('log')\n",
    "\n",
    "plt.xlabel(u' iterations, $k$')\n",
    "plt.ylabel(u'residual')\n",
    "\n",
    "plt.legend()\n",
    "#plt.savefig('figures/nash.pdf', bbox_inches='tight')\n",
    "plt.show()\n",
    "print(\"Answer is\", ans1[0][-1])\n",
    "print(\"Answer is\", ans1[2])\n",
    "print(\"Answer is\", fx(ans1[2][0:dimX]))"
   ]
  },
  {
   "cell_type": "markdown",
   "metadata": {},
   "source": [
    "## Solving the QCQP"
   ]
  },
  {
   "cell_type": "code",
   "execution_count": 8,
   "metadata": {},
   "outputs": [],
   "source": [
    "from scipy.optimize import minimize\n",
    "cons = []\n",
    "for i in range(len(hx)):\n",
    "    temp = ({'type': 'ineq', 'fun': lambda x: hx[i](x) })\n",
    "    cons.append(temp)\n",
    "bnds = []\n",
    "for i in range(dimX):\n",
    "    temp = ((0, None))\n",
    "    bnds.append(temp)\n",
    "x = np.ones(dimX)\n",
    "res = minimize(fx, x, method='SLSQP', bounds=bnds, constraints=cons)"
   ]
  },
  {
   "cell_type": "code",
   "execution_count": 9,
   "metadata": {},
   "outputs": [
    {
     "name": "stdout",
     "output_type": "stream",
     "text": [
      "19.716368384293858\n",
      "[0.00000000e+00 1.15809263e-13 1.25250057e+00 0.00000000e+00\n",
      " 0.00000000e+00 0.00000000e+00 3.73778765e-12 1.93020148e-13\n",
      " 2.85083031e+00 0.00000000e+00]\n"
     ]
    }
   ],
   "source": [
    "print(fx(res['x']))\n",
    "print(res['x'])\n",
    "#print(\"Answer is:\", res)"
   ]
  },
  {
   "cell_type": "code",
   "execution_count": null,
   "metadata": {},
   "outputs": [],
   "source": []
  }
 ],
 "metadata": {
  "kernelspec": {
   "display_name": "Python 3",
   "language": "python",
   "name": "python3"
  },
  "language_info": {
   "codemirror_mode": {
    "name": "ipython",
    "version": 3
   },
   "file_extension": ".py",
   "mimetype": "text/x-python",
   "name": "python",
   "nbconvert_exporter": "python",
   "pygments_lexer": "ipython3",
   "version": "3.7.4"
  }
 },
 "nbformat": 4,
 "nbformat_minor": 4
}
