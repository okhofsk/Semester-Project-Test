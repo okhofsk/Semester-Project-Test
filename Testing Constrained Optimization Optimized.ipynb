{
 "cells": [
  {
   "cell_type": "code",
   "execution_count": 1,
   "metadata": {},
   "outputs": [],
   "source": [
    "# Import Libraries and Dependencies\n",
    "import constrained_optimization\n",
    "from constrained_optimization.base import*\n",
    "from constrained_optimization.generate import*"
   ]
  },
  {
   "cell_type": "code",
   "execution_count": 2,
   "metadata": {},
   "outputs": [],
   "source": [
    "def projsplx(v, s=1):\n",
    "    assert s > 0, \"Radius s must be strictly positive (%d <= 0)\" % s\n",
    "    n, = v.shape  # will raise ValueError if v is not 1-D\n",
    "    # check if we are already on the simplex\n",
    "    if v.sum() == s and np.alltrue(v >= 0):\n",
    "        # best projection: itself!\n",
    "        return v\n",
    "    # get the array of cumulative sums of a sorted (decreasing) copy of v\n",
    "    u = np.sort(v)[::-1]\n",
    "    cssv = np.cumsum(u)\n",
    "    # get the number of > 0 components of the optimal solution\n",
    "    rho = np.nonzero(u * np.arange(1, n+1) > (cssv - s))[0][-1]\n",
    "    # compute the Lagrange multiplier associated to the simplex constraint\n",
    "    theta = (cssv[rho] - s) / (rho + 1.0)\n",
    "    # compute the projection by thresholding v using theta\n",
    "    w = (v - theta).clip(min=0)\n",
    "    return w\n",
    "\n",
    "fmax = lambda x: np.clip(x,0,None)"
   ]
  },
  {
   "cell_type": "code",
   "execution_count": 3,
   "metadata": {
    "scrolled": true
   },
   "outputs": [
    {
     "ename": "ValueError",
     "evalue": "not enough values to unpack (expected 6, got 5)",
     "output_type": "error",
     "traceback": [
      "\u001b[1;31m---------------------------------------------------------------------------\u001b[0m",
      "\u001b[1;31mValueError\u001b[0m                                Traceback (most recent call last)",
      "\u001b[1;32m<ipython-input-3-3439f5ff1b3c>\u001b[0m in \u001b[0;36m<module>\u001b[1;34m\u001b[0m\n\u001b[0;32m      6\u001b[0m \u001b[1;32mimport\u001b[0m \u001b[0mtime\u001b[0m\u001b[1;33m\u001b[0m\u001b[1;33m\u001b[0m\u001b[0m\n\u001b[0;32m      7\u001b[0m \u001b[0mstart_time\u001b[0m \u001b[1;33m=\u001b[0m \u001b[0mtime\u001b[0m\u001b[1;33m.\u001b[0m\u001b[0mtime\u001b[0m\u001b[1;33m(\u001b[0m\u001b[1;33m)\u001b[0m\u001b[1;33m\u001b[0m\u001b[1;33m\u001b[0m\u001b[0m\n\u001b[1;32m----> 8\u001b[1;33m \u001b[0mq0\u001b[0m\u001b[1;33m,\u001b[0m \u001b[0mp\u001b[0m\u001b[1;33m,\u001b[0m \u001b[0mq\u001b[0m\u001b[1;33m,\u001b[0m \u001b[0mr\u001b[0m\u001b[1;33m,\u001b[0m \u001b[0mA\u001b[0m\u001b[1;33m,\u001b[0m \u001b[0mb\u001b[0m \u001b[1;33m=\u001b[0m \u001b[0mrandQCQPmat\u001b[0m\u001b[1;33m(\u001b[0m\u001b[0mdimX\u001b[0m\u001b[1;33m,\u001b[0m\u001b[0mdimY\u001b[0m\u001b[1;33m,\u001b[0m \u001b[0mproj\u001b[0m\u001b[1;33m,\u001b[0m\u001b[1;32mTrue\u001b[0m\u001b[1;33m,\u001b[0m\u001b[1;32mFalse\u001b[0m\u001b[1;33m,\u001b[0m \u001b[0mdimU\u001b[0m\u001b[1;33m)\u001b[0m\u001b[1;33m\u001b[0m\u001b[1;33m\u001b[0m\u001b[0m\n\u001b[0m\u001b[0;32m      9\u001b[0m \u001b[0mprint\u001b[0m\u001b[1;33m(\u001b[0m\u001b[1;34m\"--- %s seconds ---\"\u001b[0m \u001b[1;33m%\u001b[0m \u001b[1;33m(\u001b[0m\u001b[0mtime\u001b[0m\u001b[1;33m.\u001b[0m\u001b[0mtime\u001b[0m\u001b[1;33m(\u001b[0m\u001b[1;33m)\u001b[0m \u001b[1;33m-\u001b[0m \u001b[0mstart_time\u001b[0m\u001b[1;33m)\u001b[0m\u001b[1;33m)\u001b[0m\u001b[1;33m\u001b[0m\u001b[1;33m\u001b[0m\u001b[0m\n",
      "\u001b[1;31mValueError\u001b[0m: not enough values to unpack (expected 6, got 5)"
     ]
    }
   ],
   "source": [
    "dimX = 2\n",
    "dimY = 1\n",
    "dimU = 0\n",
    "proj = None\n",
    "\n",
    "import time\n",
    "start_time = time.time()\n",
    "q0, p, q, r, A, b = randQCQPmat(dimX,dimY, proj,True,False, dimU)\n",
    "print(\"--- %s seconds ---\" % (time.time() - start_time))\n"
   ]
  },
  {
   "cell_type": "code",
   "execution_count": null,
   "metadata": {
    "scrolled": true
   },
   "outputs": [],
   "source": [
    "fx, hx, gradf, gradh, hx_opt = toQCQP_opt(p, q, r)"
   ]
  },
  {
   "cell_type": "code",
   "execution_count": null,
   "metadata": {},
   "outputs": [],
   "source": [
    "prob = co_problem(fx, (dimX, dimY), hx_opt, None, gradf, gradh, True, A, b)\n",
    "\n",
    "x = np.ones(dimX+dimY+dimU)\n",
    "F_co, J_co = prob.get_parameters(False)\n",
    "print(hx[1](q0[:dimX],1))"
   ]
  },
  {
   "cell_type": "markdown",
   "metadata": {},
   "source": [
    "## Adaptive Graal to solve VI"
   ]
  },
  {
   "cell_type": "code",
   "execution_count": null,
   "metadata": {},
   "outputs": [],
   "source": [
    "def adaptive_graal(J, F, prox_g, x1, numb_iter=100, phi=1.5, output=False): \n",
    "    begin = perf_counter()\n",
    "    x, x_ = x1.copy(), x1.copy()\n",
    "    x0 = x + np.random.randn(x.shape[0]) * 1e-9\n",
    "    Fx = F(x)\n",
    "    la = phi / 2 * LA.norm(x - x0) / LA.norm(Fx - F(x0))\n",
    "    rho = 1. / phi + 1. / phi**2\n",
    "    values = [J(x)]\n",
    "    diff = [0]\n",
    "    time_list = [perf_counter() - begin]\n",
    "    th = 1\n",
    "\n",
    "    for i in range(numb_iter):\n",
    "        x1 = prox_g(x_ - la * Fx)\n",
    "        Fx1 = F(x1)\n",
    "        if output:\n",
    "            for j in range(dimY):\n",
    "                if hx[j+1](x1[:dimX], j+1) > 0:\n",
    "                    print(\"UNFEASIBLE\")\n",
    "                    print(\"hx: \", hx[j+1](x1[:dimX], j+1))\n",
    "                    continue\n",
    "            print(\"iteration: \", i, \"\\n\")\n",
    "            print(\"F: \", Fx1, \"\\n\")\n",
    "            print(\"x: \", x1[:dimX], \"\\n\")\n",
    "            print(\"y: \", x1[dimX:dimX+dimY], \"\\n\")\n",
    "            print(\"u: \", x1[dimX+dimY:dimX+dimY+dimU], \"\\n\")\n",
    "            #print(\"prox: \", prox_g(x_ - la * Fx, la), \"\\n\")\n",
    "\n",
    "        n1 = LA.norm(x1 - x)**2\n",
    "        n2 = LA.norm(Fx1 - Fx)**2\n",
    "        n1_div_n2 = n1/n2 if n2 != 0 else la*10\n",
    "\n",
    "        la1 = min(rho * la, 0.25 * phi * th / la * n1_div_n2)\n",
    "        #values.append(np.linalg.norm(x_-x1)/la)\n",
    "        x_ = ((phi - 1) * x1 + x_) / phi\n",
    "        #if output:\n",
    "            #print (i, la)\n",
    "        th = phi * la1 / la\n",
    "        x, la, Fx = x1, la1, Fx1\n",
    "        #if i%50 == 0: \n",
    "            #print(\"x at iteration \", i , \": \", x)\n",
    "        temp = values[-1]\n",
    "        values.append(J(x))\n",
    "        diff.append(np.absolute(temp - values[-1]))\n",
    "        time_list.append(perf_counter() - begin)\n",
    "    end = perf_counter()\n",
    "    \n",
    "    for j in range(dimY):\n",
    "        if hx[j+1](x1[:dimX], j+1) > 0:\n",
    "            print(\"UNFEASIBLE\")\n",
    "            print(\"hx: \", hx[j+1](x1[:dimX], j+1))\n",
    "    print(\"CPU time for aGRAAL:\", end - begin)\n",
    "    return values, x, x_, time_list, diff"
   ]
  },
  {
   "cell_type": "markdown",
   "metadata": {},
   "source": [
    "## Solver of VI"
   ]
  },
  {
   "cell_type": "code",
   "execution_count": null,
   "metadata": {},
   "outputs": [],
   "source": [
    "prox_g = prob.prox\n",
    "# starting point\n",
    "N = 10000\n",
    "#q0 = np.ones(dimX + dimY+ dimU)\n",
    "#print(q0.shape)\n",
    "#for i in range(dimY):\n",
    "#    if hx[i+1](q_re, i+1) > 0:\n",
    "#        print(\"UNFEASIBLE\")\n",
    "print(q0)"
   ]
  },
  {
   "cell_type": "code",
   "execution_count": null,
   "metadata": {
    "scrolled": true
   },
   "outputs": [],
   "source": [
    "showout= False\n",
    "ans1 = adaptive_graal(J_co, F_co, prox_g, q0, numb_iter=N, phi=1.5, output=showout)"
   ]
  },
  {
   "cell_type": "code",
   "execution_count": null,
   "metadata": {
    "scrolled": false
   },
   "outputs": [],
   "source": [
    "plt.plot(ans1[0])\n",
    "\n",
    "plt.yscale('log')\n",
    "\n",
    "plt.xlabel(u' iterations, $k$')\n",
    "plt.ylabel(u'residual')\n",
    "\n",
    "#plt.savefig('figures/nash.pdf', bbox_inches='tight')\n",
    "plt.show()\n",
    "if showout:\n",
    "    print(\"Answer is\", ans1[0][-1])\n",
    "    print(\"X is\", ans1[2])\n",
    "    print(\"fx is\", fx(ans1[2][0:dimX]))\n",
    "    #print(\"diff is\",ans1[4])"
   ]
  },
  {
   "cell_type": "code",
   "execution_count": null,
   "metadata": {},
   "outputs": [],
   "source": [
    "print(\"J is\", ans1[0][-1])\n",
    "X = np.concatenate((ans1[2][:dimX], np.zeros(10)))\n",
    "#print(X.shape)\n",
    "Z = ans1[2]\n",
    "X = ans1[2][:dimX]\n",
    "Y = ans1[2][dimX:]\n",
    "print(\"FX :\", Y[0]*gradh[1](X,1))\n",
    "print(\"j :\", LA.norm(Z-prox_g((Z-F_co(Z)))))\n",
    "k = 1\n",
    "print(\"h \", hx[k](X, k))\n",
    "print(\"y: \", ans1[2][dimX:])\n",
    "print(\"fx is\", fx(ans1[2][0:dimX]))"
   ]
  },
  {
   "cell_type": "markdown",
   "metadata": {},
   "source": [
    "(F(x)-F(y))@(x-y) >=  for any X,Y "
   ]
  },
  {
   "cell_type": "markdown",
   "metadata": {},
   "source": [
    "## Solving the QCQP"
   ]
  },
  {
   "cell_type": "code",
   "execution_count": null,
   "metadata": {},
   "outputs": [],
   "source": [
    "from scipy.optimize import minimize\n",
    "cons = []\n",
    "print(hx)\n",
    "for i in range(len(hx)):\n",
    "    temp = ({'type': 'ineq', 'fun': lambda x,i: hx[i](x,i) })\n",
    "    cons.append(temp)\n",
    "x = np.ones(dimX)\n",
    "vec = A@x\n",
    "for i in range(A.shape[0]):\n",
    "    temp = ({'type': 'eq', 'fun': lambda x,i: vec[i] })\n",
    "    cons.append(temp)\n",
    "bnds = []\n",
    "for i in range(dimX):\n",
    "    temp = ((0, None))\n",
    "    bnds.append(temp)\n",
    "res = minimize(fx, x, method='SLSQP', bounds=bnds, constraints=cons)"
   ]
  },
  {
   "cell_type": "code",
   "execution_count": null,
   "metadata": {},
   "outputs": [],
   "source": [
    "print(fx(res['x']))\n",
    "print(res['x'])\n",
    "#print(\"Answer is:\", res)"
   ]
  },
  {
   "cell_type": "markdown",
   "metadata": {},
   "source": [
    "RESTCODE\n",
    "\n",
    "*---------------------------------------------------------------------------*\n",
    "\n",
    "RESTCODE"
   ]
  },
  {
   "cell_type": "code",
   "execution_count": null,
   "metadata": {
    "scrolled": true
   },
   "outputs": [],
   "source": [
    "p, q, r, A, b = randQCQPmat(dimX,dimY,True,True, dimU)"
   ]
  },
  {
   "cell_type": "code",
   "execution_count": null,
   "metadata": {},
   "outputs": [],
   "source": [
    "\n",
    "#start_time = time.time()\n",
    "#fx, hx, gradf, gradh = toQCQPmat(p, q, r)\n",
    "#print(\"--- %s seconds ---\" % (time.time() - start_time))\n",
    "hxs = []\n",
    "gradhs = []\n",
    "for i in range(len(hx)):\n",
    "    temp = lambda x: -1*hx[i](x)\n",
    "    hxs.append(temp)\n",
    "    temp = lambda x: -1*gradh[i](x)\n",
    "    gradhs.append(temp)"
   ]
  },
  {
   "cell_type": "code",
   "execution_count": null,
   "metadata": {},
   "outputs": [],
   "source": []
  }
 ],
 "metadata": {
  "kernelspec": {
   "display_name": "Python 3",
   "language": "python",
   "name": "python3"
  },
  "language_info": {
   "codemirror_mode": {
    "name": "ipython",
    "version": 3
   },
   "file_extension": ".py",
   "mimetype": "text/x-python",
   "name": "python",
   "nbconvert_exporter": "python",
   "pygments_lexer": "ipython3",
   "version": "3.7.4"
  }
 },
 "nbformat": 4,
 "nbformat_minor": 4
}
