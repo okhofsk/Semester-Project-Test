{
 "cells": [
  {
   "cell_type": "code",
   "execution_count": 1,
   "metadata": {},
   "outputs": [],
   "source": [
    "# Import Libraries and Dependencies\n",
    "from vilib.constrained_optimization.base import co_problem\n",
    "from vilib.constrained_optimization.generate import*\n",
    "from vilib.utility.utility import*\n",
    "import numpy as np\n",
    "import matplotlib.pyplot as plt\n",
    "from time import perf_counter\n",
    "import numpy.linalg as LA"
   ]
  },
  {
   "cell_type": "code",
   "execution_count": 6,
   "metadata": {
    "scrolled": true
   },
   "outputs": [
    {
     "name": "stdout",
     "output_type": "stream",
     "text": [
      "[0.         0.         0.         0.         0.         0.\n",
      " 0.         0.         0.44832316 0.         0.         0.\n",
      " 0.         0.01172913 0.         0.159008   0.         0.22598206\n",
      " 0.13416836 0.02078928]\n",
      "--- 0.001965761184692383 seconds ---\n"
     ]
    }
   ],
   "source": [
    "dimX = 20\n",
    "dimY = 10\n",
    "dimU = 0\n",
    "proj = get_projector(\"simplex\")\n",
    "\n",
    "import time\n",
    "start_time = time.time()\n",
    "q0, p, q, r, A, b = randQCQP(dimX,dimY, proj,True,\"minusuniform\")\n",
    "print(\"--- %s seconds ---\" % (time.time() - start_time))\n"
   ]
  },
  {
   "cell_type": "code",
   "execution_count": 3,
   "metadata": {
    "scrolled": true
   },
   "outputs": [],
   "source": [
    "fx, hx, gradf, gradh, hx_opt = toQCQP_opt(p, q, r)"
   ]
  },
  {
   "cell_type": "code",
   "execution_count": 4,
   "metadata": {},
   "outputs": [],
   "source": [
    "prob = co_problem(fx, (dimX, dimY), hx_opt, proj, gradf, gradh, True, A, b)\n",
    "\n",
    "x = np.ones(dimX+dimY+dimU)\n",
    "F_co, J_co = prob.get_parameters(False)\n",
    "print(prob)"
   ]
  },
  {
   "cell_type": "markdown",
   "metadata": {},
   "source": [
    "## Adaptive Graal to solve VI"
   ]
  },
  {
   "cell_type": "code",
   "execution_count": 5,
   "metadata": {},
   "outputs": [],
   "source": [
    "def adaptive_graal(J, F, prox_g, x1, numb_iter=100, phi=1.5, output=False): \n",
    "    begin = perf_counter()\n",
    "    x, x_ = x1.copy(), x1.copy()\n",
    "    x0 = x + np.random.randn(x.shape[0]) * 1e-9\n",
    "    Fx = F(x)\n",
    "    la = phi / 2 * LA.norm(x - x0) / LA.norm(Fx - F(x0))\n",
    "    rho = 1. / phi + 1. / phi**2\n",
    "    values = [J(x)]\n",
    "    diff = [0]\n",
    "    time_list = [perf_counter() - begin]\n",
    "    th = 1\n",
    "\n",
    "    for i in range(numb_iter):\n",
    "        x1 = prox_g(x_ - la * Fx)\n",
    "        Fx1 = F(x1)\n",
    "            #print(\"prox: \", prox_g(x_ - la * Fx, la), \"\\n\")\n",
    "\n",
    "        n1 = LA.norm(x1 - x)**2\n",
    "        n2 = LA.norm(Fx1 - Fx)**2\n",
    "        n1_div_n2 = n1/n2 if n2 != 0 else la*10\n",
    "\n",
    "        la1 = min(rho * la, 0.25 * phi * th / la * n1_div_n2)\n",
    "        #values.append(np.linalg.norm(x_-x1)/la)\n",
    "        x_ = ((phi - 1) * x1 + x_) / phi\n",
    "        #if output:\n",
    "            #print (i, la)\n",
    "        th = phi * la1 / la\n",
    "        x, la, Fx = x1, la1, Fx1\n",
    "        #if i%50 == 0: \n",
    "            #print(\"x at iteration \", i , \": \", x)\n",
    "        temp = values[-1]\n",
    "        values.append(J(x))\n",
    "        diff.append(temp - values[-1])\n",
    "        \n",
    "        if output:\n",
    "            for j in range(dimY):\n",
    "                if hx[j+1](x1[:dimX], j+1) > 0:\n",
    "                    print(\"UNFEASIBLE\")\n",
    "                    print(\"hx: \", hx[j+1](x1[:dimX], j+1))\n",
    "                    continue\n",
    "            \n",
    "            print(\"iteration: \", i, \"\\n\")\n",
    "            print(\"J: \", values[-1])\n",
    "            #print(\"F: \", Fx1, \"\\n\")\n",
    "            print(\"x: \", x1[:dimX], \"\\n\")\n",
    "            print(\"y: \", x1[dimX:dimX+dimY], \"\\n\")\n",
    "            #print(\"u: \", x1[dimX+dimY:dimX+dimY+dimU], \"\\n\")\n",
    "        time_list.append(perf_counter() - begin)\n",
    "    end = perf_counter()\n",
    "    \n",
    "    for j in range(dimY):\n",
    "        if hx[j+1](x1[:dimX], j+1) > 0:\n",
    "            print(\"UNFEASIBLE\")\n",
    "            print(\"hx: \", hx[j+1](x1[:dimX], j+1))\n",
    "    print(\"CPU time for aGRAAL:\", end - begin)\n",
    "    return values, x, x_, time_list, diff"
   ]
  },
  {
   "cell_type": "markdown",
   "metadata": {},
   "source": [
    "## Solver of VI"
   ]
  },
  {
   "cell_type": "code",
   "execution_count": 6,
   "metadata": {},
   "outputs": [
    {
     "name": "stdout",
     "output_type": "stream",
     "text": [
      "[0.85862898 0.         0.03911402 0.97193082 0.82333645 0.05317186\n",
      " 0.40260831 0.86207961 0.09933753 0.         0.72209981 0.43061807\n",
      " 0.34466649 0.1764556  0.         0.         0.67855156 0.\n",
      " 0.         0.36413976 1.         1.         1.         1.\n",
      " 1.         1.         1.         1.         1.         1.        ]\n"
     ]
    }
   ],
   "source": [
    "prox_g = prob.prox\n",
    "# starting point\n",
    "N = 2000\n",
    "#q0 = np.ones(dimX + dimY+ dimU)\n",
    "#print(q0.shape)\n",
    "#for i in range(dimY):\n",
    "#    if hx[i+1](q_re, i+1) > 0:\n",
    "#        print(\"UNFEASIBLE\")\n",
    "print(q0)"
   ]
  },
  {
   "cell_type": "code",
   "execution_count": 7,
   "metadata": {
    "scrolled": true
   },
   "outputs": [
    {
     "name": "stdout",
     "output_type": "stream",
     "text": [
      "CPU time for aGRAAL: 0.5291633\n"
     ]
    }
   ],
   "source": [
    "showout= False\n",
    "ans1 = adaptive_graal(J_co, F_co, prox_g, q0, numb_iter=N, phi=1.5, output=showout)"
   ]
  },
  {
   "cell_type": "code",
   "execution_count": 8,
   "metadata": {
    "scrolled": false
   },
   "outputs": [
    {
     "data": {
      "image/png": "[encoded data removed]",
      "text/plain": [
       "<Figure size 432x288 with 1 Axes>"
      ]
     },
     "metadata": {
      "needs_background": "light"
     },
     "output_type": "display_data"
    }
   ],
   "source": [
    "plt.plot(ans1[0])\n",
    "\n",
    "plt.yscale('log')\n",
    "\n",
    "plt.xlabel(u' iterations, $k$')\n",
    "plt.ylabel(u'residual')\n",
    "\n",
    "#plt.savefig('figures/nash.pdf', bbox_inches='tight')\n",
    "plt.show()\n",
    "if showout:\n",
    "    print(\"Answer is\", ans1[0][-1])\n",
    "    print(\"X is\", ans1[2])\n",
    "    print(\"fx is\", fx(ans1[2][0:dimX]))\n",
    "    #print(\"diff is\",ans1[4])"
   ]
  },
  {
   "cell_type": "code",
   "execution_count": 9,
   "metadata": {},
   "outputs": [
    {
     "name": "stdout",
     "output_type": "stream",
     "text": [
      "J is 4.315162440633845e-14\n",
      "X :  [4.94065646e-324 3.80173684e-001 1.94715317e-001 4.94065646e-324\n",
      " 1.97949609e-001 4.94065646e-324 4.94065646e-324 2.47409622e-002\n",
      " 1.81457167e-001 2.35007230e-001 4.94065646e-324 2.91804554e-001\n",
      " 1.10693431e-001 9.39836366e-002 4.94065646e-324 4.29540959e-001\n",
      " 2.47354443e-001 4.36562591e-002 0.00000000e+000 7.79203061e-002]\n",
      "FX : [-9.9e-324  4.9e-324  9.9e-324 -9.9e-324  0.0e+000 -4.9e-324 -4.9e-324\n",
      " -4.9e-324  9.9e-324  2.5e-323 -0.0e+000  1.5e-323  1.5e-323  0.0e+000\n",
      " -4.9e-324  9.9e-324  0.0e+000  0.0e+000 -1.5e-323  2.0e-323]\n",
      "j : 4.378944132178691e-14\n",
      "h  -5.874978379818018\n",
      "y:  [5.e-324 5.e-324 5.e-324 5.e-324 5.e-324 5.e-324 5.e-324 5.e-324 5.e-324\n",
      " 5.e-324]\n",
      "fx is -0.7134727283229287\n"
     ]
    }
   ],
   "source": [
    "print(\"J is\", ans1[0][-1])\n",
    "X = np.concatenate((ans1[2][:dimX], np.zeros(10)))\n",
    "#print(X.shape)\n",
    "Z = ans1[2]\n",
    "X = ans1[2][:dimX]\n",
    "Y = ans1[2][dimX:]\n",
    "print(\"X : \", X)\n",
    "print(\"FX :\", Y[0]*gradh[1](X,1))\n",
    "print(\"j :\", LA.norm(Z-prox_g((Z-F_co(Z)))))\n",
    "k = 1\n",
    "print(\"h \", hx[k](X, k))\n",
    "print(\"y: \", ans1[2][dimX:])\n",
    "print(\"fx is\", fx(ans1[2][0:dimX]))"
   ]
  },
  {
   "cell_type": "markdown",
   "metadata": {},
   "source": [
    "(F(x)-F(y))@(x-y) >=  for any X,Y "
   ]
  },
  {
   "cell_type": "code",
   "execution_count": 10,
   "metadata": {},
   "outputs": [],
   "source": [
    "from scipy.optimize import minimize\n",
    "cons = []\n",
    "ind = 0\n",
    "operator = lambda x,i: -1*hx_opt[i](x,i, gradh[i](x,i))\n",
    "\n",
    "temp = ({'type': 'ineq', 'fun': lambda x: operator(x,1) })\n",
    "cons.append(temp)\n",
    "temp = ({'type': 'ineq', 'fun': lambda x: operator(x,2) })\n",
    "cons.append(temp)\n",
    "temp = ({'type': 'ineq', 'fun': lambda x: operator(x,3) })\n",
    "cons.append(temp)\n",
    "temp = ({'type': 'ineq', 'fun': lambda x: operator(x,4) })\n",
    "cons.append(temp)\n",
    "temp = ({'type': 'ineq', 'fun': lambda x: operator(x,5) })\n",
    "cons.append(temp)\n",
    "temp = ({'type': 'ineq', 'fun': lambda x: operator(x,6) })\n",
    "cons.append(temp)\n",
    "temp = ({'type': 'ineq', 'fun': lambda x: operator(x,7) })\n",
    "cons.append(temp)\n",
    "temp = ({'type': 'ineq', 'fun': lambda x: operator(x,8) })\n",
    "cons.append(temp)\n",
    "temp = ({'type': 'ineq', 'fun': lambda x: operator(x,9) })\n",
    "cons.append(temp)\n",
    "temp = ({'type': 'ineq', 'fun': lambda x: operator(x,10) })\n",
    "cons.append(temp)\n",
    "    \n",
    "bnds = []\n",
    "x = np.ones(dimX)\n",
    "for i in range(dimX):\n",
    "    temp = ((0, None))\n",
    "    bnds.append(temp)\n",
    "res = minimize(fx, x, method='SLSQP', bounds=bnds, constraints=cons)"
   ]
  },
  {
   "cell_type": "code",
   "execution_count": 11,
   "metadata": {},
   "outputs": [
    {
     "data": {
      "text/plain": [
       "     fun: -0.7134726372870005\n",
       "     jac: array([ 4.12721761e-01,  3.84025276e-04, -4.16405499e-04,  5.72648905e-01,\n",
       "        1.61975622e-05,  1.57801991e+00,  7.79038519e-01,  4.24861908e-04,\n",
       "        2.76938081e-05,  3.03260982e-04,  6.20123520e-02, -6.90072775e-05,\n",
       "        2.43298709e-04, -1.65857375e-04,  1.09198615e-02,  2.68794596e-04,\n",
       "        3.73743474e-04,  7.30082393e-05,  1.52970560e-01, -1.29096210e-04])\n",
       " message: 'Optimization terminated successfully.'\n",
       "    nfev: 407\n",
       "     nit: 18\n",
       "    njev: 18\n",
       "  status: 0\n",
       " success: True\n",
       "       x: array([1.65738919e-15, 3.80237004e-01, 1.94743186e-01, 9.43816407e-16,\n",
       "       1.97931054e-01, 3.92430359e-15, 7.43011568e-16, 2.47917821e-02,\n",
       "       1.81540821e-01, 2.35131932e-01, 2.39074580e-16, 2.91869131e-01,\n",
       "       1.10715787e-01, 9.40040839e-02, 0.00000000e+00, 4.29646798e-01,\n",
       "       2.47523105e-01, 4.37134736e-02, 0.00000000e+00, 7.78063141e-02])"
      ]
     },
     "execution_count": 11,
     "metadata": {},
     "output_type": "execute_result"
    }
   ],
   "source": [
    "res"
   ]
  },
  {
   "cell_type": "markdown",
   "metadata": {},
   "source": [
    "Linesearch"
   ]
  },
  {
   "cell_type": "code",
   "execution_count": 12,
   "metadata": {},
   "outputs": [],
   "source": [
    "def tseng_fbf_linesearch(J, F, prox_g, x0, delta=2, numb_iter=100):\n",
    "    \"\"\"\n",
    "    Tseng's forward-backward-forward algorithm with linesearch for\n",
    "    monotone inclusion $0 \\in F + \\partial g.\n",
    "    Notice that FBF algorithm in this form works only for Nash\n",
    "    problem, as every time we project x onto the nonnegative orthant\n",
    "    to make it feasible.\n",
    "    \n",
    "    Input \n",
    "    -----\n",
    "    J : function that computes residual in every iteration.\n",
    "        Takes x as input.\n",
    "    F : main operator.\n",
    "        Takes x as input.\n",
    "    prox_g: proximal operator.\n",
    "        Takes two parameters x and a scalar as input.\n",
    "    x0: Strating point.\n",
    "        np.array, must be consistent with J, F and prox_g.\n",
    "    delta: a positive number.\n",
    "        Allows stepsize to increase from iteration to iteration. \n",
    "    numb_iter: number of iteration to run rhe algorithm.\n",
    "    Return\n",
    "    ------\n",
    "    iterates: a list of \n",
    "        values (another list that collects all values J(x)), \n",
    "        x : last iterate.\n",
    "        la : a positive number, last stepsize.\n",
    "        n_F: number of F evaluated in total.\n",
    "        n_prox: number of proximal maps evaluated in total.\n",
    "    \"\"\"\n",
    "    begin = perf_counter()\n",
    "    beta = 0.7\n",
    "    theta = 0.99\n",
    "\n",
    "    x1 = x0 + np.random.randn(x0.shape[0]) * 1e-9\n",
    "    Fx = F(x0)\n",
    "\n",
    "    la0 = LA.norm(F(x1)-Fx)/ LA.norm(x1-x0)\n",
    "    iterates = [[J(x0)], x0, la0, 1, 0]\n",
    "\n",
    "    def iter_T(values, x, la, n_F, n_prox):\n",
    "        Fx = F(x)\n",
    "        la *= delta\n",
    "        for j in range(100):\n",
    "            z = prox_g(x - la * Fx, la)\n",
    "            Fz = F(z)\n",
    "            if la * LA.norm(Fz - Fx) <= theta * LA.norm(z - x):\n",
    "                break\n",
    "            else:\n",
    "                la *= beta\n",
    "        #x1 = z - la * (Fz - Fx)\n",
    "        x1 = np.fmax(z - la * (Fz - Fx), 0)\n",
    "        # print j, la\n",
    "        values.append(J(z))\n",
    "        # n_f += j+1\n",
    "        n_F += j + 2\n",
    "        n_prox += j + 1\n",
    "        ans = [values, x1, la,  n_F, n_prox]\n",
    "        return ans\n",
    "\n",
    "    for i in range(numb_iter):\n",
    "        iterates = iter_T(*iterates)\n",
    "\n",
    "    end = perf_counter()\n",
    "    #print(\"---- FBF ----\")\n",
    "    #print(\"Number of iterations:\", numb_iter)\n",
    "    #print(\"Number of gradients, n_grad:\", iterates[-2])\n",
    "    #print(\"Number of prox_g:\", iterates[-1])\n",
    "    print(\"CPU time for FBF:\", end - begin)\n",
    "    return iterates"
   ]
  },
  {
   "cell_type": "code",
   "execution_count": 13,
   "metadata": {},
   "outputs": [
    {
     "name": "stdout",
     "output_type": "stream",
     "text": [
      "CPU time for FBF: 0.6319781999999998\n"
     ]
    }
   ],
   "source": [
    "N = 1000\n",
    "show_out = False\n",
    "proxg = lambda x,eps: prox_g(x)\n",
    "q0 = proxg(np.ones(dimX + dimY),1)\n",
    "ans1 = tseng_fbf_linesearch(J_co, F_co, proxg, q0, 2, N)"
   ]
  },
  {
   "cell_type": "code",
   "execution_count": 14,
   "metadata": {},
   "outputs": [
    {
     "data": {
      "image/png": "[encoded data removed]",
      "text/plain": [
       "<Figure size 432x288 with 1 Axes>"
      ]
     },
     "metadata": {
      "needs_background": "light"
     },
     "output_type": "display_data"
    }
   ],
   "source": [
    "plt.plot(ans1[0], '--b')\n",
    "\n",
    "plt.yscale('log')\n",
    "\n",
    "plt.xlabel(u' iterations, $k$')\n",
    "plt.ylabel(u'residual')\n",
    "\n",
    "#plt.savefig('figures/nash.pdf', bbox_inches='tight')\n",
    "plt.show()"
   ]
  },
  {
   "cell_type": "code",
   "execution_count": 15,
   "metadata": {},
   "outputs": [
    {
     "name": "stdout",
     "output_type": "stream",
     "text": [
      "J is 2.5185126219841606e-15\n",
      "X :  [0.         0.38017368 0.19471532 0.         0.19794961 0.\n",
      " 0.         0.02474096 0.18145717 0.23500723 0.         0.29180455\n",
      " 0.11069343 0.09398364 0.         0.42954096 0.24735444 0.04365626\n",
      " 0.         0.07792031]\n",
      "FX : [-0.  0.  0. -0.  0. -0. -0. -0.  0.  0. -0.  0.  0.  0. -0.  0.  0.  0.\n",
      " -0.  0.]\n",
      "j : 2.5185126219841606e-15\n",
      "h  -5.874978379817818\n",
      "y:  [0. 0. 0. 0. 0. 0. 0. 0. 0. 0.]\n",
      "fx is -0.7134727283229287\n"
     ]
    }
   ],
   "source": [
    "print(\"J is\", ans1[0][-1])\n",
    "X = np.concatenate((ans1[1][:dimX], np.zeros(10)))\n",
    "#print(X.shape)\n",
    "Z = ans1[1]\n",
    "X = ans1[1][:dimX]\n",
    "Y = ans1[1][dimX:]\n",
    "print(\"X : \", X)\n",
    "print(\"FX :\", Y[0]*gradh[1](X,1))\n",
    "print(\"j :\", LA.norm(Z-prox_g((Z-F_co(Z)))))\n",
    "k = 1\n",
    "print(\"h \", hx[k](X, k))\n",
    "print(\"y: \", ans1[1][dimX:])\n",
    "print(\"fx is\", fx(ans1[1][0:dimX]))"
   ]
  },
  {
   "cell_type": "code",
   "execution_count": null,
   "metadata": {},
   "outputs": [],
   "source": []
  }
 ],
 "metadata": {
  "kernelspec": {
   "display_name": "Python 3",
   "language": "python",
   "name": "python3"
  },
  "language_info": {
   "codemirror_mode": {
    "name": "ipython",
    "version": 3
   },
   "file_extension": ".py",
   "mimetype": "text/x-python",
   "name": "python",
   "nbconvert_exporter": "python",
   "pygments_lexer": "ipython3",
   "version": "3.7.4"
  }
 },
 "nbformat": 4,
 "nbformat_minor": 4
}
