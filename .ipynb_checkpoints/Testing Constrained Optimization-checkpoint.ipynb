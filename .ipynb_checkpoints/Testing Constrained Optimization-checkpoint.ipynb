{
 "cells": [
  {
   "cell_type": "code",
   "execution_count": 1,
   "metadata": {},
   "outputs": [],
   "source": [
    "# Import Libraries and Dependencies\n",
    "import constrained_optimization\n",
    "from constrained_optimization.base import*\n",
    "from constrained_optimization.generate import*"
   ]
  },
  {
   "cell_type": "code",
   "execution_count": 2,
   "metadata": {},
   "outputs": [],
   "source": [
    "def projsplx(v, s=1):\n",
    "    assert s > 0, \"Radius s must be strictly positive (%d <= 0)\" % s\n",
    "    n, = v.shape  # will raise ValueError if v is not 1-D\n",
    "    # check if we are already on the simplex\n",
    "    if v.sum() == s and np.alltrue(v >= 0):\n",
    "        # best projection: itself!\n",
    "        return v\n",
    "    # get the array of cumulative sums of a sorted (decreasing) copy of v\n",
    "    u = np.sort(v)[::-1]\n",
    "    cssv = np.cumsum(u)\n",
    "    # get the number of > 0 components of the optimal solution\n",
    "    rho = np.nonzero(u * np.arange(1, n+1) > (cssv - s))[0][-1]\n",
    "    # compute the Lagrange multiplier associated to the simplex constraint\n",
    "    theta = (cssv[rho] - s) / (rho + 1.0)\n",
    "    # compute the projection by thresholding v using theta\n",
    "    w = (v - theta).clip(min=0)\n",
    "    return w\n",
    "\n",
    "fmax = lambda x: np.clip(x,0,None)"
   ]
  },
  {
   "cell_type": "code",
   "execution_count": 3,
   "metadata": {
    "scrolled": true
   },
   "outputs": [
    {
     "name": "stdout",
     "output_type": "stream",
     "text": [
      "[0.56873681 0.56580067]\n",
      "q_temp(0):  [0.27596976 0.37369498]\n",
      "--- 0.003990888595581055 seconds ---\n"
     ]
    }
   ],
   "source": [
    "dimX = 2\n",
    "dimY = 1\n",
    "dimU = 0\n",
    "\n",
    "import time\n",
    "start_time = time.time()\n",
    "q0, p, q, r, A, b = randQCQP(dimX,dimY,True,False, dimU)\n",
    "print(\"--- %s seconds ---\" % (time.time() - start_time))\n"
   ]
  },
  {
   "cell_type": "code",
   "execution_count": 4,
   "metadata": {},
   "outputs": [],
   "source": [
    "def toQCQP_test(P_, q_, r_):\n",
    "    fx = lambda x: 0.5*x.T@P_[0]@x + q_[0]@x\n",
    "    gradf = lambda x: x.T@P_[0] + q_[0]\n",
    "    hxs = {}\n",
    "    gradhs = {}\n",
    "    for i in range(1,len(P_)):\n",
    "        hx = lambda x,i: 0.5*x.T@P_[i]@x + q_[i]@x+r_[i]\n",
    "        gradh = lambda x,i: x.T@P_[i] + q_[i]\n",
    "        hxs[i] = hx\n",
    "        gradhs[i] = gradh\n",
    "    return fx, hxs, gradf, gradhs\n",
    "fx, hx, gradf, gradh = toQCQP_test(p, q, r)\n",
    "#x = np.array([0.0,0.42087079,0.3391925,0.74888193])\n",
    "#print(hx[1](x,1))\n",
    "#fx(np.array([0.38745686, 0.64639936]))"
   ]
  },
  {
   "cell_type": "code",
   "execution_count": 5,
   "metadata": {
    "scrolled": true
   },
   "outputs": [],
   "source": [
    "#fx, hx, gradf, gradh = toQCQP(p, q, r)"
   ]
  },
  {
   "cell_type": "code",
   "execution_count": 18,
   "metadata": {},
   "outputs": [
    {
     "name": "stdout",
     "output_type": "stream",
     "text": [
      "0.0\n"
     ]
    }
   ],
   "source": [
    "prob = co_problem(fx, dimX, hx, None, gradf, gradh, A, b)\n",
    "\n",
    "x = np.ones(dimX+dimY+dimU)\n",
    "F_co, J_co = prob.get_parameters(False)\n",
    "print(hx[1](q0[:dimX],1))"
   ]
  },
  {
   "cell_type": "markdown",
   "metadata": {},
   "source": [
    "# testing framework"
   ]
  },
  {
   "cell_type": "code",
   "execution_count": 53,
   "metadata": {
    "scrolled": true
   },
   "outputs": [],
   "source": [
    "n = 10\n",
    "x = np.zeros((n,n,n,3))\n",
    "for i in range(0, n):\n",
    "    for j in range(0, n):\n",
    "        for k in range(0, n):\n",
    "            x[i,j,k] = np.array([i*1, -j*1, np.absolute(k*-1)])\n",
    "n = 10\n",
    "y = np.zeros((n,n,n,3))\n",
    "for i in range(0, n):\n",
    "    for j in range(0, n):\n",
    "        for k in range(0, n):\n",
    "            y[i,j,k] = np.array([j*10, -k*10, np.absolute(i*1)])\n",
    "\n",
    "framework = np.zeros((n,n,n,3))\n",
    "for i in range(0, n):\n",
    "    for j in range(0, n):\n",
    "        for k in range(0, n):\n",
    "            framework[i,j,k] = F_co(x[i,j,k])\n",
    "            if (F_co(x[i,j,k])-F_co(y[i,j,k]))@(x[i,j,k]-y[i,j,k]) < 0:\n",
    "                print(\"---------------ATTTENTION ERROR---------------\")\n",
    "                print(\"x: \", x[i,j,k])\n",
    "                print(\"y: \", y[i,j,k])\n",
    "                print((F_co(x[i,j,k])-F_co(y[i,j,k]))@(x[i,j,k]-y[i,j,k]))"
   ]
  },
  {
   "cell_type": "code",
   "execution_count": 54,
   "metadata": {
    "scrolled": false
   },
   "outputs": [
    {
     "data": {
      "text/plain": [
       "-0.08095349289781295"
      ]
     },
     "execution_count": 54,
     "metadata": {},
     "output_type": "execute_result"
    }
   ],
   "source": [
    "(F_co(np.array([0, 0, -1]))-F_co(np.array([0, -1, 0])))@(np.array([0, 0, -1])-np.array([0, -1, 0]))"
   ]
  },
  {
   "cell_type": "markdown",
   "metadata": {},
   "source": [
    "# manual "
   ]
  },
  {
   "cell_type": "code",
   "execution_count": 55,
   "metadata": {
    "scrolled": true
   },
   "outputs": [
    {
     "name": "stdout",
     "output_type": "stream",
     "text": [
      "-----X-----\n",
      "gf:  [0.27596976 0.37369498]\n",
      "gh*y:  [-0.31368683 -0.56103715]\n",
      "Fx:  [-0.03771707 -0.18734217]\n",
      "Fy:  0.9996190673271608\n",
      "-----Y-----\n",
      "gf:  [-0.06342988  0.18097206]\n",
      "gh*y:  [-0.  0.]\n",
      "Fx:  [-0.06342988  0.18097206]\n",
      "Fy:  1.2869798029284427\n",
      "-0.08095349289781295\n"
     ]
    }
   ],
   "source": [
    "gf = lambda x: p[0]@x + q[0]\n",
    "gh = lambda x: p[1]@x + q[1]\n",
    "h = lambda x: 0.5*x@p[1]@x + q[1]@x + r[1]\n",
    "Fx = lambda x,y: gf(x)+y*gh(x)\n",
    "Fy = lambda x: -h(x)\n",
    "x0 = np.array([0,0,-1])\n",
    "y0 = np.array([0,-1,0])\n",
    "print(\"-----X-----\")\n",
    "print(\"gf: \", gf(x0[:2]))\n",
    "print(\"gh*y: \", gh(x0[:2])*x0[2:])\n",
    "print(\"Fx: \", Fx(x0[:2],x0[2:]))\n",
    "print(\"Fy: \", Fy(x0[:2]))\n",
    "print(\"-----Y-----\")\n",
    "print(\"gf: \", gf(y0[:2]))\n",
    "print(\"gh*y: \", gh(y0[:2])*y0[2:])\n",
    "print(\"Fx: \", Fx(y0[:2],y0[2:]))\n",
    "print(\"Fy: \", Fy(y0[:2]))\n",
    "print((np.append(Fx(x0[:2], x0[2:]),Fy(x0[:2]))-np.append(Fx(y0[:2], y0[2:]),Fy(y0[:2])))@(np.append(x0[:2]-y0[:2], x0[2:]-y0[2:])))"
   ]
  },
  {
   "cell_type": "code",
   "execution_count": 56,
   "metadata": {},
   "outputs": [],
   "source": [
    "manual = np.zeros((n,n,n,3))\n",
    "diff = np.zeros((n,n,n))\n",
    "for i in range(0, n):\n",
    "    for j in range(0, n):\n",
    "        for k in range(0, n):\n",
    "            manual[i,j,k] = np.append(Fx(x[i,j,k][:2], x[i,j,k][2:]),Fy(x[i,j,k][:2]))\n",
    "            diff[i,j,k] = LA.norm(manual[i,j,k]-framework[i,j,k])\n",
    "            if diff[i,j,k] >= 1e-10:\n",
    "                print(\"---------------ATTTENTION ERROR---------------\")\n",
    "                print(\"diff: \", diff[i,j,k])\n",
    "            if (np.append(Fx(x[i,j,k][:2], x[i,j,k][2:]),Fy(x[i,j,k][:2]))-np.append(Fx(y[i,j,k][:2], y[i,j,k][2:]),Fy(y[i,j,k][:2])))@(np.append(x[i,j,k][:2]-y[i,j,k][:2], x[i,j,k][2:]-y[i,j,k][2:])) < 0:\n",
    "                print(\"---------------ATTTENTION ERROR---------------\")\n",
    "                print(\"x: \", x[i,j,k])\n",
    "                print(\"y: \", y[i,j,k])\n",
    "                print((np.append(Fx(x[i,j,k][:2], x[i,j,k][2:]),Fy(x[i,j,k][:2]))-np.append(Fx(y[i,j,k][:2], y[i,j,k][2:]),Fy(y[i,j,k][:2])))@(np.append(x[i,j,k][:2]-y[i,j,k][:2], x[i,j,k][2:]-y[i,j,k][2:])))"
   ]
  },
  {
   "cell_type": "code",
   "execution_count": 57,
   "metadata": {},
   "outputs": [
    {
     "data": {
      "text/plain": [
       "[<matplotlib.lines.Line2D at 0x183c2c2b0c8>]"
      ]
     },
     "execution_count": 57,
     "metadata": {},
     "output_type": "execute_result"
    },
    {
     "data": {
      "image/png": "[encoded data removed]",
      "text/plain": [
       "<Figure size 432x288 with 1 Axes>"
      ]
     },
     "metadata": {
      "needs_background": "light"
     },
     "output_type": "display_data"
    }
   ],
   "source": [
    "plt.plot(diff[0,0,:])"
   ]
  },
  {
   "cell_type": "code",
   "execution_count": 17,
   "metadata": {},
   "outputs": [
    {
     "name": "stdout",
     "output_type": "stream",
     "text": [
      "p(0):  [[0.97091149 0.33939964]\n",
      " [0.33939964 0.19272292]]\n",
      "q(0):  [0.27596976 0.37369498]\n",
      "p(1):  [[1.0656029  0.7577129 ]\n",
      " [0.7577129  0.54735282]]\n",
      "q(1):  [0.31368683 0.56103715]\n",
      "r(1):  -0.9996190673271608\n"
     ]
    }
   ],
   "source": [
    "print(\"p(0): \", p[0])\n",
    "print(\"q(0): \", q[0])\n",
    "print(\"p(1): \", p[1])\n",
    "print(\"q(1): \", q[1])\n",
    "print(\"r(1): \", r[1])"
   ]
  },
  {
   "cell_type": "markdown",
   "metadata": {},
   "source": [
    "## Adaptive Graal to solve VI"
   ]
  },
  {
   "cell_type": "code",
   "execution_count": 25,
   "metadata": {},
   "outputs": [],
   "source": [
    "def adaptive_graal(J, F, prox_g, x1, numb_iter=100, phi=1.5, output=False): \n",
    "    begin = perf_counter()\n",
    "    x, x_ = x1.copy(), x1.copy()\n",
    "    x0 = x + np.random.randn(x.shape[0]) * 1e-9\n",
    "    Fx = F(x)\n",
    "    la = phi / 2 * LA.norm(x - x0) / LA.norm(Fx - F(x0))\n",
    "    rho = 1. / phi + 1. / phi**2\n",
    "    values = [J(x)]\n",
    "    diff = [0]\n",
    "    time_list = [perf_counter() - begin]\n",
    "    th = 1\n",
    "\n",
    "    for i in range(numb_iter):\n",
    "        x1 = prox_g(x_ - la * Fx)\n",
    "        Fx1 = F(x1)\n",
    "        for j in range(dimY):\n",
    "            if hx[j+1](x1[:dimX], j+1) > 0:\n",
    "                print(\"UNFEASIBLE\")\n",
    "                print(\"hx: \", hx[j+1](x1[:dimX], j+1))\n",
    "                continue\n",
    "        if output:\n",
    "            print(\"iteration: \", i, \"\\n\")\n",
    "            print(\"F: \", Fx1, \"\\n\")\n",
    "            print(\"x: \", x1[:dimX], \"\\n\")\n",
    "            print(\"y: \", x1[dimX:dimX+dimY], \"\\n\")\n",
    "            print(\"u: \", x1[dimX+dimY:dimX+dimY+dimU], \"\\n\")\n",
    "            #print(\"prox: \", prox_g(x_ - la * Fx, la), \"\\n\")\n",
    "\n",
    "        n1 = LA.norm(x1 - x)**2\n",
    "        n2 = LA.norm(Fx1 - Fx)**2\n",
    "        n1_div_n2 = n1/n2 if n2 != 0 else la*10\n",
    "\n",
    "        la1 = min(rho * la, 0.25 * phi * th / la * n1_div_n2)\n",
    "        #values.append(np.linalg.norm(x_-x1)/la)\n",
    "        x_ = ((phi - 1) * x1 + x_) / phi\n",
    "        #if output:\n",
    "            #print (i, la)\n",
    "        th = phi * la1 / la\n",
    "        x, la, Fx = x1, la1, Fx1\n",
    "        #if i%50 == 0: \n",
    "            #print(\"x at iteration \", i , \": \", x)\n",
    "        temp = values[-1]\n",
    "        values.append(J(x))\n",
    "        diff.append(np.absolute(temp - values[-1]))\n",
    "        time_list.append(perf_counter() - begin)\n",
    "    end = perf_counter()\n",
    "    \n",
    "    for j in range(dimY):\n",
    "        if hx[j+1](x1[:dimX], j+1) > 0:\n",
    "            print(\"UNFEASIBLE\")\n",
    "            print(\"hx: \", hx[j+1](x1[:dimX], j+1))\n",
    "    print(\"CPU time for aGRAAL:\", end - begin)\n",
    "    return values, x, x_, time_list, diff"
   ]
  },
  {
   "cell_type": "markdown",
   "metadata": {},
   "source": [
    "## Solver of VI"
   ]
  },
  {
   "cell_type": "code",
   "execution_count": 26,
   "metadata": {},
   "outputs": [
    {
     "name": "stdout",
     "output_type": "stream",
     "text": [
      "[0.0486004  0.47600125 0.00119582 0.80008592 0.79329426 0.27760895\n",
      " 0.09008533 0.69366112 0.61090577 0.96398706 0.59965217 0.74240754\n",
      " 0.74578133 0.3821388  0.1985785  0.6573788  0.65620233 0.22948962\n",
      " 0.74874205 0.75891    1.         1.         1.         1.\n",
      " 1.        ]\n"
     ]
    }
   ],
   "source": [
    "prox_g = prob.prox\n",
    "# starting point\n",
    "N = 1000\n",
    "#q0 = np.ones(dimX + dimY+ dimU)\n",
    "#print(q0.shape)\n",
    "#for i in range(dimY):\n",
    "#    if hx[i+1](q_re, i+1) > 0:\n",
    "#        print(\"UNFEASIBLE\")\n",
    "print(q0)"
   ]
  },
  {
   "cell_type": "code",
   "execution_count": 27,
   "metadata": {
    "scrolled": true
   },
   "outputs": [
    {
     "name": "stdout",
     "output_type": "stream",
     "text": [
      "CPU time for aGRAAL: 0.1971030000000269\n"
     ]
    }
   ],
   "source": [
    "showout= False\n",
    "ans1 = adaptive_graal(J_co, F_co, prox_g, q0, numb_iter=N, phi=1.5, output=showout)"
   ]
  },
  {
   "cell_type": "code",
   "execution_count": 28,
   "metadata": {
    "scrolled": false
   },
   "outputs": [
    {
     "data": {
      "image/png": "[encoded data removed]",
      "text/plain": [
       "<Figure size 432x288 with 1 Axes>"
      ]
     },
     "metadata": {
      "needs_background": "light"
     },
     "output_type": "display_data"
    }
   ],
   "source": [
    "plt.plot(ans1[0])\n",
    "\n",
    "plt.yscale('log')\n",
    "\n",
    "plt.xlabel(u' iterations, $k$')\n",
    "plt.ylabel(u'residual')\n",
    "\n",
    "#plt.savefig('figures/nash.pdf', bbox_inches='tight')\n",
    "plt.show()\n",
    "if showout:\n",
    "    print(\"Answer is\", ans1[0][-1])\n",
    "    print(\"X is\", ans1[2])\n",
    "    print(\"fx is\", fx(ans1[2][0:dimX]))\n",
    "    #print(\"diff is\",ans1[4])"
   ]
  },
  {
   "cell_type": "code",
   "execution_count": 35,
   "metadata": {},
   "outputs": [
    {
     "name": "stdout",
     "output_type": "stream",
     "text": [
      "J is 0.25147441589924996\n",
      "FX : [-6.70981791e-175 -8.66866098e-175 -6.35471223e-175 -6.02012493e-175\n",
      " -4.43734323e-175 -1.41576954e-175 -4.27873206e-175 -3.32442624e-175\n",
      " -3.14699790e-175 -5.75298091e-175 -5.59114500e-175 -4.81505302e-175\n",
      " -1.72144591e-175 -7.66194958e-175 -7.11435295e-177 -1.34737690e-174\n",
      " -8.07989878e-175 -1.00386383e-174 -5.15552210e-175 -8.71544106e-175]\n",
      "j : 0.25267587482855125\n",
      "h  -288.2293919578839\n",
      "y:  [2.49671497e-175 3.24838497e-175 2.12392025e-175 2.44124313e-175\n",
      " 3.02312309e-175]\n",
      "fx is -1.2555401260237504\n"
     ]
    }
   ],
   "source": [
    "print(\"J is\", ans1[0][-1])\n",
    "X = np.concatenate((ans1[2][:dimX], np.zeros(10)))\n",
    "#print(X.shape)\n",
    "Z = ans1[2]\n",
    "X = ans1[2][:dimX]\n",
    "Y = ans1[2][dimX:]\n",
    "print(\"FX :\", Y[0]*gradh[1](X,1))\n",
    "print(\"j :\", LA.norm(Z-prox_g((Z-F_co(Z)))))\n",
    "k = 1\n",
    "print(\"h \", hx[k](X, k))\n",
    "print(\"y: \", ans1[2][dimX:])\n",
    "print(\"fx is\", fx(ans1[2][0:dimX]))"
   ]
  },
  {
   "cell_type": "markdown",
   "metadata": {},
   "source": [
    "(F(x)-F(y))@(x-y) >=  for any X,Y "
   ]
  },
  {
   "cell_type": "markdown",
   "metadata": {},
   "source": [
    "## Solving the QCQP"
   ]
  },
  {
   "cell_type": "code",
   "execution_count": null,
   "metadata": {},
   "outputs": [],
   "source": [
    "from scipy.optimize import minimize\n",
    "cons = []\n",
    "print(hx)\n",
    "for i in range(len(hx)):\n",
    "    temp = ({'type': 'ineq', 'fun': lambda x,i: hx[i](x,i) })\n",
    "    cons.append(temp)\n",
    "x = np.ones(dimX)\n",
    "vec = A@x\n",
    "for i in range(A.shape[0]):\n",
    "    temp = ({'type': 'eq', 'fun': lambda x,i: vec[i] })\n",
    "    cons.append(temp)\n",
    "bnds = []\n",
    "for i in range(dimX):\n",
    "    temp = ((0, None))\n",
    "    bnds.append(temp)\n",
    "res = minimize(fx, x, method='SLSQP', bounds=bnds, constraints=cons)"
   ]
  },
  {
   "cell_type": "code",
   "execution_count": null,
   "metadata": {},
   "outputs": [],
   "source": [
    "print(fx(res['x']))\n",
    "print(res['x'])\n",
    "#print(\"Answer is:\", res)"
   ]
  },
  {
   "cell_type": "markdown",
   "metadata": {},
   "source": [
    "RESTCODE\n",
    "\n",
    "*---------------------------------------------------------------------------*\n",
    "\n",
    "RESTCODE"
   ]
  },
  {
   "cell_type": "code",
   "execution_count": null,
   "metadata": {
    "scrolled": true
   },
   "outputs": [],
   "source": [
    "p, q, r, A, b = randQCQPmat(dimX,dimY,True,True, dimU)"
   ]
  },
  {
   "cell_type": "code",
   "execution_count": null,
   "metadata": {},
   "outputs": [],
   "source": [
    "\n",
    "#start_time = time.time()\n",
    "#fx, hx, gradf, gradh = toQCQPmat(p, q, r)\n",
    "#print(\"--- %s seconds ---\" % (time.time() - start_time))\n",
    "hxs = []\n",
    "gradhs = []\n",
    "for i in range(len(hx)):\n",
    "    temp = lambda x: -1*hx[i](x)\n",
    "    hxs.append(temp)\n",
    "    temp = lambda x: -1*gradh[i](x)\n",
    "    gradhs.append(temp)"
   ]
  },
  {
   "cell_type": "code",
   "execution_count": null,
   "metadata": {},
   "outputs": [],
   "source": []
  }
 ],
 "metadata": {
  "kernelspec": {
   "display_name": "Python 3",
   "language": "python",
   "name": "python3"
  },
  "language_info": {
   "codemirror_mode": {
    "name": "ipython",
    "version": 3
   },
   "file_extension": ".py",
   "mimetype": "text/x-python",
   "name": "python",
   "nbconvert_exporter": "python",
   "pygments_lexer": "ipython3",
   "version": "3.7.4"
  }
 },
 "nbformat": 4,
 "nbformat_minor": 4
}
