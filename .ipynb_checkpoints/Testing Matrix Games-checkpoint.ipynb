{
 "cells": [
  {
   "cell_type": "code",
   "execution_count": 1,
   "metadata": {},
   "outputs": [],
   "source": [
    "# Import Libraries and Dependencies\n",
    "import matrix_games\n",
    "from matrix_games.base import*\n",
    "from matrix_games.generate import*"
   ]
  },
  {
   "cell_type": "code",
   "execution_count": 56,
   "metadata": {},
   "outputs": [
    {
     "name": "stdout",
     "output_type": "stream",
     "text": [
      "Matrix A: [[ 0 -1  1]\n",
      " [ 1  0 -1]\n",
      " [-1  1  0]]\n",
      " Matrix F: [[ 0.  0.  0.  0.  1. -1.]\n",
      " [ 0.  0.  0. -1.  0.  1.]\n",
      " [ 0.  0.  0.  1. -1.  0.]\n",
      " [ 0.  1. -1.  0.  0.  0.]\n",
      " [-1.  0.  1.  0.  0.  0.]\n",
      " [ 1. -1.  0.  0.  0.  0.]]\n",
      " Proximal Operator: [0.16666667 0.16666667 0.16666667 0.16666667 0.16666667 0.16666667]\n",
      " Simplex?: True\n",
      " J Operator: 0.0\n",
      "\n",
      "[0. 0. 0. 0. 0. 0.]\n"
     ]
    }
   ],
   "source": [
    "dimN = 3\n",
    "dimM = 3\n",
    "q0 = np.ones(dimN + dimM)\n",
    "\n",
    "A = create_A(\"rock_paper_scissor\", (dimN,dimM))\n",
    "prob = mg_problem(A, \"simplex\")\n",
    "F_mg, J_mg, _, prox_g_mg = prob.get_parameters()\n",
    "print(prob)\n",
    "print(F_mg(q0))"
   ]
  },
  {
   "cell_type": "markdown",
   "metadata": {},
   "source": [
    "Adaptive Graal Implemntation"
   ]
  },
  {
   "cell_type": "code",
   "execution_count": 57,
   "metadata": {},
   "outputs": [],
   "source": [
    "def adaptive_graal(J, F, prox_g, x1, numb_iter=100, phi=1.5, output=False): \n",
    "    begin = perf_counter()\n",
    "    x, x_ = x1.copy(), x1.copy()\n",
    "    x0 = x + np.random.randn(x.shape[0]) * 1e-9\n",
    "    Fx = F(x)\n",
    "    la = phi / 2 * LA.norm(x - x0) / LA.norm(Fx - F(x0))\n",
    "    rho = 1. / phi + 1. / phi**2\n",
    "    values = [J(x)]\n",
    "    diff = [0]\n",
    "    time_list = [perf_counter() - begin]\n",
    "    th = 1\n",
    "\n",
    "    for i in range(numb_iter):\n",
    "        x1 = prox_g(x_ - la * Fx, la)\n",
    "        Fx1 = F(x1)\n",
    "        if output:\n",
    "            #print(\"F: \", Fx1, \"\\n\")\n",
    "            print(\"x: \", x1, \"\\n\")\n",
    "            print(\"sum: \", sum(x1), \"\\n\")\n",
    "            print(\"x>=0: \", np.any((x1 >= 0)))\n",
    "            #print(\"prox: \", prox_g(x_ - la * Fx, la), \"\\n\")\n",
    "\n",
    "        n1 = LA.norm(x1 - x)**2\n",
    "        n2 = LA.norm(Fx1 - Fx)**2\n",
    "        n1_div_n2 = n1/n2 if n2 != 0 else la*10\n",
    "\n",
    "        la1 = min(rho * la, 0.25 * phi * th / la * n1_div_n2)\n",
    "        x_ = ((phi - 1) * x1 + x_) / phi\n",
    "        #if output:\n",
    "            #print (i, la)\n",
    "        th = phi * la1 / la\n",
    "        x, la, Fx = x1, la1, Fx1\n",
    "        #if i%50 == 0: \n",
    "            #print(\"x at iteration \", i , \": \", x)\n",
    "        temp = values[-1]\n",
    "        values.append(J(x))\n",
    "        diff.append(np.absolute(temp - values[-1]))\n",
    "        time_list.append(perf_counter() - begin)\n",
    "    end = perf_counter()\n",
    "\n",
    "    print(\"CPU time for aGRAAL:\", end - begin)\n",
    "    return values, x, x_, time_list, diff"
   ]
  },
  {
   "cell_type": "markdown",
   "metadata": {},
   "source": [
    "Solving the VI"
   ]
  },
  {
   "cell_type": "code",
   "execution_count": 58,
   "metadata": {},
   "outputs": [],
   "source": [
    "N = 200\n",
    "\n",
    "# starting point\n",
    "q0 = np.ones(dimN + dimM)"
   ]
  },
  {
   "cell_type": "code",
   "execution_count": 59,
   "metadata": {
    "scrolled": false
   },
   "outputs": [
    {
     "ename": "ValueError",
     "evalue": "operands could not be broadcast together with shapes (15,) (6,) ",
     "output_type": "error",
     "traceback": [
      "\u001b[1;31m---------------------------------------------------------------------------\u001b[0m",
      "\u001b[1;31mValueError\u001b[0m                                Traceback (most recent call last)",
      "\u001b[1;32m<ipython-input-59-a16e9a6d2d57>\u001b[0m in \u001b[0;36m<module>\u001b[1;34m\u001b[0m\n\u001b[0;32m      1\u001b[0m \u001b[0mshow_out\u001b[0m \u001b[1;33m=\u001b[0m \u001b[1;32mTrue\u001b[0m\u001b[1;33m\u001b[0m\u001b[1;33m\u001b[0m\u001b[0m\n\u001b[1;32m----> 2\u001b[1;33m \u001b[0mans1\u001b[0m \u001b[1;33m=\u001b[0m \u001b[0madaptive_graal\u001b[0m\u001b[1;33m(\u001b[0m\u001b[0mJ_mg\u001b[0m\u001b[1;33m,\u001b[0m \u001b[0mF_mg\u001b[0m\u001b[1;33m,\u001b[0m \u001b[0mprox_g_mg\u001b[0m\u001b[1;33m,\u001b[0m \u001b[0mq0\u001b[0m\u001b[1;33m,\u001b[0m \u001b[0mnumb_iter\u001b[0m\u001b[1;33m=\u001b[0m\u001b[0mN\u001b[0m\u001b[1;33m,\u001b[0m \u001b[0mphi\u001b[0m\u001b[1;33m=\u001b[0m\u001b[1;36m1.5\u001b[0m\u001b[1;33m,\u001b[0m \u001b[0moutput\u001b[0m\u001b[1;33m=\u001b[0m\u001b[0mshow_out\u001b[0m\u001b[1;33m)\u001b[0m\u001b[1;33m\u001b[0m\u001b[1;33m\u001b[0m\u001b[0m\n\u001b[0m",
      "\u001b[1;32m<ipython-input-57-a89bd01d9622>\u001b[0m in \u001b[0;36madaptive_graal\u001b[1;34m(J, F, prox_g, x1, numb_iter, phi, output)\u001b[0m\n\u001b[0;32m     12\u001b[0m \u001b[1;33m\u001b[0m\u001b[0m\n\u001b[0;32m     13\u001b[0m     \u001b[1;32mfor\u001b[0m \u001b[0mi\u001b[0m \u001b[1;32min\u001b[0m \u001b[0mrange\u001b[0m\u001b[1;33m(\u001b[0m\u001b[0mnumb_iter\u001b[0m\u001b[1;33m)\u001b[0m\u001b[1;33m:\u001b[0m\u001b[1;33m\u001b[0m\u001b[1;33m\u001b[0m\u001b[0m\n\u001b[1;32m---> 14\u001b[1;33m         \u001b[0mx1\u001b[0m \u001b[1;33m=\u001b[0m \u001b[0mprox_g\u001b[0m\u001b[1;33m(\u001b[0m\u001b[0mx_\u001b[0m \u001b[1;33m-\u001b[0m \u001b[0mla\u001b[0m \u001b[1;33m*\u001b[0m \u001b[0mFx\u001b[0m\u001b[1;33m,\u001b[0m \u001b[0mla\u001b[0m\u001b[1;33m)\u001b[0m\u001b[1;33m\u001b[0m\u001b[1;33m\u001b[0m\u001b[0m\n\u001b[0m\u001b[0;32m     15\u001b[0m         \u001b[0mFx1\u001b[0m \u001b[1;33m=\u001b[0m \u001b[0mF\u001b[0m\u001b[1;33m(\u001b[0m\u001b[0mx1\u001b[0m\u001b[1;33m)\u001b[0m\u001b[1;33m\u001b[0m\u001b[1;33m\u001b[0m\u001b[0m\n\u001b[0;32m     16\u001b[0m         \u001b[1;32mif\u001b[0m \u001b[0moutput\u001b[0m\u001b[1;33m:\u001b[0m\u001b[1;33m\u001b[0m\u001b[1;33m\u001b[0m\u001b[0m\n",
      "\u001b[1;31mValueError\u001b[0m: operands could not be broadcast together with shapes (15,) (6,) "
     ]
    }
   ],
   "source": [
    "show_out = True\n",
    "ans1 = adaptive_graal(J_mg, F_mg, prox_g_mg, q0, numb_iter=N, phi=1.5, output=show_out)"
   ]
  },
  {
   "cell_type": "code",
   "execution_count": 54,
   "metadata": {
    "scrolled": false
   },
   "outputs": [
    {
     "name": "stdout",
     "output_type": "stream",
     "text": [
      "J(x):  0.0\n",
      "x:  [0.         0.         0.         0.         0.         0.11579083\n",
      " 0.06746005 0.06646278 0.06627799 0.16687642 0.06600042 0.25201545\n",
      " 0.06647876 0.06602543 0.06661188]\n",
      "diff:  [0, 1.458326296407335, 0.021479906960613058, 0.004725628472321632, 0.004644427758225466, 0.006913164174090612, 0.005196686555975347, 0.0, 0.0, 0.0, 0.0, 0.0, 0.0, 0.0, 0.0, 0.0, 0.0, 0.0, 0.0, 0.0, 0.0, 0.0, 0.0, 0.0, 0.0, 0.0, 0.0, 0.0, 0.0, 0.0, 0.0, 0.0, 0.0, 0.0, 0.0, 0.0, 0.0, 0.0, 0.0, 0.0, 0.0, 0.0, 0.0, 0.0, 0.0, 0.0, 0.0, 0.0, 0.0, 0.0, 0.0, 0.0, 0.0, 0.0, 0.0, 0.0, 0.0, 0.0, 0.0, 0.0, 0.0, 0.0, 0.0, 0.0, 0.0, 0.0, 0.0, 0.0, 0.0, 0.0, 0.0, 0.0, 0.0, 0.0, 0.0, 0.0, 0.0, 0.0, 0.0, 0.0, 0.0, 0.0, 0.0, 0.0, 0.0, 0.0, 0.0, 0.0, 0.0, 0.0, 0.0, 0.0, 0.0, 0.0, 0.0, 0.0, 0.0, 0.0, 0.0, 0.0, 0.0, 0.0, 0.0, 0.0, 0.0, 0.0, 0.0, 0.0, 0.0, 0.0, 0.0, 0.0, 0.0, 0.0, 0.0, 0.0, 0.0, 0.0, 0.0, 0.0, 0.0, 0.0, 0.0, 0.0, 0.0, 0.0, 0.0, 0.0, 0.0, 0.0, 0.0, 0.0, 0.0, 0.0, 0.0, 0.0, 0.0, 0.0, 0.0, 0.0, 0.0, 0.0, 0.0, 0.0, 0.0, 0.0, 0.0, 0.0, 0.0, 0.0, 0.0, 0.0, 0.0, 0.0, 0.0, 0.0, 0.0, 0.0, 0.0, 0.0, 0.0, 0.0, 0.0, 0.0, 0.0, 0.0, 0.0, 0.0, 0.0, 0.0, 0.0, 0.0, 0.0, 0.0, 0.0, 0.0, 0.0, 0.0, 0.0, 0.0, 0.0, 0.0, 0.0, 0.0, 0.0, 0.0, 0.0, 0.0, 0.0, 0.0, 0.0, 0.0, 0.0, 0.0, 0.0, 0.0, 0.0, 0.0, 0.0, 0.0, 0.0]\n"
     ]
    }
   ],
   "source": [
    "if show_out:\n",
    "    print(\"J(x): \" , ans1[0][-1])\n",
    "    print(\"x: \" ,ans1[1])\n",
    "    print(\"diff: \", ans1[4])"
   ]
  },
  {
   "cell_type": "code",
   "execution_count": 55,
   "metadata": {},
   "outputs": [
    {
     "data": {
      "image/png": "[encoded data removed]",
      "text/plain": [
       "<Figure size 432x288 with 1 Axes>"
      ]
     },
     "metadata": {
      "needs_background": "light"
     },
     "output_type": "display_data"
    }
   ],
   "source": [
    "plt.plot(ans1[0], '--b')\n",
    "\n",
    "plt.yscale('log')\n",
    "\n",
    "plt.xlabel(u' iterations, $k$')\n",
    "plt.ylabel(u'residual')\n",
    "\n",
    "#plt.savefig('figures/nash.pdf', bbox_inches='tight')\n",
    "plt.show()"
   ]
  },
  {
   "cell_type": "code",
   "execution_count": 40,
   "metadata": {},
   "outputs": [
    {
     "name": "stdout",
     "output_type": "stream",
     "text": [
      "[42.615826227159516, 0.0, 0.017159124732834194, 0.01703675180255919, 0.016454626008885642, 0.015807851552446822, 0.015089246248492255, 0.01429083663512952, 0.013403765376519189, 0.012418193384982582, 0.011350427082550602, 0.010481837929339252, 0.009630013429023504, 0.008683740083026553, 0.007632571528880812, 0.006464912477918271, 0.005167894017695459, 0.003831090896732444, 0.002651446236759487, 0.001309052439754932, 0.0004028363017124265, 1.5276143560584486e-05, 0.0, 0.0, 0.0, 0.0, 0.0, 0.0, 0.0, 0.0, 0.0, 0.0, 0.0, 0.0, 0.0, 0.0, 0.0, 0.0, 0.0, 0.0, 0.0, 0.0, 0.0, 0.0, 0.0, 0.0, 0.0, 0.0, 0.0, 0.0, 0.0, 0.0, 0.0, 0.0, 0.0, 0.0, 0.0, 0.0, 0.0, 0.0, 0.0, 0.0, 0.0, 0.0, 0.0, 0.0, 0.0, 0.0, 0.0, 0.0, 0.0, 0.0, 0.0, 0.0, 0.0, 0.0, 0.0, 0.0, 0.0, 0.0, 0.0, 0.0, 0.0, 0.0, 0.0, 0.0, 0.0, 0.0, 0.0, 0.0, 0.0, 0.0, 0.0, 0.0, 0.0, 0.0, 0.0, 0.0, 0.0, 0.0, 0.0, 0.0, 0.0, 0.0, 0.0, 0.0, 0.0, 0.0, 0.0, 0.0, 0.0, 0.0, 0.0, 0.0, 0.0, 0.0, 0.0, 0.0, 0.0, 0.0, 0.0, 0.0, 0.0, 0.0, 0.0, 0.0, 0.0, 0.0, 0.0, 0.0, 0.0, 0.0, 0.0, 0.0, 0.0, 0.0, 0.0, 0.0, 0.0, 0.0, 0.0, 0.0, 0.0, 0.0, 0.0, 0.0, 0.0, 0.0, 0.0, 0.0, 0.0, 0.0, 0.0, 0.0, 0.0, 0.0, 0.0, 0.0, 0.0, 0.0, 0.0, 0.0, 0.0, 0.0, 0.0, 0.0, 0.0, 0.0, 0.0, 0.0, 0.0, 0.0, 0.0, 0.0, 0.0, 0.0, 0.0, 0.0, 0.0, 0.0, 0.0, 0.0, 0.0, 0.0, 0.0, 0.0, 0.0, 0.0, 0.0, 0.0, 0.0, 0.0, 0.0, 0.0, 0.0, 0.0, 0.0, 0.0, 0.0, 0.0, 0.0]\n"
     ]
    }
   ],
   "source": [
    "print(ans1[0])"
   ]
  },
  {
   "cell_type": "code",
   "execution_count": null,
   "metadata": {},
   "outputs": [],
   "source": []
  }
 ],
 "metadata": {
  "kernelspec": {
   "display_name": "Python 3",
   "language": "python",
   "name": "python3"
  },
  "language_info": {
   "codemirror_mode": {
    "name": "ipython",
    "version": 3
   },
   "file_extension": ".py",
   "mimetype": "text/x-python",
   "name": "python",
   "nbconvert_exporter": "python",
   "pygments_lexer": "ipython3",
   "version": "3.7.4"
  }
 },
 "nbformat": 4,
 "nbformat_minor": 4
}
