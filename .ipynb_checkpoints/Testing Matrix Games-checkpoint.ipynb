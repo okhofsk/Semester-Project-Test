{
 "cells": [
  {
   "cell_type": "code",
   "execution_count": 1,
   "metadata": {},
   "outputs": [],
   "source": [
    "# Import Libraries and Dependencies\n",
    "import matrix_games\n",
    "from matrix_games.base import*\n",
    "from matrix_games.generate import*"
   ]
  },
  {
   "cell_type": "code",
   "execution_count": 2,
   "metadata": {},
   "outputs": [
    {
     "name": "stdout",
     "output_type": "stream",
     "text": [
      "24\n"
     ]
    }
   ],
   "source": [
    "a = np.array(range(4,25))\n",
    "print(np.max(a))"
   ]
  },
  {
   "cell_type": "code",
   "execution_count": 17,
   "metadata": {},
   "outputs": [
    {
     "name": "stdout",
     "output_type": "stream",
     "text": [
      "Matrix A: [[0.92434886 0.73403346 0.61153998 ... 0.74607212 0.87813709 0.20164442]\n",
      " [0.89418083 0.47027512 0.79256039 ... 0.27311983 0.1862989  0.95358382]\n",
      " [0.72937068 0.04339707 0.97428578 ... 0.72729664 0.84182503 0.00749596]\n",
      " ...\n",
      " [0.00380318 0.32766629 0.53505242 ... 0.69823897 0.77103168 0.12345436]\n",
      " [0.6324093  0.60828618 0.47040684 ... 0.37822586 0.37197824 0.97656815]\n",
      " [0.61496929 0.52208763 0.61271954 ... 0.35320595 0.35852567 0.58901808]]\n",
      " Matrix F: [[ 0.          0.          0.         ...  0.00380318  0.6324093\n",
      "   0.61496929]\n",
      " [ 0.          0.          0.         ...  0.32766629  0.60828618\n",
      "   0.52208763]\n",
      " [ 0.          0.          0.         ...  0.53505242  0.47040684\n",
      "   0.61271954]\n",
      " ...\n",
      " [-0.00380318 -0.32766629 -0.53505242 ...  0.          0.\n",
      "   0.        ]\n",
      " [-0.6324093  -0.60828618 -0.47040684 ...  0.          0.\n",
      "   0.        ]\n",
      " [-0.61496929 -0.52208763 -0.61271954 ...  0.          0.\n",
      "   0.        ]]\n",
      " Proximal Operator: [0.00025 0.00025 0.00025 ... 0.00025 0.00025 0.00025]\n",
      " Simplex?: True\n",
      " J Operator: 0.04408060680127629\n",
      "\n",
      "[ 1006.80564141   986.80676666   997.91404734 ...  -987.50190029\n",
      "  -982.6974207  -1009.15908374]\n"
     ]
    }
   ],
   "source": [
    "dimN = 2000\n",
    "dimM = 2000\n",
    "q0 = np.ones(dimN + dimM)\n",
    "proximal_name = \"simplex\"\n",
    "\n",
    "A = create_A(\"rand\", (dimN,dimM))\n",
    "prob = mg_problem(A, proximal_name)\n",
    "F_mg, J_mg, _, prox_g_mg = prob.get_parameters()\n",
    "print(prob)\n",
    "print(F_mg(q0))"
   ]
  },
  {
   "cell_type": "markdown",
   "metadata": {},
   "source": [
    "Adaptive Graal Implemntation"
   ]
  },
  {
   "cell_type": "code",
   "execution_count": 23,
   "metadata": {},
   "outputs": [],
   "source": [
    "def adaptive_graal(J, F, prox_g, x1, numb_iter=100, phi=1.5, output=False): \n",
    "    begin = perf_counter()\n",
    "    x, x_ = x1.copy(), x1.copy()\n",
    "    x0 = x + np.random.randn(x.shape[0]) * 1e-9\n",
    "    Fx = F(x)\n",
    "    la = phi / 2 * LA.norm(x - x0) / LA.norm(Fx - F(x0))\n",
    "    rho = 1. / phi + 1. / phi**2\n",
    "    values = [J(x)]\n",
    "    diff = [0]\n",
    "    time_list = [perf_counter() - begin]\n",
    "    th = 1\n",
    "\n",
    "    for i in range(numb_iter):\n",
    "        x1 = prox_g(x_ - la * Fx, la)\n",
    "        Fx1 = F(x1)\n",
    "        if output:\n",
    "            #print(\"F: \", Fx1, \"\\n\")\n",
    "            print(\"x: \", x1, \"\\n\")\n",
    "            print(\"sum: \", sum(x1), \"\\n\")\n",
    "            print(\"x>=0: \", np.any((x1 >= 0)))\n",
    "            #print(\"prox: \", prox_g(x_ - la * Fx, la), \"\\n\")\n",
    "\n",
    "        n1 = LA.norm(x1 - x)**2\n",
    "        n2 = LA.norm(Fx1 - Fx)**2\n",
    "        n1_div_n2 = n1/n2 if n2 != 0 else la*10\n",
    "\n",
    "        la1 = min(rho * la, 0.25 * phi * th / la * n1_div_n2)\n",
    "        x_ = ((phi - 1) * x1 + x_) / phi\n",
    "        #if output:\n",
    "            #print (i, la)\n",
    "        th = phi * la1 / la\n",
    "        x, la, Fx = x1, la1, Fx1\n",
    "        #if i%50 == 0: \n",
    "            #print(\"x at iteration \", i , \": \", x)\n",
    "        temp = values[-1]\n",
    "        values.append(J(x))\n",
    "        diff.append(np.absolute(temp - values[-1]))\n",
    "        time_list.append(perf_counter() - begin)\n",
    "    end = perf_counter()\n",
    "\n",
    "    print(\"CPU time for aGRAAL:\", end - begin)\n",
    "    return values, x, x_, time_list, diff"
   ]
  },
  {
   "cell_type": "markdown",
   "metadata": {},
   "source": [
    "Solving the VI"
   ]
  },
  {
   "cell_type": "code",
   "execution_count": 24,
   "metadata": {},
   "outputs": [],
   "source": [
    "N = 200\n",
    "\n",
    "# starting point\n",
    "q0 = np.ones(dimN + dimM)"
   ]
  },
  {
   "cell_type": "code",
   "execution_count": 25,
   "metadata": {
    "scrolled": true
   },
   "outputs": [
    {
     "ename": "TypeError",
     "evalue": "prox_g() missing 1 required positional argument: 'eps'",
     "output_type": "error",
     "traceback": [
      "\u001b[1;31m---------------------------------------------------------------------------\u001b[0m",
      "\u001b[1;31mTypeError\u001b[0m                                 Traceback (most recent call last)",
      "\u001b[1;32m<ipython-input-25-a16e9a6d2d57>\u001b[0m in \u001b[0;36m<module>\u001b[1;34m\u001b[0m\n\u001b[0;32m      1\u001b[0m \u001b[0mshow_out\u001b[0m \u001b[1;33m=\u001b[0m \u001b[1;32mTrue\u001b[0m\u001b[1;33m\u001b[0m\u001b[1;33m\u001b[0m\u001b[0m\n\u001b[1;32m----> 2\u001b[1;33m \u001b[0mans1\u001b[0m \u001b[1;33m=\u001b[0m \u001b[0madaptive_graal\u001b[0m\u001b[1;33m(\u001b[0m\u001b[0mJ_mg\u001b[0m\u001b[1;33m,\u001b[0m \u001b[0mF_mg\u001b[0m\u001b[1;33m,\u001b[0m \u001b[0mprox_g_mg\u001b[0m\u001b[1;33m,\u001b[0m \u001b[0mq0\u001b[0m\u001b[1;33m,\u001b[0m \u001b[0mnumb_iter\u001b[0m\u001b[1;33m=\u001b[0m\u001b[0mN\u001b[0m\u001b[1;33m,\u001b[0m \u001b[0mphi\u001b[0m\u001b[1;33m=\u001b[0m\u001b[1;36m1.5\u001b[0m\u001b[1;33m,\u001b[0m \u001b[0moutput\u001b[0m\u001b[1;33m=\u001b[0m\u001b[0mshow_out\u001b[0m\u001b[1;33m)\u001b[0m\u001b[1;33m\u001b[0m\u001b[1;33m\u001b[0m\u001b[0m\n\u001b[0m",
      "\u001b[1;32m<ipython-input-23-4268f8aed158>\u001b[0m in \u001b[0;36madaptive_graal\u001b[1;34m(J, F, prox_g, x1, numb_iter, phi, output)\u001b[0m\n\u001b[0;32m     12\u001b[0m \u001b[1;33m\u001b[0m\u001b[0m\n\u001b[0;32m     13\u001b[0m     \u001b[1;32mfor\u001b[0m \u001b[0mi\u001b[0m \u001b[1;32min\u001b[0m \u001b[0mrange\u001b[0m\u001b[1;33m(\u001b[0m\u001b[0mnumb_iter\u001b[0m\u001b[1;33m)\u001b[0m\u001b[1;33m:\u001b[0m\u001b[1;33m\u001b[0m\u001b[1;33m\u001b[0m\u001b[0m\n\u001b[1;32m---> 14\u001b[1;33m         \u001b[0mx1\u001b[0m \u001b[1;33m=\u001b[0m \u001b[0mprox_g\u001b[0m\u001b[1;33m(\u001b[0m\u001b[0mx_\u001b[0m \u001b[1;33m-\u001b[0m \u001b[0mla\u001b[0m \u001b[1;33m*\u001b[0m \u001b[0mFx\u001b[0m\u001b[1;33m)\u001b[0m\u001b[1;33m\u001b[0m\u001b[1;33m\u001b[0m\u001b[0m\n\u001b[0m\u001b[0;32m     15\u001b[0m         \u001b[0mFx1\u001b[0m \u001b[1;33m=\u001b[0m \u001b[0mF\u001b[0m\u001b[1;33m(\u001b[0m\u001b[0mx1\u001b[0m\u001b[1;33m)\u001b[0m\u001b[1;33m\u001b[0m\u001b[1;33m\u001b[0m\u001b[0m\n\u001b[0;32m     16\u001b[0m         \u001b[1;32mif\u001b[0m \u001b[0moutput\u001b[0m\u001b[1;33m:\u001b[0m\u001b[1;33m\u001b[0m\u001b[1;33m\u001b[0m\u001b[0m\n",
      "\u001b[1;31mTypeError\u001b[0m: prox_g() missing 1 required positional argument: 'eps'"
     ]
    }
   ],
   "source": [
    "show_out = True\n",
    "ans1 = adaptive_graal(J_mg, F_mg, prox_g_mg, q0, numb_iter=N, phi=1.5, output=show_out)"
   ]
  },
  {
   "cell_type": "code",
   "execution_count": 21,
   "metadata": {
    "scrolled": false
   },
   "outputs": [
    {
     "name": "stdout",
     "output_type": "stream",
     "text": [
      "J(x):  0.1576125672387615\n",
      "x:  [0.         0.         0.         ... 0.00033275 0.00033256 0.00033373]\n",
      "diff:  [0, 0.3734627281978324, 0.2607357979892898, 0.00023874973516979647, 0.00013278776911812562, 0.00014755363792251508, 0.00016395554283427094, 0.00018218154384885832, 0.00020243469511593837, 0.00022494071159750995, 0.0002499504985232215, 0.00027774297599086895, 0.0003086282233434323, 0.00034295098012582237, 0.00038109454498913564, 0.00042348511866840965, 0.0004705966428616426, 0.0005229561931118232, 0.0005811499908107143, 0.0006458301075511486, 0.0001953900526222574, 0.0001112326519980833, 0.0001238159382270787, 9.281055339871447e-05, 3.0161551348273363e-05, 3.2622030228357524e-05, 5.0045871856863045e-05, 5.438041075112032e-06, 8.37987275758012e-05, 0.002562272139542854, 0.00290803533989048, 0.0006523952617444873, 2.262123131607785e-05, 3.7867185415096927e-07, 5.551115123125783e-17, 2.220446049250313e-16, 1.6653345369377348e-16, 0.0, 1.6653345369377348e-16, 2.220446049250313e-16, 5.551115123125783e-17, 1.1102230246251565e-16, 0.0, 0.0, 0.0, 0.0, 0.0, 0.0, 0.0, 1.1102230246251565e-16, 1.1102230246251565e-16, 0.0, 5.551115123125783e-17, 5.551115123125783e-17, 0.0, 5.551115123125783e-17, 5.551115123125783e-17, 1.6653345369377348e-16, 1.6653345369377348e-16, 0.0, 1.1102230246251565e-16, 0.0, 1.6653345369377348e-16, 5.551115123125783e-17, 0.0, 1.1102230246251565e-16, 5.551115123125783e-17, 0.0, 1.1102230246251565e-16, 0.0, 5.551115123125783e-17, 0.0, 5.551115123125783e-17, 0.0, 0.0, 0.0, 2.220446049250313e-16, 1.6653345369377348e-16, 5.551115123125783e-17, 0.0, 0.0, 5.551115123125783e-17, 0.0, 5.551115123125783e-17, 5.551115123125783e-17, 5.551115123125783e-17, 0.0, 5.551115123125783e-17, 1.1102230246251565e-16, 5.551115123125783e-17, 0.0, 1.1102230246251565e-16, 0.0, 3.3306690738754696e-16, 1.1102230246251565e-16, 2.220446049250313e-16, 2.220446049250313e-16, 1.6653345369377348e-16, 5.551115123125783e-17, 5.551115123125783e-17, 0.0, 5.551115123125783e-17, 1.1102230246251565e-16, 1.1102230246251565e-16, 0.0, 5.551115123125783e-17, 1.6653345369377348e-16, 0.0, 5.551115123125783e-17, 5.551115123125783e-17, 5.551115123125783e-17, 5.551115123125783e-17, 0.0, 0.0, 0.0, 0.0, 0.0, 0.0, 0.0, 0.0, 0.0, 0.0, 0.0, 0.0, 0.0, 0.0, 0.0, 0.0, 0.0, 0.0, 0.0, 0.0, 0.0, 0.0, 0.0, 0.0, 0.0, 0.0, 0.0, 0.0, 0.0, 0.0, 0.0, 0.0, 0.0, 0.0, 0.0, 0.0, 0.0, 0.0, 0.0, 0.0, 0.0, 0.0, 0.0, 0.0, 0.0, 0.0, 0.0, 0.0, 0.0, 0.0, 0.0, 0.0, 0.0, 0.0, 0.0, 0.0, 0.0, 0.0, 0.0, 0.0, 0.0, 0.0, 0.0, 0.0, 0.0, 0.0, 0.0, 0.0, 0.0, 0.0, 0.0, 0.0, 0.0, 0.0, 0.0, 0.0, 0.0, 0.0, 0.0, 0.0, 0.0, 0.0, 0.0, 0.0, 0.0, 0.0, 0.0, 0.0, 0.0]\n"
     ]
    }
   ],
   "source": [
    "if show_out:\n",
    "    print(\"J(x): \" , ans1[0][-1])\n",
    "    print(\"x: \" ,ans1[1])\n",
    "    print(\"diff: \", ans1[4])"
   ]
  },
  {
   "cell_type": "code",
   "execution_count": 22,
   "metadata": {},
   "outputs": [
    {
     "data": {
      "image/png": "[encoded data removed]",
      "text/plain": [
       "<Figure size 432x288 with 1 Axes>"
      ]
     },
     "metadata": {
      "needs_background": "light"
     },
     "output_type": "display_data"
    }
   ],
   "source": [
    "plt.plot(ans1[0], '--b')\n",
    "\n",
    "plt.yscale('log')\n",
    "\n",
    "plt.xlabel(u' iterations, $k$')\n",
    "plt.ylabel(u'residual')\n",
    "\n",
    "#plt.savefig('figures/nash.pdf', bbox_inches='tight')\n",
    "plt.show()"
   ]
  },
  {
   "cell_type": "code",
   "execution_count": 10,
   "metadata": {},
   "outputs": [
    {
     "name": "stdout",
     "output_type": "stream",
     "text": [
      "[0.09254932533120652, 0.43843037455439143, 0.1954550844905319, 0.19552681875542166, 0.1954839152370465, 0.19543623720892112, 0.1953832845710412, 0.195324476625845, 0.19525916943409444, 0.19518664907059524, 0.19510612421564982, 0.19501671800993037, 0.19491745911148628, 0.19480727189148228, 0.1946849657043329, 0.19454922316818485, 0.19439858739377947, 0.19437626600902513, 0.19479854468340552, 0.19537903914871402, 0.19565123991747047, 0.1956873453510548, 0.19568823051395717, 0.19568823051395712, 0.19568823051395706, 0.1956882305139569, 0.195688230513957, 0.19568823051395712, 0.19568823051395717, 0.195688230513957, 0.19568823051395712, 0.19568823051395717, 0.1956882305139569, 0.19568823051395706, 0.19568823051395706, 0.19568823051395695, 0.19568823051395695, 0.19568823051395717, 0.1956882305139569, 0.19568823051395712, 0.19568823051395695, 0.195688230513958, 0.19568823051395728, 0.19568823051395717, 0.19568823051395717, 0.19568823051395717, 0.19568823051395728, 0.19568823051395717, 0.19568823051395728, 0.19568823051395712, 0.195688230513957, 0.19568823051395717, 0.19568823051395728, 0.19568823051395706, 0.19568823051395712, 0.19568823051395706, 0.19568823051395734, 0.1956882305139574, 0.19568823051395712, 0.19568823051395706, 0.19568823051395717, 0.19568823051395712, 0.19568823051395728, 0.19568823051395717, 0.19568823051395695, 0.19568823051395706, 0.19568823051395712, 0.195688230513957, 0.19568823051395695, 0.19568823051395712, 0.19568823051395712, 0.19568823051395717, 0.19568823051395712, 0.19568823051395717, 0.19568823051395728, 0.19568823051395712, 0.1956882305139574, 0.19568823051395717, 0.19568823051395728, 0.19568823051395695, 0.19568823051395734, 0.19568823051395717, 0.19568823051395734, 0.19568823051395734, 0.19568823051395695, 0.19568823051395706, 0.19568823051395717, 0.19568823051395728, 0.19568823051395706, 0.19568823051395706, 0.19568823051395717, 0.19568823051395717, 0.19568823051395717, 0.1956882305139569, 0.19568823051395728, 0.19568823051395706, 0.19568823051395706, 0.19568823051395712, 0.19568823051395723, 0.195688230513957, 0.19568823051395734, 0.19568823051395734, 0.19568823051395695, 0.19568823051395728, 0.19568823051395728, 0.195688230513957, 0.19568823051395728, 0.19568823051395734, 0.1956882305139569, 0.195688230513957, 0.19568823051395712, 0.19568823051395717, 0.19568823051395712, 0.19568823051395717, 0.19568823051395712, 0.19568823051395717, 0.19568823051395712, 0.19568823051395717, 0.19568823051395712, 0.19568823051395717, 0.19568823051395712, 0.19568823051395717, 0.19568823051395712, 0.19568823051395717, 0.19568823051395712, 0.19568823051395717, 0.19568823051395712, 0.19568823051395717, 0.19568823051395712, 0.19568823051395717, 0.19568823051395712, 0.19568823051395717, 0.19568823051395712, 0.19568823051395717, 0.19568823051395712, 0.19568823051395717, 0.19568823051395712, 0.19568823051395717, 0.19568823051395712, 0.19568823051395717, 0.19568823051395712, 0.19568823051395717, 0.19568823051395712, 0.19568823051395717, 0.19568823051395712, 0.19568823051395717, 0.19568823051395712, 0.19568823051395717, 0.19568823051395712, 0.19568823051395717, 0.19568823051395712, 0.19568823051395717, 0.19568823051395712, 0.19568823051395717, 0.19568823051395712, 0.19568823051395717, 0.19568823051395712, 0.19568823051395717, 0.19568823051395712, 0.19568823051395717, 0.19568823051395712, 0.19568823051395717, 0.19568823051395712, 0.19568823051395717, 0.19568823051395712, 0.19568823051395717, 0.19568823051395712, 0.19568823051395717, 0.19568823051395712, 0.19568823051395717, 0.19568823051395712, 0.19568823051395717, 0.19568823051395712, 0.19568823051395717, 0.19568823051395712, 0.19568823051395717, 0.19568823051395712, 0.19568823051395717, 0.19568823051395712, 0.19568823051395717, 0.19568823051395712, 0.19568823051395717, 0.19568823051395712, 0.19568823051395717, 0.19568823051395712, 0.19568823051395717, 0.19568823051395712, 0.19568823051395717, 0.19568823051395712, 0.19568823051395717, 0.19568823051395712, 0.19568823051395717, 0.19568823051395712, 0.19568823051395717, 0.19568823051395712, 0.19568823051395717, 0.19568823051395712, 0.19568823051395717, 0.19568823051395712, 0.19568823051395717, 0.19568823051395712]\n"
     ]
    }
   ],
   "source": [
    "print(ans1[0])"
   ]
  },
  {
   "cell_type": "code",
   "execution_count": null,
   "metadata": {},
   "outputs": [],
   "source": []
  },
  {
   "cell_type": "code",
   "execution_count": null,
   "metadata": {},
   "outputs": [],
   "source": []
  }
 ],
 "metadata": {
  "kernelspec": {
   "display_name": "Python 3",
   "language": "python",
   "name": "python3"
  },
  "language_info": {
   "codemirror_mode": {
    "name": "ipython",
    "version": 3
   },
   "file_extension": ".py",
   "mimetype": "text/x-python",
   "name": "python",
   "nbconvert_exporter": "python",
   "pygments_lexer": "ipython3",
   "version": "3.7.4"
  }
 },
 "nbformat": 4,
 "nbformat_minor": 4
}
