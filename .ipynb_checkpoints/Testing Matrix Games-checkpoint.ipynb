{
 "cells": [
  {
   "cell_type": "code",
   "execution_count": 1,
   "metadata": {},
   "outputs": [],
   "source": [
    "# Import Libraries and Dependencies\n",
    "from vilib.matrix_games.base import mg_problem\n",
    "from vilib.matrix_games.generate import*\n",
    "import numpy as np\n",
    "import matplotlib.pyplot as plt\n",
    "from time import perf_counter\n",
    "import numpy.linalg as LA"
   ]
  },
  {
   "cell_type": "code",
   "execution_count": 2,
   "metadata": {
    "scrolled": true
   },
   "outputs": [
    {
     "data": {
      "text/plain": [
       "(array([[-9.12325954,  4.94352879, -3.55179341],\n",
       "        [ 0.90652262, -3.23800687,  6.28126637],\n",
       "        [ 8.18824634, -7.04355413, -4.51569194]]),\n",
       " <function vilib.matrix_games.base.intern_Fx.<locals>.operator(q)>,\n",
       " array([[ 0.        ,  0.        ,  0.        , -9.12325954,  0.90652262,\n",
       "          8.18824634],\n",
       "        [ 0.        ,  0.        ,  0.        ,  4.94352879, -3.23800687,\n",
       "         -7.04355413],\n",
       "        [ 0.        ,  0.        ,  0.        , -3.55179341,  6.28126637,\n",
       "         -4.51569194],\n",
       "        [ 9.12325954, -4.94352879,  3.55179341,  0.        ,  0.        ,\n",
       "          0.        ],\n",
       "        [-0.90652262,  3.23800687, -6.28126637,  0.        ,  0.        ,\n",
       "          0.        ],\n",
       "        [-8.18824634,  7.04355413,  4.51569194,  0.        ,  0.        ,\n",
       "          0.        ]]),\n",
       " <function vilib.matrix_games.base.intern_J.<locals>.J(q)>,\n",
       " <function vilib.matrix_games.base.intern_proxg.<locals>.prox_g(q, eps)>)"
      ]
     },
     "execution_count": 2,
     "metadata": {},
     "output_type": "execute_result"
    }
   ],
   "source": [
    "dimN = 3\n",
    "dimM = 3\n",
    "q0 = np.ones(dimN + dimM)\n",
    "proximal_name = \"simplex\"\n",
    "\n",
    "#A = create_A(\"rand_sparse\", (dimN,dimM))\n",
    "prob = mg_problem(\"rand\", proximal_name, (dimN, dimM), \"plusuniform\")\n",
    "#filepaths = [\"test.h5\", \"testT.h5\", False]\n",
    "#prob = mg_problem(\"load_harddisk\", proximal_name, (dimN, dimM), filepaths)\n",
    "F_mg, J_mg, prox_g_mg = prob.get_parameters()\n",
    "prob.get_all()"
   ]
  },
  {
   "cell_type": "code",
   "execution_count": 3,
   "metadata": {},
   "outputs": [
    {
     "name": "stdout",
     "output_type": "stream",
     "text": [
      "<function intern_proxg.<locals>.prox_g at 0x000001EF4CD754C8>\n",
      "Matrix A: [[-9.12325954  4.94352879 -3.55179341]\n",
      " [ 0.90652262 -3.23800687  6.28126637]\n",
      " [ 8.18824634 -7.04355413 -4.51569194]]\n",
      " Matrix F: [-0.02849058 -5.3380322  -1.78621898  7.73152416 -3.94978212  3.37099972]\n",
      " Proximal Operator: [0.33333333 0.33333333 0.33333333 0.33333333 0.33333333 0.33333333]\n",
      " Simplex?: True\n",
      " J Operator: 9.287814317811048\n",
      "\n",
      "[-0.02849058 -5.3380322  -1.78621898  7.73152416 -3.94978212  3.37099972]\n"
     ]
    }
   ],
   "source": [
    "print(prox_g_mg)\n",
    "print(prob)\n",
    "print(F_mg(q0))"
   ]
  },
  {
   "cell_type": "markdown",
   "metadata": {},
   "source": [
    "Adaptive Graal Implemntation"
   ]
  },
  {
   "cell_type": "code",
   "execution_count": 10,
   "metadata": {},
   "outputs": [],
   "source": [
    "def adaptive_graal(J, F, prox_g, x1, numb_iter=100, phi=1.5, output=False): \n",
    "    begin = perf_counter()\n",
    "    x, x_ = x1.copy(), x1.copy()\n",
    "    x0 = x + np.random.randn(x.shape[0]) * 1e-9\n",
    "    Fx = F(x)\n",
    "    la = phi / 2 * LA.norm(x - x0) / LA.norm(Fx - F(x0))\n",
    "    rho = 1. / phi + 1. / phi**2\n",
    "    values = [J(x)]\n",
    "    diff = [0]\n",
    "    time_list = [perf_counter() - begin]\n",
    "    th = 1\n",
    "\n",
    "    for i in range(numb_iter):\n",
    "        x1 = prox_g(x_ - la * Fx, la)\n",
    "        Fx1 = F(x1)\n",
    "        if output:\n",
    "            #print(\"F: \", Fx1, \"\\n\")\n",
    "            print(\"x: \", x1, \"\\n\")\n",
    "            print(\"sum: \", sum(x1), \"\\n\")\n",
    "            print(\"x>=0: \", np.any((x1 >= 0)))\n",
    "            #print(\"prox: \", prox_g(x_ - la * Fx, la), \"\\n\")\n",
    "\n",
    "        n1 = LA.norm(x1 - x)**2\n",
    "        n2 = LA.norm(Fx1 - Fx)**2\n",
    "        n1_div_n2 = n1/n2 if n2 != 0 else la*10\n",
    "\n",
    "        la1 = min(rho * la, 0.25 * phi * th / la * n1_div_n2)\n",
    "        x_ = ((phi - 1) * x1 + x_) / phi\n",
    "        #if output:\n",
    "            #print (i, la)\n",
    "        th = phi * la1 / la\n",
    "        x, la, Fx = x1, la1, Fx1\n",
    "        #if i%50 == 0: \n",
    "            #print(\"x at iteration \", i , \": \", x)\n",
    "        temp = values[-1]\n",
    "        values.append(J(x))\n",
    "        diff.append(np.absolute(temp - values[-1]))\n",
    "        time_list.append(perf_counter() - begin)\n",
    "    end = perf_counter()\n",
    "\n",
    "    print(\"CPU time for aGRAAL:\", end - begin)\n",
    "    return values, x, x_, time_list, diff"
   ]
  },
  {
   "cell_type": "markdown",
   "metadata": {},
   "source": [
    "Solving the VI"
   ]
  },
  {
   "cell_type": "code",
   "execution_count": 11,
   "metadata": {},
   "outputs": [],
   "source": [
    "N = 10000\n",
    "\n",
    "# starting point\n",
    "q0 = prox_g_mg(np.ones(dimN + dimM),1)"
   ]
  },
  {
   "cell_type": "code",
   "execution_count": 12,
   "metadata": {
    "scrolled": true
   },
   "outputs": [
    {
     "name": "stdout",
     "output_type": "stream",
     "text": [
      "CPU time for aGRAAL: 1.4421546000000003\n"
     ]
    }
   ],
   "source": [
    "show_out = False\n",
    "ans1 = adaptive_graal(J_mg, F_mg, prox_g_mg, q0, numb_iter=N, phi=1.5, output=show_out)"
   ]
  },
  {
   "cell_type": "code",
   "execution_count": 13,
   "metadata": {
    "scrolled": false
   },
   "outputs": [],
   "source": [
    "if show_out:\n",
    "    print(\"J(x): \" , ans1[0][-1])\n",
    "    print(\"x: \" ,ans1[1])\n",
    "    print(\"diff: \", ans1[4])"
   ]
  },
  {
   "cell_type": "code",
   "execution_count": 14,
   "metadata": {},
   "outputs": [
    {
     "data": {
      "image/png": "[encoded data removed]",
      "text/plain": [
       "<Figure size 432x288 with 1 Axes>"
      ]
     },
     "metadata": {
      "needs_background": "light"
     },
     "output_type": "display_data"
    }
   ],
   "source": [
    "plt.plot(ans1[0], '--b')\n",
    "\n",
    "plt.yscale('log')\n",
    "\n",
    "plt.xlabel(u' iterations, $k$')\n",
    "plt.ylabel(u'residual')\n",
    "\n",
    "#plt.savefig('figures/nash.pdf', bbox_inches='tight')\n",
    "plt.show()"
   ]
  },
  {
   "cell_type": "markdown",
   "metadata": {},
   "source": [
    "Linesearch"
   ]
  },
  {
   "cell_type": "code",
   "execution_count": null,
   "metadata": {},
   "outputs": [],
   "source": [
    "def tseng_fbf_linesearch(J, F, prox_g, x0, delta=2, numb_iter=100):\n",
    "    \"\"\"\n",
    "    Tseng's forward-backward-forward algorithm with linesearch for\n",
    "    monotone inclusion $0 \\in F + \\partial g.\n",
    "    Notice that FBF algorithm in this form works only for Nash\n",
    "    problem, as every time we project x onto the nonnegative orthant\n",
    "    to make it feasible.\n",
    "    \n",
    "    Input \n",
    "    -----\n",
    "    J : function that computes residual in every iteration.\n",
    "        Takes x as input.\n",
    "    F : main operator.\n",
    "        Takes x as input.\n",
    "    prox_g: proximal operator.\n",
    "        Takes two parameters x and a scalar as input.\n",
    "    x0: Strating point.\n",
    "        np.array, must be consistent with J, F and prox_g.\n",
    "    delta: a positive number.\n",
    "        Allows stepsize to increase from iteration to iteration. \n",
    "    numb_iter: number of iteration to run rhe algorithm.\n",
    "    Return\n",
    "    ------\n",
    "    iterates: a list of \n",
    "        values (another list that collects all values J(x)), \n",
    "        x : last iterate.\n",
    "        la : a positive number, last stepsize.\n",
    "        n_F: number of F evaluated in total.\n",
    "        n_prox: number of proximal maps evaluated in total.\n",
    "    \"\"\"\n",
    "    begin = perf_counter()\n",
    "    beta = 0.7\n",
    "    theta = 0.99\n",
    "\n",
    "    x1 = x0 + np.random.randn(x0.shape[0]) * 1e-9\n",
    "    Fx = F(x0)\n",
    "\n",
    "    la0 = LA.norm(F(x1)-Fx)/ LA.norm(x1-x0)\n",
    "    iterates = [[J(x0)], x0, la0, 1, 0]\n",
    "\n",
    "    def iter_T(values, x, la, n_F, n_prox):\n",
    "        Fx = F(x)\n",
    "        la *= delta\n",
    "        for j in range(100):\n",
    "            z = prox_g(x - la * Fx, la)\n",
    "            Fz = F(z)\n",
    "            if la * LA.norm(Fz - Fx) <= theta * LA.norm(z - x):\n",
    "                break\n",
    "            else:\n",
    "                la *= beta\n",
    "        #x1 = z - la * (Fz - Fx)\n",
    "        x1 = np.fmax(z - la * (Fz - Fx), 0)\n",
    "        # print j, la\n",
    "        values.append(J(z))\n",
    "        # n_f += j+1\n",
    "        n_F += j + 2\n",
    "        n_prox += j + 1\n",
    "        ans = [values, x1, la,  n_F, n_prox]\n",
    "        return ans\n",
    "\n",
    "    for i in range(numb_iter):\n",
    "        iterates = iter_T(*iterates)\n",
    "\n",
    "    end = perf_counter()\n",
    "    #print(\"---- FBF ----\")\n",
    "    #print(\"Number of iterations:\", numb_iter)\n",
    "    #print(\"Number of gradients, n_grad:\", iterates[-2])\n",
    "    #print(\"Number of prox_g:\", iterates[-1])\n",
    "    print(\"CPU time for FBF:\", end - begin)\n",
    "    return iterates"
   ]
  },
  {
   "cell_type": "code",
   "execution_count": null,
   "metadata": {},
   "outputs": [],
   "source": [
    "N = 1000\n",
    "show_out = False\n",
    "q0 = prox_g_mg(np.ones(dimN + dimM),1)\n",
    "ans1 = tseng_fbf_linesearch(J_mg, F_mg, prox_g_mg, q0, 2, N)"
   ]
  },
  {
   "cell_type": "code",
   "execution_count": null,
   "metadata": {},
   "outputs": [],
   "source": [
    "plt.plot(ans1[0], '--b')\n",
    "\n",
    "plt.yscale('log')\n",
    "\n",
    "plt.xlabel(u' iterations, $k$')\n",
    "plt.ylabel(u'residual')\n",
    "\n",
    "#plt.savefig('figures/nash.pdf', bbox_inches='tight')\n",
    "plt.show()"
   ]
  },
  {
   "cell_type": "markdown",
   "metadata": {},
   "source": [
    "ExtraGradient Method"
   ]
  },
  {
   "cell_type": "code",
   "execution_count": null,
   "metadata": {},
   "outputs": [],
   "source": [
    "def extra_gradient_method(J, F, prox_g, x1, numb_iter,output):\n",
    "    begin = perf_counter()\n",
    "    x, x_ = x1.copy(), x1.copy()\n",
    "    x0 = x + np.random.randn(x.shape[0]) * 1e-9\n",
    "    Fx = F(x)\n",
    "    la = 2e-2\n",
    "    values = [J(x)]\n",
    "    diff = [0]\n",
    "    time_list = [perf_counter() - begin]\n",
    "    s = 0\n",
    "    scount = 0\n",
    "\n",
    "    for i in range(numb_iter):\n",
    "        y = prox_g(x_ - la * Fx, la)\n",
    "        Fy = F(y)\n",
    "        x1 = prox_g(x_ - la * Fy, la)\n",
    "        Fx1 = F(x1)\n",
    "        if output:\n",
    "            #print(\"F: \", Fx1, \"\\n\")\n",
    "            print(\"x: \", x1, \"\\n\")\n",
    "            print(\"sum: \", sum(x1), \"\\n\")\n",
    "            print(\"x>=0: \", np.any((x1 >= 0)))\n",
    "            print(\"prox: \", prox_g(x_ - la * Fx, la), \"\\n\")\n",
    "        \n",
    "        x_, Fx = x1, Fx1#, la1\n",
    "        #if i%50 == 0: \n",
    "            #print(\"x at iteration \", i , \": \", x)\n",
    "        temp = values[-1]\n",
    "        values.append(J(x))\n",
    "        diff.append(np.absolute(temp - values[-1]))\n",
    "        time_list.append(perf_counter() - begin)\n",
    "    end = perf_counter()\n",
    "\n",
    "    print(\"CPU time for aGRAAL:\", end - begin)\n",
    "    return values, x, x_, time_list, diff"
   ]
  },
  {
   "cell_type": "code",
   "execution_count": null,
   "metadata": {},
   "outputs": [],
   "source": [
    "N = 1000\n",
    "\n",
    "# starting point\n",
    "q0 = prox_g_mg(np.ones(dimN + dimM),1)\n",
    "show_out = False\n",
    "ans1 = extra_gradient_method(J_mg, F_mg, prox_g_mg, q0, N, show_out)"
   ]
  },
  {
   "cell_type": "code",
   "execution_count": null,
   "metadata": {},
   "outputs": [],
   "source": [
    "plt.plot(ans1[0], '--b')\n",
    "\n",
    "plt.yscale('log')\n",
    "\n",
    "plt.xlabel(u' iterations, $k$')\n",
    "plt.ylabel(u'residual')\n",
    "\n",
    "#plt.savefig('figures/nash.pdf', bbox_inches='tight')\n",
    "plt.show()"
   ]
  },
  {
   "cell_type": "code",
   "execution_count": null,
   "metadata": {},
   "outputs": [],
   "source": []
  },
  {
   "cell_type": "code",
   "execution_count": null,
   "metadata": {},
   "outputs": [],
   "source": []
  }
 ],
 "metadata": {
  "kernelspec": {
   "display_name": "Python 3",
   "language": "python",
   "name": "python3"
  },
  "language_info": {
   "codemirror_mode": {
    "name": "ipython",
    "version": 3
   },
   "file_extension": ".py",
   "mimetype": "text/x-python",
   "name": "python",
   "nbconvert_exporter": "python",
   "pygments_lexer": "ipython3",
   "version": "3.7.4"
  }
 },
 "nbformat": 4,
 "nbformat_minor": 4
}
