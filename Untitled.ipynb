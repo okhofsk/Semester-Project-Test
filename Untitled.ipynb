{
 "cells": [
  {
   "cell_type": "code",
   "execution_count": 1,
   "metadata": {},
   "outputs": [],
   "source": [
    "# Import Libraries and Dependencies\n",
    "from vilib.matrix_games.base import mg_problem\n",
    "from vilib.matrix_games.generate import*\n",
    "import numpy as np\n",
    "import matplotlib.pyplot as plt\n",
    "from time import perf_counter\n",
    "import numpy.linalg as LA\n",
    "from solvers import *"
   ]
  },
  {
   "cell_type": "code",
   "execution_count": null,
   "metadata": {},
   "outputs": [
    {
     "name": "stdout",
     "output_type": "stream",
     "text": [
      "---Matrix A saved in 'matA.h5'---\n",
      "At: 13.67%\r"
     ]
    }
   ],
   "source": [
    "dimN = 100000\n",
    "dimM = 100000\n",
    "q0 = np.ones(dimN + dimM)\n",
    "proximal_name = \"simplex\"\n",
    "\n",
    "#prob = mg_problem(\"rand\", proximal_name, (dimN, dimM), \"plusuniform\")\n",
    "filepaths = [\"test.h5\", \"testT.h5\", False]\n",
    "prob = mg_problem(\"harddisk\", proximal_name, (dimN, dimM))\n",
    "F_mg, J_mg, prox_g_mg = prob.get_parameters()"
   ]
  },
  {
   "cell_type": "code",
   "execution_count": null,
   "metadata": {},
   "outputs": [],
   "source": [
    "N = 100\n",
    "\n",
    "# starting point\n",
    "q0 = prox_g_mg(np.ones(dimN + dimM),1)"
   ]
  },
  {
   "cell_type": "code",
   "execution_count": null,
   "metadata": {},
   "outputs": [],
   "source": [
    "show_out = False\n",
    "ans0 = adaptive_graal(J_mg, F_mg, prox_g_mg, q0, N, phi=1.5, output=show_out)\n",
    "ans1 = tseng_fbf_linesearch(J_mg, F_mg, prox_g_mg, q0, 2, N)\n",
    "ans2 = extra_gradient_method(J_mg, F_mg, prox_g_mg, q0, N, show_out)"
   ]
  },
  {
   "cell_type": "code",
   "execution_count": null,
   "metadata": {},
   "outputs": [],
   "source": [
    "plt.plot(ans0[0], '--b')\n",
    "plt.plot(ans1[0], '--r')\n",
    "plt.plot(ans2[0], '--g')\n",
    "\n",
    "plt.yscale('log')\n",
    "\n",
    "plt.xlabel(u' iterations, $k$')\n",
    "plt.ylabel(u'residual')\n",
    "\n",
    "#plt.savefig('figures/nash.pdf', bbox_inches='tight')\n",
    "plt.show()"
   ]
  },
  {
   "cell_type": "code",
   "execution_count": null,
   "metadata": {},
   "outputs": [],
   "source": []
  },
  {
   "cell_type": "code",
   "execution_count": null,
   "metadata": {},
   "outputs": [],
   "source": []
  }
 ],
 "metadata": {
  "kernelspec": {
   "display_name": "Python 3",
   "language": "python",
   "name": "python3"
  },
  "language_info": {
   "codemirror_mode": {
    "name": "ipython",
    "version": 3
   },
   "file_extension": ".py",
   "mimetype": "text/x-python",
   "name": "python",
   "nbconvert_exporter": "python",
   "pygments_lexer": "ipython3",
   "version": "3.7.4"
  }
 },
 "nbformat": 4,
 "nbformat_minor": 4
}
